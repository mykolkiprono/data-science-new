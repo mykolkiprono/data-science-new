{
 "cells": [
  {
   "cell_type": "code",
   "execution_count": 73,
   "metadata": {},
   "outputs": [],
   "source": [
    "import pandas as pd\n",
    "import numpy as np\n",
    "import matplotlib.pyplot as plt\n",
    "import seaborn as sns"
   ]
  },
  {
   "cell_type": "code",
   "execution_count": 74,
   "metadata": {},
   "outputs": [
    {
     "data": {
      "text/html": [
       "<div>\n",
       "<style scoped>\n",
       "    .dataframe tbody tr th:only-of-type {\n",
       "        vertical-align: middle;\n",
       "    }\n",
       "\n",
       "    .dataframe tbody tr th {\n",
       "        vertical-align: top;\n",
       "    }\n",
       "\n",
       "    .dataframe thead th {\n",
       "        text-align: right;\n",
       "    }\n",
       "</style>\n",
       "<table border=\"1\" class=\"dataframe\">\n",
       "  <thead>\n",
       "    <tr style=\"text-align: right;\">\n",
       "      <th></th>\n",
       "      <th>Unnamed: 0</th>\n",
       "      <th>Gender</th>\n",
       "      <th>Age</th>\n",
       "      <th>Studies</th>\n",
       "      <th>Nationality</th>\n",
       "      <th>Administrative_situation</th>\n",
       "      <th>Working</th>\n",
       "    </tr>\n",
       "  </thead>\n",
       "  <tbody>\n",
       "    <tr>\n",
       "      <th>0</th>\n",
       "      <td>0</td>\n",
       "      <td>Women</td>\n",
       "      <td>51-65</td>\n",
       "      <td>College</td>\n",
       "      <td>España</td>\n",
       "      <td>Community</td>\n",
       "      <td>No</td>\n",
       "    </tr>\n",
       "    <tr>\n",
       "      <th>1</th>\n",
       "      <td>1</td>\n",
       "      <td>Women</td>\n",
       "      <td>51-65</td>\n",
       "      <td>College</td>\n",
       "      <td>Venezuela</td>\n",
       "      <td>ART</td>\n",
       "      <td>No</td>\n",
       "    </tr>\n",
       "    <tr>\n",
       "      <th>2</th>\n",
       "      <td>2</td>\n",
       "      <td>Women</td>\n",
       "      <td>18-30</td>\n",
       "      <td>Pre-college</td>\n",
       "      <td>Honduras</td>\n",
       "      <td>Refugee</td>\n",
       "      <td>No</td>\n",
       "    </tr>\n",
       "    <tr>\n",
       "      <th>3</th>\n",
       "      <td>3</td>\n",
       "      <td>Women</td>\n",
       "      <td>18-30</td>\n",
       "      <td>Pre-college</td>\n",
       "      <td>Venezuela</td>\n",
       "      <td>Community</td>\n",
       "      <td>No</td>\n",
       "    </tr>\n",
       "    <tr>\n",
       "      <th>4</th>\n",
       "      <td>4</td>\n",
       "      <td>Women</td>\n",
       "      <td>18-30</td>\n",
       "      <td>Pre-college</td>\n",
       "      <td>República Dominicana</td>\n",
       "      <td>Community_familiar</td>\n",
       "      <td>No</td>\n",
       "    </tr>\n",
       "  </tbody>\n",
       "</table>\n",
       "</div>"
      ],
      "text/plain": [
       "   Unnamed: 0 Gender    Age      Studies           Nationality  \\\n",
       "0           0  Women  51-65      College                España   \n",
       "1           1  Women  51-65      College             Venezuela   \n",
       "2           2  Women  18-30  Pre-college              Honduras   \n",
       "3           3  Women  18-30  Pre-college             Venezuela   \n",
       "4           4  Women  18-30  Pre-college  República Dominicana   \n",
       "\n",
       "  Administrative_situation Working  \n",
       "0                Community      No  \n",
       "1                      ART      No  \n",
       "2                  Refugee      No  \n",
       "3                Community      No  \n",
       "4       Community_familiar      No  "
      ]
     },
     "execution_count": 74,
     "metadata": {},
     "output_type": "execute_result"
    }
   ],
   "source": [
    "data = pd.read_csv(\"/home/mike/Downloads/data/archive(8)/Immigration_Madrid_2021.csv\")\n",
    "data.head()"
   ]
  },
  {
   "cell_type": "code",
   "execution_count": 75,
   "metadata": {},
   "outputs": [
    {
     "name": "stdout",
     "output_type": "stream",
     "text": [
      "<class 'pandas.core.frame.DataFrame'>\n",
      "RangeIndex: 1523 entries, 0 to 1522\n",
      "Data columns (total 7 columns):\n",
      " #   Column                    Non-Null Count  Dtype \n",
      "---  ------                    --------------  ----- \n",
      " 0   Unnamed: 0                1523 non-null   int64 \n",
      " 1   Gender                    1523 non-null   object\n",
      " 2   Age                       1523 non-null   object\n",
      " 3   Studies                   1523 non-null   object\n",
      " 4   Nationality               1523 non-null   object\n",
      " 5   Administrative_situation  1523 non-null   object\n",
      " 6   Working                   1523 non-null   object\n",
      "dtypes: int64(1), object(6)\n",
      "memory usage: 83.4+ KB\n"
     ]
    }
   ],
   "source": [
    "data.info()"
   ]
  },
  {
   "cell_type": "code",
   "execution_count": 76,
   "metadata": {},
   "outputs": [
    {
     "data": {
      "text/plain": [
       "<matplotlib.axes._subplots.AxesSubplot at 0x7fd744df8250>"
      ]
     },
     "execution_count": 76,
     "metadata": {},
     "output_type": "execute_result"
    },
    {
     "data": {
      "image/png": "[encoded data removed]",
      "text/plain": [
       "<Figure size 432x288 with 1 Axes>"
      ]
     },
     "metadata": {
      "needs_background": "light"
     },
     "output_type": "display_data"
    }
   ],
   "source": [
    "sns.countplot(data[\"Working\"].astype('category'))"
   ]
  },
  {
   "cell_type": "code",
   "execution_count": 77,
   "metadata": {},
   "outputs": [
    {
     "data": {
      "text/plain": [
       "<matplotlib.axes._subplots.AxesSubplot at 0x7fd744de8610>"
      ]
     },
     "execution_count": 77,
     "metadata": {},
     "output_type": "execute_result"
    },
    {
     "data": {
      "image/png": "[encoded data removed]",
      "text/plain": [
       "<Figure size 432x288 with 1 Axes>"
      ]
     },
     "metadata": {
      "needs_background": "light"
     },
     "output_type": "display_data"
    }
   ],
   "source": [
    "sns.countplot(data[\"Nationality\"].astype('category'))"
   ]
  },
  {
   "cell_type": "code",
   "execution_count": 78,
   "metadata": {},
   "outputs": [
    {
     "data": {
      "image/png": "[encoded data removed]",
      "text/plain": [
       "<Figure size 720x360 with 1 Axes>"
      ]
     },
     "metadata": {},
     "output_type": "display_data"
    }
   ],
   "source": [
    "sex_count = data.Gender.value_counts()\n",
    "sex_count.plot(kind= 'pie', figsize=(10, 5), autopct= '%1.1f%%')\n",
    "plt.title('sex distribution')\n",
    "plt.show()"
   ]
  },
  {
   "cell_type": "code",
   "execution_count": 79,
   "metadata": {},
   "outputs": [
    {
     "data": {
      "text/html": [
       "<div>\n",
       "<style scoped>\n",
       "    .dataframe tbody tr th:only-of-type {\n",
       "        vertical-align: middle;\n",
       "    }\n",
       "\n",
       "    .dataframe tbody tr th {\n",
       "        vertical-align: top;\n",
       "    }\n",
       "\n",
       "    .dataframe thead th {\n",
       "        text-align: right;\n",
       "    }\n",
       "</style>\n",
       "<table border=\"1\" class=\"dataframe\">\n",
       "  <thead>\n",
       "    <tr style=\"text-align: right;\">\n",
       "      <th></th>\n",
       "      <th>Unnamed: 0</th>\n",
       "      <th>Gender</th>\n",
       "      <th>Age</th>\n",
       "      <th>Studies</th>\n",
       "      <th>Nationality</th>\n",
       "      <th>Administrative_situation</th>\n",
       "      <th>Working</th>\n",
       "    </tr>\n",
       "  </thead>\n",
       "  <tbody>\n",
       "    <tr>\n",
       "      <th>0</th>\n",
       "      <td>0</td>\n",
       "      <td>Women</td>\n",
       "      <td>51-65</td>\n",
       "      <td>College</td>\n",
       "      <td>España</td>\n",
       "      <td>Community</td>\n",
       "      <td>No</td>\n",
       "    </tr>\n",
       "    <tr>\n",
       "      <th>1</th>\n",
       "      <td>1</td>\n",
       "      <td>Women</td>\n",
       "      <td>51-65</td>\n",
       "      <td>College</td>\n",
       "      <td>Venezuela</td>\n",
       "      <td>ART</td>\n",
       "      <td>No</td>\n",
       "    </tr>\n",
       "    <tr>\n",
       "      <th>2</th>\n",
       "      <td>2</td>\n",
       "      <td>Women</td>\n",
       "      <td>18-30</td>\n",
       "      <td>Pre-college</td>\n",
       "      <td>Honduras</td>\n",
       "      <td>Refugee</td>\n",
       "      <td>No</td>\n",
       "    </tr>\n",
       "    <tr>\n",
       "      <th>3</th>\n",
       "      <td>3</td>\n",
       "      <td>Women</td>\n",
       "      <td>18-30</td>\n",
       "      <td>Pre-college</td>\n",
       "      <td>Venezuela</td>\n",
       "      <td>Community</td>\n",
       "      <td>No</td>\n",
       "    </tr>\n",
       "    <tr>\n",
       "      <th>4</th>\n",
       "      <td>4</td>\n",
       "      <td>Women</td>\n",
       "      <td>18-30</td>\n",
       "      <td>Pre-college</td>\n",
       "      <td>República Dominicana</td>\n",
       "      <td>Community_familiar</td>\n",
       "      <td>No</td>\n",
       "    </tr>\n",
       "  </tbody>\n",
       "</table>\n",
       "</div>"
      ],
      "text/plain": [
       "   Unnamed: 0 Gender    Age      Studies           Nationality  \\\n",
       "0           0  Women  51-65      College                España   \n",
       "1           1  Women  51-65      College             Venezuela   \n",
       "2           2  Women  18-30  Pre-college              Honduras   \n",
       "3           3  Women  18-30  Pre-college             Venezuela   \n",
       "4           4  Women  18-30  Pre-college  República Dominicana   \n",
       "\n",
       "  Administrative_situation Working  \n",
       "0                Community      No  \n",
       "1                      ART      No  \n",
       "2                  Refugee      No  \n",
       "3                Community      No  \n",
       "4       Community_familiar      No  "
      ]
     },
     "execution_count": 79,
     "metadata": {},
     "output_type": "execute_result"
    }
   ],
   "source": [
    "data.head()"
   ]
  },
  {
   "cell_type": "code",
   "execution_count": 80,
   "metadata": {},
   "outputs": [
    {
     "data": {
      "text/plain": [
       "Pre-college            524\n",
       "College                326\n",
       "High-school            311\n",
       "Elementary_school      210\n",
       "Vocational_training    125\n",
       "No_studies              24\n",
       "Unknown                  3\n",
       "Name: Studies, dtype: int64"
      ]
     },
     "execution_count": 80,
     "metadata": {},
     "output_type": "execute_result"
    }
   ],
   "source": [
    "data.Studies.value_counts()"
   ]
  },
  {
   "cell_type": "code",
   "execution_count": 81,
   "metadata": {},
   "outputs": [],
   "source": [
    "data.loc[data.Age=='18-30', 'Age']='adult'\n",
    "data.loc[data.Age=='51-65', 'Age']='old'\n",
    "data.loc[data.Age=='4-17', 'Age']='child'\n",
    "data.loc[data.Age==' + 65', 'Age']='very_old'\n",
    "data.loc[data.Age=='31-50', 'Age']='grown_up'"
   ]
  },
  {
   "cell_type": "code",
   "execution_count": 82,
   "metadata": {},
   "outputs": [
    {
     "data": {
      "text/plain": [
       "adult       855\n",
       "grown_up    453\n",
       "old         163\n",
       "child        49\n",
       "very_old      3\n",
       "Name: Age, dtype: int64"
      ]
     },
     "execution_count": 82,
     "metadata": {},
     "output_type": "execute_result"
    }
   ],
   "source": [
    "data.Age.value_counts()"
   ]
  },
  {
   "cell_type": "code",
   "execution_count": 83,
   "metadata": {},
   "outputs": [],
   "source": [
    "data.drop(data.columns[[0]], axis=1, inplace=True)"
   ]
  },
  {
   "cell_type": "code",
   "execution_count": 84,
   "metadata": {},
   "outputs": [
    {
     "data": {
      "text/plain": [
       "Index(['Gender', 'Age', 'Studies', 'Nationality', 'Administrative_situation',\n",
       "       'Working'],\n",
       "      dtype='object')"
      ]
     },
     "execution_count": 84,
     "metadata": {},
     "output_type": "execute_result"
    }
   ],
   "source": [
    "data.columns"
   ]
  },
  {
   "cell_type": "code",
   "execution_count": 85,
   "metadata": {},
   "outputs": [],
   "source": [
    "data = data.astype(\"category\")"
   ]
  },
  {
   "cell_type": "code",
   "execution_count": 86,
   "metadata": {},
   "outputs": [
    {
     "name": "stdout",
     "output_type": "stream",
     "text": [
      "<class 'pandas.core.frame.DataFrame'>\n",
      "RangeIndex: 1523 entries, 0 to 1522\n",
      "Data columns (total 6 columns):\n",
      " #   Column                    Non-Null Count  Dtype   \n",
      "---  ------                    --------------  -----   \n",
      " 0   Gender                    1523 non-null   category\n",
      " 1   Age                       1523 non-null   category\n",
      " 2   Studies                   1523 non-null   category\n",
      " 3   Nationality               1523 non-null   category\n",
      " 4   Administrative_situation  1523 non-null   category\n",
      " 5   Working                   1523 non-null   category\n",
      "dtypes: category(6)\n",
      "memory usage: 11.6 KB\n"
     ]
    }
   ],
   "source": [
    "data.info()"
   ]
  },
  {
   "cell_type": "code",
   "execution_count": 87,
   "metadata": {},
   "outputs": [],
   "source": [
    "data = pd.get_dummies(data,  drop_first=True)"
   ]
  },
  {
   "cell_type": "code",
   "execution_count": 88,
   "metadata": {},
   "outputs": [
    {
     "data": {
      "text/html": [
       "<div>\n",
       "<style scoped>\n",
       "    .dataframe tbody tr th:only-of-type {\n",
       "        vertical-align: middle;\n",
       "    }\n",
       "\n",
       "    .dataframe tbody tr th {\n",
       "        vertical-align: top;\n",
       "    }\n",
       "\n",
       "    .dataframe thead th {\n",
       "        text-align: right;\n",
       "    }\n",
       "</style>\n",
       "<table border=\"1\" class=\"dataframe\">\n",
       "  <thead>\n",
       "    <tr style=\"text-align: right;\">\n",
       "      <th></th>\n",
       "      <th>Gender_Women</th>\n",
       "      <th>Age_child</th>\n",
       "      <th>Age_grown_up</th>\n",
       "      <th>Age_old</th>\n",
       "      <th>Age_very_old</th>\n",
       "      <th>Studies_Elementary_school</th>\n",
       "      <th>Studies_High-school</th>\n",
       "      <th>Studies_No_studies</th>\n",
       "      <th>Studies_Pre-college</th>\n",
       "      <th>Studies_Unknown</th>\n",
       "      <th>...</th>\n",
       "      <th>Nationality_Somalia</th>\n",
       "      <th>Nationality_Togo</th>\n",
       "      <th>Nationality_Ucrania</th>\n",
       "      <th>Nationality_Venezuela</th>\n",
       "      <th>Administrative_situation_Community</th>\n",
       "      <th>Administrative_situation_Community_familiar</th>\n",
       "      <th>Administrative_situation_Irregular</th>\n",
       "      <th>Administrative_situation_Refugee</th>\n",
       "      <th>Administrative_situation_Student</th>\n",
       "      <th>Working_Yes</th>\n",
       "    </tr>\n",
       "  </thead>\n",
       "  <tbody>\n",
       "    <tr>\n",
       "      <th>0</th>\n",
       "      <td>1</td>\n",
       "      <td>0</td>\n",
       "      <td>0</td>\n",
       "      <td>1</td>\n",
       "      <td>0</td>\n",
       "      <td>0</td>\n",
       "      <td>0</td>\n",
       "      <td>0</td>\n",
       "      <td>0</td>\n",
       "      <td>0</td>\n",
       "      <td>...</td>\n",
       "      <td>0</td>\n",
       "      <td>0</td>\n",
       "      <td>0</td>\n",
       "      <td>0</td>\n",
       "      <td>1</td>\n",
       "      <td>0</td>\n",
       "      <td>0</td>\n",
       "      <td>0</td>\n",
       "      <td>0</td>\n",
       "      <td>0</td>\n",
       "    </tr>\n",
       "    <tr>\n",
       "      <th>1</th>\n",
       "      <td>1</td>\n",
       "      <td>0</td>\n",
       "      <td>0</td>\n",
       "      <td>1</td>\n",
       "      <td>0</td>\n",
       "      <td>0</td>\n",
       "      <td>0</td>\n",
       "      <td>0</td>\n",
       "      <td>0</td>\n",
       "      <td>0</td>\n",
       "      <td>...</td>\n",
       "      <td>0</td>\n",
       "      <td>0</td>\n",
       "      <td>0</td>\n",
       "      <td>1</td>\n",
       "      <td>0</td>\n",
       "      <td>0</td>\n",
       "      <td>0</td>\n",
       "      <td>0</td>\n",
       "      <td>0</td>\n",
       "      <td>0</td>\n",
       "    </tr>\n",
       "    <tr>\n",
       "      <th>2</th>\n",
       "      <td>1</td>\n",
       "      <td>0</td>\n",
       "      <td>0</td>\n",
       "      <td>0</td>\n",
       "      <td>0</td>\n",
       "      <td>0</td>\n",
       "      <td>0</td>\n",
       "      <td>0</td>\n",
       "      <td>1</td>\n",
       "      <td>0</td>\n",
       "      <td>...</td>\n",
       "      <td>0</td>\n",
       "      <td>0</td>\n",
       "      <td>0</td>\n",
       "      <td>0</td>\n",
       "      <td>0</td>\n",
       "      <td>0</td>\n",
       "      <td>0</td>\n",
       "      <td>1</td>\n",
       "      <td>0</td>\n",
       "      <td>0</td>\n",
       "    </tr>\n",
       "    <tr>\n",
       "      <th>3</th>\n",
       "      <td>1</td>\n",
       "      <td>0</td>\n",
       "      <td>0</td>\n",
       "      <td>0</td>\n",
       "      <td>0</td>\n",
       "      <td>0</td>\n",
       "      <td>0</td>\n",
       "      <td>0</td>\n",
       "      <td>1</td>\n",
       "      <td>0</td>\n",
       "      <td>...</td>\n",
       "      <td>0</td>\n",
       "      <td>0</td>\n",
       "      <td>0</td>\n",
       "      <td>1</td>\n",
       "      <td>1</td>\n",
       "      <td>0</td>\n",
       "      <td>0</td>\n",
       "      <td>0</td>\n",
       "      <td>0</td>\n",
       "      <td>0</td>\n",
       "    </tr>\n",
       "    <tr>\n",
       "      <th>4</th>\n",
       "      <td>1</td>\n",
       "      <td>0</td>\n",
       "      <td>0</td>\n",
       "      <td>0</td>\n",
       "      <td>0</td>\n",
       "      <td>0</td>\n",
       "      <td>0</td>\n",
       "      <td>0</td>\n",
       "      <td>1</td>\n",
       "      <td>0</td>\n",
       "      <td>...</td>\n",
       "      <td>0</td>\n",
       "      <td>0</td>\n",
       "      <td>0</td>\n",
       "      <td>0</td>\n",
       "      <td>0</td>\n",
       "      <td>1</td>\n",
       "      <td>0</td>\n",
       "      <td>0</td>\n",
       "      <td>0</td>\n",
       "      <td>0</td>\n",
       "    </tr>\n",
       "    <tr>\n",
       "      <th>...</th>\n",
       "      <td>...</td>\n",
       "      <td>...</td>\n",
       "      <td>...</td>\n",
       "      <td>...</td>\n",
       "      <td>...</td>\n",
       "      <td>...</td>\n",
       "      <td>...</td>\n",
       "      <td>...</td>\n",
       "      <td>...</td>\n",
       "      <td>...</td>\n",
       "      <td>...</td>\n",
       "      <td>...</td>\n",
       "      <td>...</td>\n",
       "      <td>...</td>\n",
       "      <td>...</td>\n",
       "      <td>...</td>\n",
       "      <td>...</td>\n",
       "      <td>...</td>\n",
       "      <td>...</td>\n",
       "      <td>...</td>\n",
       "      <td>...</td>\n",
       "    </tr>\n",
       "    <tr>\n",
       "      <th>1518</th>\n",
       "      <td>1</td>\n",
       "      <td>0</td>\n",
       "      <td>0</td>\n",
       "      <td>0</td>\n",
       "      <td>0</td>\n",
       "      <td>1</td>\n",
       "      <td>0</td>\n",
       "      <td>0</td>\n",
       "      <td>0</td>\n",
       "      <td>0</td>\n",
       "      <td>...</td>\n",
       "      <td>0</td>\n",
       "      <td>0</td>\n",
       "      <td>0</td>\n",
       "      <td>0</td>\n",
       "      <td>1</td>\n",
       "      <td>0</td>\n",
       "      <td>0</td>\n",
       "      <td>0</td>\n",
       "      <td>0</td>\n",
       "      <td>0</td>\n",
       "    </tr>\n",
       "    <tr>\n",
       "      <th>1519</th>\n",
       "      <td>1</td>\n",
       "      <td>0</td>\n",
       "      <td>0</td>\n",
       "      <td>0</td>\n",
       "      <td>0</td>\n",
       "      <td>1</td>\n",
       "      <td>0</td>\n",
       "      <td>0</td>\n",
       "      <td>0</td>\n",
       "      <td>0</td>\n",
       "      <td>...</td>\n",
       "      <td>0</td>\n",
       "      <td>0</td>\n",
       "      <td>0</td>\n",
       "      <td>0</td>\n",
       "      <td>1</td>\n",
       "      <td>0</td>\n",
       "      <td>0</td>\n",
       "      <td>0</td>\n",
       "      <td>0</td>\n",
       "      <td>0</td>\n",
       "    </tr>\n",
       "    <tr>\n",
       "      <th>1520</th>\n",
       "      <td>1</td>\n",
       "      <td>0</td>\n",
       "      <td>0</td>\n",
       "      <td>0</td>\n",
       "      <td>0</td>\n",
       "      <td>1</td>\n",
       "      <td>0</td>\n",
       "      <td>0</td>\n",
       "      <td>0</td>\n",
       "      <td>0</td>\n",
       "      <td>...</td>\n",
       "      <td>0</td>\n",
       "      <td>0</td>\n",
       "      <td>0</td>\n",
       "      <td>0</td>\n",
       "      <td>1</td>\n",
       "      <td>0</td>\n",
       "      <td>0</td>\n",
       "      <td>0</td>\n",
       "      <td>0</td>\n",
       "      <td>0</td>\n",
       "    </tr>\n",
       "    <tr>\n",
       "      <th>1521</th>\n",
       "      <td>1</td>\n",
       "      <td>0</td>\n",
       "      <td>0</td>\n",
       "      <td>0</td>\n",
       "      <td>0</td>\n",
       "      <td>1</td>\n",
       "      <td>0</td>\n",
       "      <td>0</td>\n",
       "      <td>0</td>\n",
       "      <td>0</td>\n",
       "      <td>...</td>\n",
       "      <td>0</td>\n",
       "      <td>0</td>\n",
       "      <td>0</td>\n",
       "      <td>0</td>\n",
       "      <td>1</td>\n",
       "      <td>0</td>\n",
       "      <td>0</td>\n",
       "      <td>0</td>\n",
       "      <td>0</td>\n",
       "      <td>0</td>\n",
       "    </tr>\n",
       "    <tr>\n",
       "      <th>1522</th>\n",
       "      <td>1</td>\n",
       "      <td>0</td>\n",
       "      <td>0</td>\n",
       "      <td>0</td>\n",
       "      <td>0</td>\n",
       "      <td>1</td>\n",
       "      <td>0</td>\n",
       "      <td>0</td>\n",
       "      <td>0</td>\n",
       "      <td>0</td>\n",
       "      <td>...</td>\n",
       "      <td>0</td>\n",
       "      <td>0</td>\n",
       "      <td>0</td>\n",
       "      <td>0</td>\n",
       "      <td>1</td>\n",
       "      <td>0</td>\n",
       "      <td>0</td>\n",
       "      <td>0</td>\n",
       "      <td>0</td>\n",
       "      <td>0</td>\n",
       "    </tr>\n",
       "  </tbody>\n",
       "</table>\n",
       "<p>1523 rows × 62 columns</p>\n",
       "</div>"
      ],
      "text/plain": [
       "      Gender_Women  Age_child  Age_grown_up  Age_old  Age_very_old  \\\n",
       "0                1          0             0        1             0   \n",
       "1                1          0             0        1             0   \n",
       "2                1          0             0        0             0   \n",
       "3                1          0             0        0             0   \n",
       "4                1          0             0        0             0   \n",
       "...            ...        ...           ...      ...           ...   \n",
       "1518             1          0             0        0             0   \n",
       "1519             1          0             0        0             0   \n",
       "1520             1          0             0        0             0   \n",
       "1521             1          0             0        0             0   \n",
       "1522             1          0             0        0             0   \n",
       "\n",
       "      Studies_Elementary_school  Studies_High-school  Studies_No_studies  \\\n",
       "0                             0                    0                   0   \n",
       "1                             0                    0                   0   \n",
       "2                             0                    0                   0   \n",
       "3                             0                    0                   0   \n",
       "4                             0                    0                   0   \n",
       "...                         ...                  ...                 ...   \n",
       "1518                          1                    0                   0   \n",
       "1519                          1                    0                   0   \n",
       "1520                          1                    0                   0   \n",
       "1521                          1                    0                   0   \n",
       "1522                          1                    0                   0   \n",
       "\n",
       "      Studies_Pre-college  Studies_Unknown  ...  Nationality_Somalia  \\\n",
       "0                       0                0  ...                    0   \n",
       "1                       0                0  ...                    0   \n",
       "2                       1                0  ...                    0   \n",
       "3                       1                0  ...                    0   \n",
       "4                       1                0  ...                    0   \n",
       "...                   ...              ...  ...                  ...   \n",
       "1518                    0                0  ...                    0   \n",
       "1519                    0                0  ...                    0   \n",
       "1520                    0                0  ...                    0   \n",
       "1521                    0                0  ...                    0   \n",
       "1522                    0                0  ...                    0   \n",
       "\n",
       "      Nationality_Togo  Nationality_Ucrania  Nationality_Venezuela  \\\n",
       "0                    0                    0                      0   \n",
       "1                    0                    0                      1   \n",
       "2                    0                    0                      0   \n",
       "3                    0                    0                      1   \n",
       "4                    0                    0                      0   \n",
       "...                ...                  ...                    ...   \n",
       "1518                 0                    0                      0   \n",
       "1519                 0                    0                      0   \n",
       "1520                 0                    0                      0   \n",
       "1521                 0                    0                      0   \n",
       "1522                 0                    0                      0   \n",
       "\n",
       "      Administrative_situation_Community  \\\n",
       "0                                      1   \n",
       "1                                      0   \n",
       "2                                      0   \n",
       "3                                      1   \n",
       "4                                      0   \n",
       "...                                  ...   \n",
       "1518                                   1   \n",
       "1519                                   1   \n",
       "1520                                   1   \n",
       "1521                                   1   \n",
       "1522                                   1   \n",
       "\n",
       "      Administrative_situation_Community_familiar  \\\n",
       "0                                               0   \n",
       "1                                               0   \n",
       "2                                               0   \n",
       "3                                               0   \n",
       "4                                               1   \n",
       "...                                           ...   \n",
       "1518                                            0   \n",
       "1519                                            0   \n",
       "1520                                            0   \n",
       "1521                                            0   \n",
       "1522                                            0   \n",
       "\n",
       "      Administrative_situation_Irregular  Administrative_situation_Refugee  \\\n",
       "0                                      0                                 0   \n",
       "1                                      0                                 0   \n",
       "2                                      0                                 1   \n",
       "3                                      0                                 0   \n",
       "4                                      0                                 0   \n",
       "...                                  ...                               ...   \n",
       "1518                                   0                                 0   \n",
       "1519                                   0                                 0   \n",
       "1520                                   0                                 0   \n",
       "1521                                   0                                 0   \n",
       "1522                                   0                                 0   \n",
       "\n",
       "      Administrative_situation_Student  Working_Yes  \n",
       "0                                    0            0  \n",
       "1                                    0            0  \n",
       "2                                    0            0  \n",
       "3                                    0            0  \n",
       "4                                    0            0  \n",
       "...                                ...          ...  \n",
       "1518                                 0            0  \n",
       "1519                                 0            0  \n",
       "1520                                 0            0  \n",
       "1521                                 0            0  \n",
       "1522                                 0            0  \n",
       "\n",
       "[1523 rows x 62 columns]"
      ]
     },
     "execution_count": 88,
     "metadata": {},
     "output_type": "execute_result"
    }
   ],
   "source": [
    "data"
   ]
  },
  {
   "cell_type": "code",
   "execution_count": 90,
   "metadata": {},
   "outputs": [],
   "source": [
    "y = data[['Working_Yes']]"
   ]
  },
  {
   "cell_type": "code",
   "execution_count": 91,
   "metadata": {},
   "outputs": [
    {
     "data": {
      "text/plain": [
       "Index(['Gender_Women', 'Age_child', 'Age_grown_up', 'Age_old', 'Age_very_old',\n",
       "       'Studies_Elementary_school', 'Studies_High-school',\n",
       "       'Studies_No_studies', 'Studies_Pre-college', 'Studies_Unknown',\n",
       "       'Studies_Vocational_training', 'Nationality_Argentina',\n",
       "       'Nationality_Bangladesh', 'Nationality_Bolivia', 'Nationality_Brasil',\n",
       "       'Nationality_Cabo Verde', 'Nationality_Camerún', 'Nationality_Chile',\n",
       "       'Nationality_China', 'Nationality_Colombia', 'Nationality_Costa Rica',\n",
       "       'Nationality_Costa de Marfil', 'Nationality_Cuba',\n",
       "       'Nationality_Ecuador', 'Nationality_El Salvador', 'Nationality_España',\n",
       "       'Nationality_Filipinas', 'Nationality_Gambia', 'Nationality_Guatemala',\n",
       "       'Nationality_Guinea', 'Nationality_Guinea Bissau',\n",
       "       'Nationality_Guinea Ecuatorial', 'Nationality_Honduras',\n",
       "       'Nationality_India', 'Nationality_Jamaica', 'Nationality_Kenya',\n",
       "       'Nationality_Malí', 'Nationality_Marruecos', 'Nationality_Nicaragua',\n",
       "       'Nationality_Nigeria', 'Nationality_Paraguay', 'Nationality_Perú',\n",
       "       'Nationality_Polonia', 'Nationality_Portugal',\n",
       "       'Nationality_República Democrática del Congo',\n",
       "       'Nationality_República Dominicana', 'Nationality_República de Corea',\n",
       "       'Nationality_República Árabe Siria', 'Nationality_Rumania',\n",
       "       'Nationality_Sahara', 'Nationality_Senegal', 'Nationality_Sierra Leona',\n",
       "       'Nationality_Somalia', 'Nationality_Togo', 'Nationality_Ucrania',\n",
       "       'Nationality_Venezuela', 'Administrative_situation_Community',\n",
       "       'Administrative_situation_Community_familiar',\n",
       "       'Administrative_situation_Irregular',\n",
       "       'Administrative_situation_Refugee', 'Administrative_situation_Student',\n",
       "       'Working_Yes'],\n",
       "      dtype='object')"
      ]
     },
     "execution_count": 91,
     "metadata": {},
     "output_type": "execute_result"
    }
   ],
   "source": [
    "data.columns"
   ]
  },
  {
   "cell_type": "code",
   "execution_count": 92,
   "metadata": {},
   "outputs": [],
   "source": [
    "X = data[['Gender_Women', 'Age_child', 'Age_grown_up', 'Age_old', 'Age_very_old',\n",
    "       'Studies_Elementary_school', 'Studies_High-school',\n",
    "       'Studies_No_studies', 'Studies_Pre-college', 'Studies_Unknown',\n",
    "       'Studies_Vocational_training', 'Nationality_Argentina',\n",
    "       'Nationality_Bangladesh', 'Nationality_Bolivia', 'Nationality_Brasil',\n",
    "       'Nationality_Cabo Verde', 'Nationality_Camerún', 'Nationality_Chile',\n",
    "       'Nationality_China', 'Nationality_Colombia', 'Nationality_Costa Rica',\n",
    "       'Nationality_Costa de Marfil', 'Nationality_Cuba',\n",
    "       'Nationality_Ecuador', 'Nationality_El Salvador', 'Nationality_España',\n",
    "       'Nationality_Filipinas', 'Nationality_Gambia', 'Nationality_Guatemala',\n",
    "       'Nationality_Guinea', 'Nationality_Guinea Bissau',\n",
    "       'Nationality_Guinea Ecuatorial', 'Nationality_Honduras',\n",
    "       'Nationality_India', 'Nationality_Jamaica', 'Nationality_Kenya',\n",
    "       'Nationality_Malí', 'Nationality_Marruecos', 'Nationality_Nicaragua',\n",
    "       'Nationality_Nigeria', 'Nationality_Paraguay', 'Nationality_Perú',\n",
    "       'Nationality_Polonia', 'Nationality_Portugal',\n",
    "       'Nationality_República Democrática del Congo',\n",
    "       'Nationality_República Dominicana', 'Nationality_República de Corea',\n",
    "       'Nationality_República Árabe Siria', 'Nationality_Rumania',\n",
    "       'Nationality_Sahara', 'Nationality_Senegal', 'Nationality_Sierra Leona',\n",
    "       'Nationality_Somalia', 'Nationality_Togo', 'Nationality_Ucrania',\n",
    "       'Nationality_Venezuela', 'Administrative_situation_Community',\n",
    "       'Administrative_situation_Community_familiar',\n",
    "       'Administrative_situation_Irregular',\n",
    "       'Administrative_situation_Refugee', 'Administrative_situation_Student']]"
   ]
  },
  {
   "cell_type": "code",
   "execution_count": 93,
   "metadata": {},
   "outputs": [],
   "source": [
    "X = data.values"
   ]
  },
  {
   "cell_type": "code",
   "execution_count": 94,
   "metadata": {},
   "outputs": [
    {
     "data": {
      "text/plain": [
       "array([[1, 0, 0, ..., 0, 0, 0],\n",
       "       [1, 0, 0, ..., 0, 0, 0],\n",
       "       [1, 0, 0, ..., 1, 0, 0],\n",
       "       ...,\n",
       "       [1, 0, 0, ..., 0, 0, 0],\n",
       "       [1, 0, 0, ..., 0, 0, 0],\n",
       "       [1, 0, 0, ..., 0, 0, 0]], dtype=uint8)"
      ]
     },
     "execution_count": 94,
     "metadata": {},
     "output_type": "execute_result"
    }
   ],
   "source": [
    "X"
   ]
  },
  {
   "cell_type": "code",
   "execution_count": 95,
   "metadata": {},
   "outputs": [],
   "source": [
    "y = y.values"
   ]
  },
  {
   "cell_type": "code",
   "execution_count": 96,
   "metadata": {},
   "outputs": [
    {
     "data": {
      "text/plain": [
       "array([[0],\n",
       "       [0],\n",
       "       [0],\n",
       "       ...,\n",
       "       [0],\n",
       "       [0],\n",
       "       [0]], dtype=uint8)"
      ]
     },
     "execution_count": 96,
     "metadata": {},
     "output_type": "execute_result"
    }
   ],
   "source": [
    "y"
   ]
  },
  {
   "cell_type": "code",
   "execution_count": 97,
   "metadata": {},
   "outputs": [],
   "source": [
    "from sklearn import linear_model"
   ]
  },
  {
   "cell_type": "code",
   "execution_count": 98,
   "metadata": {},
   "outputs": [
    {
     "name": "stderr",
     "output_type": "stream",
     "text": [
      "/home/mike/anaconda3/lib/python3.7/site-packages/sklearn/utils/validation.py:760: DataConversionWarning: A column-vector y was passed when a 1d array was expected. Please change the shape of y to (n_samples, ), for example using ravel().\n",
      "  y = column_or_1d(y, warn=True)\n"
     ]
    },
    {
     "data": {
      "text/plain": [
       "1.0"
      ]
     },
     "execution_count": 98,
     "metadata": {},
     "output_type": "execute_result"
    }
   ],
   "source": [
    "LRG = linear_model.LogisticRegression(random_state=0,solver='liblinear',multi_class='auto').fit(X, y)\n",
    "LRG.score(X, y)"
   ]
  },
  {
   "cell_type": "code",
   "execution_count": null,
   "metadata": {},
   "outputs": [],
   "source": []
  }
 ],
 "metadata": {
  "kernelspec": {
   "display_name": "Python 3",
   "language": "python",
   "name": "python3"
  },
  "language_info": {
   "codemirror_mode": {
    "name": "ipython",
    "version": 3
   },
   "file_extension": ".py",
   "mimetype": "text/x-python",
   "name": "python",
   "nbconvert_exporter": "python",
   "pygments_lexer": "ipython3",
   "version": "3.7.6"
  }
 },
 "nbformat": 4,
 "nbformat_minor": 4
}

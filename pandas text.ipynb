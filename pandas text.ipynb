{
 "cells": [
  {
   "cell_type": "code",
   "execution_count": 1,
   "metadata": {},
   "outputs": [],
   "source": [
    "import numpy as np\n",
    "import pandas as pd"
   ]
  },
  {
   "cell_type": "code",
   "execution_count": 2,
   "metadata": {},
   "outputs": [],
   "source": [
    "data = pd.read_csv(\"/home/mike/Downloads/data/archive(8)/Immigration_Madrid_2021.csv\")\n"
   ]
  },
  {
   "cell_type": "code",
   "execution_count": 3,
   "metadata": {},
   "outputs": [
    {
     "data": {
      "text/html": [
       "<div>\n",
       "<style scoped>\n",
       "    .dataframe tbody tr th:only-of-type {\n",
       "        vertical-align: middle;\n",
       "    }\n",
       "\n",
       "    .dataframe tbody tr th {\n",
       "        vertical-align: top;\n",
       "    }\n",
       "\n",
       "    .dataframe thead th {\n",
       "        text-align: right;\n",
       "    }\n",
       "</style>\n",
       "<table border=\"1\" class=\"dataframe\">\n",
       "  <thead>\n",
       "    <tr style=\"text-align: right;\">\n",
       "      <th></th>\n",
       "      <th>Unnamed: 0</th>\n",
       "      <th>Gender</th>\n",
       "      <th>Age</th>\n",
       "      <th>Studies</th>\n",
       "      <th>Nationality</th>\n",
       "      <th>Administrative_situation</th>\n",
       "      <th>Working</th>\n",
       "    </tr>\n",
       "  </thead>\n",
       "  <tbody>\n",
       "    <tr>\n",
       "      <th>0</th>\n",
       "      <td>0</td>\n",
       "      <td>Women</td>\n",
       "      <td>51-65</td>\n",
       "      <td>College</td>\n",
       "      <td>España</td>\n",
       "      <td>Community</td>\n",
       "      <td>No</td>\n",
       "    </tr>\n",
       "    <tr>\n",
       "      <th>1</th>\n",
       "      <td>1</td>\n",
       "      <td>Women</td>\n",
       "      <td>51-65</td>\n",
       "      <td>College</td>\n",
       "      <td>Venezuela</td>\n",
       "      <td>ART</td>\n",
       "      <td>No</td>\n",
       "    </tr>\n",
       "    <tr>\n",
       "      <th>2</th>\n",
       "      <td>2</td>\n",
       "      <td>Women</td>\n",
       "      <td>18-30</td>\n",
       "      <td>Pre-college</td>\n",
       "      <td>Honduras</td>\n",
       "      <td>Refugee</td>\n",
       "      <td>No</td>\n",
       "    </tr>\n",
       "    <tr>\n",
       "      <th>3</th>\n",
       "      <td>3</td>\n",
       "      <td>Women</td>\n",
       "      <td>18-30</td>\n",
       "      <td>Pre-college</td>\n",
       "      <td>Venezuela</td>\n",
       "      <td>Community</td>\n",
       "      <td>No</td>\n",
       "    </tr>\n",
       "    <tr>\n",
       "      <th>4</th>\n",
       "      <td>4</td>\n",
       "      <td>Women</td>\n",
       "      <td>18-30</td>\n",
       "      <td>Pre-college</td>\n",
       "      <td>República Dominicana</td>\n",
       "      <td>Community_familiar</td>\n",
       "      <td>No</td>\n",
       "    </tr>\n",
       "  </tbody>\n",
       "</table>\n",
       "</div>"
      ],
      "text/plain": [
       "   Unnamed: 0 Gender    Age      Studies           Nationality  \\\n",
       "0           0  Women  51-65      College                España   \n",
       "1           1  Women  51-65      College             Venezuela   \n",
       "2           2  Women  18-30  Pre-college              Honduras   \n",
       "3           3  Women  18-30  Pre-college             Venezuela   \n",
       "4           4  Women  18-30  Pre-college  República Dominicana   \n",
       "\n",
       "  Administrative_situation Working  \n",
       "0                Community      No  \n",
       "1                      ART      No  \n",
       "2                  Refugee      No  \n",
       "3                Community      No  \n",
       "4       Community_familiar      No  "
      ]
     },
     "execution_count": 3,
     "metadata": {},
     "output_type": "execute_result"
    }
   ],
   "source": [
    "data.head()"
   ]
  },
  {
   "cell_type": "code",
   "execution_count": 4,
   "metadata": {},
   "outputs": [
    {
     "name": "stdout",
     "output_type": "stream",
     "text": [
      "<class 'pandas.core.frame.DataFrame'>\n",
      "RangeIndex: 1523 entries, 0 to 1522\n",
      "Data columns (total 7 columns):\n",
      " #   Column                    Non-Null Count  Dtype \n",
      "---  ------                    --------------  ----- \n",
      " 0   Unnamed: 0                1523 non-null   int64 \n",
      " 1   Gender                    1523 non-null   object\n",
      " 2   Age                       1523 non-null   object\n",
      " 3   Studies                   1523 non-null   object\n",
      " 4   Nationality               1523 non-null   object\n",
      " 5   Administrative_situation  1523 non-null   object\n",
      " 6   Working                   1523 non-null   object\n",
      "dtypes: int64(1), object(6)\n",
      "memory usage: 83.4+ KB\n"
     ]
    }
   ],
   "source": [
    "data.info()"
   ]
  },
  {
   "cell_type": "code",
   "execution_count": 6,
   "metadata": {},
   "outputs": [
    {
     "data": {
      "text/plain": [
       "0       women\n",
       "1       women\n",
       "2       women\n",
       "3       women\n",
       "4       women\n",
       "        ...  \n",
       "1518    women\n",
       "1519    women\n",
       "1520    women\n",
       "1521    women\n",
       "1522    women\n",
       "Name: Gender, Length: 1523, dtype: object"
      ]
     },
     "execution_count": 6,
     "metadata": {},
     "output_type": "execute_result"
    }
   ],
   "source": [
    "data.Gender.str.lower()"
   ]
  },
  {
   "cell_type": "code",
   "execution_count": 8,
   "metadata": {},
   "outputs": [
    {
     "data": {
      "text/plain": [
       "Index(['Unnamed: 0', 'Gender', 'Age', 'Studies', 'Nationality',\n",
       "       'Administrative_situation', 'Working'],\n",
       "      dtype='object')"
      ]
     },
     "execution_count": 8,
     "metadata": {},
     "output_type": "execute_result"
    }
   ],
   "source": [
    "data.columns"
   ]
  },
  {
   "cell_type": "code",
   "execution_count": 9,
   "metadata": {},
   "outputs": [],
   "source": [
    "text = ['Gender','Studies', 'Nationality', 'Administrative_situation', 'Working']"
   ]
  },
  {
   "cell_type": "code",
   "execution_count": 14,
   "metadata": {},
   "outputs": [
    {
     "data": {
      "text/plain": [
       "0                     ESPAÑA\n",
       "1                  VENEZUELA\n",
       "2                   HONDURAS\n",
       "3                  VENEZUELA\n",
       "4       REPÚBLICA DOMINICANA\n",
       "                ...         \n",
       "1518                  ESPAÑA\n",
       "1519                  ESPAÑA\n",
       "1520               MARRUECOS\n",
       "1521               MARRUECOS\n",
       "1522               MARRUECOS\n",
       "Name: Nationality, Length: 1523, dtype: object"
      ]
     },
     "execution_count": 14,
     "metadata": {},
     "output_type": "execute_result"
    }
   ],
   "source": [
    "data.Nationality.str.upper()"
   ]
  },
  {
   "cell_type": "code",
   "execution_count": 15,
   "metadata": {},
   "outputs": [
    {
     "data": {
      "text/plain": [
       "0        6\n",
       "1        9\n",
       "2        8\n",
       "3        9\n",
       "4       20\n",
       "        ..\n",
       "1518     6\n",
       "1519     6\n",
       "1520     9\n",
       "1521     9\n",
       "1522     9\n",
       "Name: Nationality, Length: 1523, dtype: int64"
      ]
     },
     "execution_count": 15,
     "metadata": {},
     "output_type": "execute_result"
    }
   ],
   "source": [
    "data.Nationality.str.len()"
   ]
  },
  {
   "cell_type": "code",
   "execution_count": 16,
   "metadata": {},
   "outputs": [
    {
     "data": {
      "text/plain": [
       "0                     España\n",
       "1                  Venezuela\n",
       "2                   Honduras\n",
       "3                  Venezuela\n",
       "4       República Dominicana\n",
       "                ...         \n",
       "1518                  España\n",
       "1519                  España\n",
       "1520               Marruecos\n",
       "1521               Marruecos\n",
       "1522               Marruecos\n",
       "Name: Nationality, Length: 1523, dtype: object"
      ]
     },
     "execution_count": 16,
     "metadata": {},
     "output_type": "execute_result"
    }
   ],
   "source": [
    "data.Nationality.str.strip()"
   ]
  },
  {
   "cell_type": "code",
   "execution_count": 19,
   "metadata": {},
   "outputs": [
    {
     "data": {
      "text/plain": [
       "['Venezuela']"
      ]
     },
     "execution_count": 19,
     "metadata": {},
     "output_type": "execute_result"
    }
   ],
   "source": [
    "data.Nationality.str.split()[1]"
   ]
  },
  {
   "cell_type": "code",
   "execution_count": 20,
   "metadata": {},
   "outputs": [
    {
     "data": {
      "text/html": [
       "<div>\n",
       "<style scoped>\n",
       "    .dataframe tbody tr th:only-of-type {\n",
       "        vertical-align: middle;\n",
       "    }\n",
       "\n",
       "    .dataframe tbody tr th {\n",
       "        vertical-align: top;\n",
       "    }\n",
       "\n",
       "    .dataframe thead th {\n",
       "        text-align: right;\n",
       "    }\n",
       "</style>\n",
       "<table border=\"1\" class=\"dataframe\">\n",
       "  <thead>\n",
       "    <tr style=\"text-align: right;\">\n",
       "      <th></th>\n",
       "      <th>Argelia</th>\n",
       "      <th>Argentina</th>\n",
       "      <th>Bangladesh</th>\n",
       "      <th>Bolivia</th>\n",
       "      <th>Brasil</th>\n",
       "      <th>Cabo Verde</th>\n",
       "      <th>Camerún</th>\n",
       "      <th>Chile</th>\n",
       "      <th>China</th>\n",
       "      <th>Colombia</th>\n",
       "      <th>...</th>\n",
       "      <th>República de Corea</th>\n",
       "      <th>República Árabe Siria</th>\n",
       "      <th>Rumania</th>\n",
       "      <th>Sahara</th>\n",
       "      <th>Senegal</th>\n",
       "      <th>Sierra Leona</th>\n",
       "      <th>Somalia</th>\n",
       "      <th>Togo</th>\n",
       "      <th>Ucrania</th>\n",
       "      <th>Venezuela</th>\n",
       "    </tr>\n",
       "  </thead>\n",
       "  <tbody>\n",
       "    <tr>\n",
       "      <th>0</th>\n",
       "      <td>0</td>\n",
       "      <td>0</td>\n",
       "      <td>0</td>\n",
       "      <td>0</td>\n",
       "      <td>0</td>\n",
       "      <td>0</td>\n",
       "      <td>0</td>\n",
       "      <td>0</td>\n",
       "      <td>0</td>\n",
       "      <td>0</td>\n",
       "      <td>...</td>\n",
       "      <td>0</td>\n",
       "      <td>0</td>\n",
       "      <td>0</td>\n",
       "      <td>0</td>\n",
       "      <td>0</td>\n",
       "      <td>0</td>\n",
       "      <td>0</td>\n",
       "      <td>0</td>\n",
       "      <td>0</td>\n",
       "      <td>0</td>\n",
       "    </tr>\n",
       "    <tr>\n",
       "      <th>1</th>\n",
       "      <td>0</td>\n",
       "      <td>0</td>\n",
       "      <td>0</td>\n",
       "      <td>0</td>\n",
       "      <td>0</td>\n",
       "      <td>0</td>\n",
       "      <td>0</td>\n",
       "      <td>0</td>\n",
       "      <td>0</td>\n",
       "      <td>0</td>\n",
       "      <td>...</td>\n",
       "      <td>0</td>\n",
       "      <td>0</td>\n",
       "      <td>0</td>\n",
       "      <td>0</td>\n",
       "      <td>0</td>\n",
       "      <td>0</td>\n",
       "      <td>0</td>\n",
       "      <td>0</td>\n",
       "      <td>0</td>\n",
       "      <td>1</td>\n",
       "    </tr>\n",
       "    <tr>\n",
       "      <th>2</th>\n",
       "      <td>0</td>\n",
       "      <td>0</td>\n",
       "      <td>0</td>\n",
       "      <td>0</td>\n",
       "      <td>0</td>\n",
       "      <td>0</td>\n",
       "      <td>0</td>\n",
       "      <td>0</td>\n",
       "      <td>0</td>\n",
       "      <td>0</td>\n",
       "      <td>...</td>\n",
       "      <td>0</td>\n",
       "      <td>0</td>\n",
       "      <td>0</td>\n",
       "      <td>0</td>\n",
       "      <td>0</td>\n",
       "      <td>0</td>\n",
       "      <td>0</td>\n",
       "      <td>0</td>\n",
       "      <td>0</td>\n",
       "      <td>0</td>\n",
       "    </tr>\n",
       "    <tr>\n",
       "      <th>3</th>\n",
       "      <td>0</td>\n",
       "      <td>0</td>\n",
       "      <td>0</td>\n",
       "      <td>0</td>\n",
       "      <td>0</td>\n",
       "      <td>0</td>\n",
       "      <td>0</td>\n",
       "      <td>0</td>\n",
       "      <td>0</td>\n",
       "      <td>0</td>\n",
       "      <td>...</td>\n",
       "      <td>0</td>\n",
       "      <td>0</td>\n",
       "      <td>0</td>\n",
       "      <td>0</td>\n",
       "      <td>0</td>\n",
       "      <td>0</td>\n",
       "      <td>0</td>\n",
       "      <td>0</td>\n",
       "      <td>0</td>\n",
       "      <td>1</td>\n",
       "    </tr>\n",
       "    <tr>\n",
       "      <th>4</th>\n",
       "      <td>0</td>\n",
       "      <td>0</td>\n",
       "      <td>0</td>\n",
       "      <td>0</td>\n",
       "      <td>0</td>\n",
       "      <td>0</td>\n",
       "      <td>0</td>\n",
       "      <td>0</td>\n",
       "      <td>0</td>\n",
       "      <td>0</td>\n",
       "      <td>...</td>\n",
       "      <td>0</td>\n",
       "      <td>0</td>\n",
       "      <td>0</td>\n",
       "      <td>0</td>\n",
       "      <td>0</td>\n",
       "      <td>0</td>\n",
       "      <td>0</td>\n",
       "      <td>0</td>\n",
       "      <td>0</td>\n",
       "      <td>0</td>\n",
       "    </tr>\n",
       "    <tr>\n",
       "      <th>...</th>\n",
       "      <td>...</td>\n",
       "      <td>...</td>\n",
       "      <td>...</td>\n",
       "      <td>...</td>\n",
       "      <td>...</td>\n",
       "      <td>...</td>\n",
       "      <td>...</td>\n",
       "      <td>...</td>\n",
       "      <td>...</td>\n",
       "      <td>...</td>\n",
       "      <td>...</td>\n",
       "      <td>...</td>\n",
       "      <td>...</td>\n",
       "      <td>...</td>\n",
       "      <td>...</td>\n",
       "      <td>...</td>\n",
       "      <td>...</td>\n",
       "      <td>...</td>\n",
       "      <td>...</td>\n",
       "      <td>...</td>\n",
       "      <td>...</td>\n",
       "    </tr>\n",
       "    <tr>\n",
       "      <th>1518</th>\n",
       "      <td>0</td>\n",
       "      <td>0</td>\n",
       "      <td>0</td>\n",
       "      <td>0</td>\n",
       "      <td>0</td>\n",
       "      <td>0</td>\n",
       "      <td>0</td>\n",
       "      <td>0</td>\n",
       "      <td>0</td>\n",
       "      <td>0</td>\n",
       "      <td>...</td>\n",
       "      <td>0</td>\n",
       "      <td>0</td>\n",
       "      <td>0</td>\n",
       "      <td>0</td>\n",
       "      <td>0</td>\n",
       "      <td>0</td>\n",
       "      <td>0</td>\n",
       "      <td>0</td>\n",
       "      <td>0</td>\n",
       "      <td>0</td>\n",
       "    </tr>\n",
       "    <tr>\n",
       "      <th>1519</th>\n",
       "      <td>0</td>\n",
       "      <td>0</td>\n",
       "      <td>0</td>\n",
       "      <td>0</td>\n",
       "      <td>0</td>\n",
       "      <td>0</td>\n",
       "      <td>0</td>\n",
       "      <td>0</td>\n",
       "      <td>0</td>\n",
       "      <td>0</td>\n",
       "      <td>...</td>\n",
       "      <td>0</td>\n",
       "      <td>0</td>\n",
       "      <td>0</td>\n",
       "      <td>0</td>\n",
       "      <td>0</td>\n",
       "      <td>0</td>\n",
       "      <td>0</td>\n",
       "      <td>0</td>\n",
       "      <td>0</td>\n",
       "      <td>0</td>\n",
       "    </tr>\n",
       "    <tr>\n",
       "      <th>1520</th>\n",
       "      <td>0</td>\n",
       "      <td>0</td>\n",
       "      <td>0</td>\n",
       "      <td>0</td>\n",
       "      <td>0</td>\n",
       "      <td>0</td>\n",
       "      <td>0</td>\n",
       "      <td>0</td>\n",
       "      <td>0</td>\n",
       "      <td>0</td>\n",
       "      <td>...</td>\n",
       "      <td>0</td>\n",
       "      <td>0</td>\n",
       "      <td>0</td>\n",
       "      <td>0</td>\n",
       "      <td>0</td>\n",
       "      <td>0</td>\n",
       "      <td>0</td>\n",
       "      <td>0</td>\n",
       "      <td>0</td>\n",
       "      <td>0</td>\n",
       "    </tr>\n",
       "    <tr>\n",
       "      <th>1521</th>\n",
       "      <td>0</td>\n",
       "      <td>0</td>\n",
       "      <td>0</td>\n",
       "      <td>0</td>\n",
       "      <td>0</td>\n",
       "      <td>0</td>\n",
       "      <td>0</td>\n",
       "      <td>0</td>\n",
       "      <td>0</td>\n",
       "      <td>0</td>\n",
       "      <td>...</td>\n",
       "      <td>0</td>\n",
       "      <td>0</td>\n",
       "      <td>0</td>\n",
       "      <td>0</td>\n",
       "      <td>0</td>\n",
       "      <td>0</td>\n",
       "      <td>0</td>\n",
       "      <td>0</td>\n",
       "      <td>0</td>\n",
       "      <td>0</td>\n",
       "    </tr>\n",
       "    <tr>\n",
       "      <th>1522</th>\n",
       "      <td>0</td>\n",
       "      <td>0</td>\n",
       "      <td>0</td>\n",
       "      <td>0</td>\n",
       "      <td>0</td>\n",
       "      <td>0</td>\n",
       "      <td>0</td>\n",
       "      <td>0</td>\n",
       "      <td>0</td>\n",
       "      <td>0</td>\n",
       "      <td>...</td>\n",
       "      <td>0</td>\n",
       "      <td>0</td>\n",
       "      <td>0</td>\n",
       "      <td>0</td>\n",
       "      <td>0</td>\n",
       "      <td>0</td>\n",
       "      <td>0</td>\n",
       "      <td>0</td>\n",
       "      <td>0</td>\n",
       "      <td>0</td>\n",
       "    </tr>\n",
       "  </tbody>\n",
       "</table>\n",
       "<p>1523 rows × 46 columns</p>\n",
       "</div>"
      ],
      "text/plain": [
       "      Argelia  Argentina  Bangladesh  Bolivia  Brasil  Cabo Verde  Camerún  \\\n",
       "0           0          0           0        0       0           0        0   \n",
       "1           0          0           0        0       0           0        0   \n",
       "2           0          0           0        0       0           0        0   \n",
       "3           0          0           0        0       0           0        0   \n",
       "4           0          0           0        0       0           0        0   \n",
       "...       ...        ...         ...      ...     ...         ...      ...   \n",
       "1518        0          0           0        0       0           0        0   \n",
       "1519        0          0           0        0       0           0        0   \n",
       "1520        0          0           0        0       0           0        0   \n",
       "1521        0          0           0        0       0           0        0   \n",
       "1522        0          0           0        0       0           0        0   \n",
       "\n",
       "      Chile  China  Colombia  ...  República de Corea  República Árabe Siria  \\\n",
       "0         0      0         0  ...                   0                      0   \n",
       "1         0      0         0  ...                   0                      0   \n",
       "2         0      0         0  ...                   0                      0   \n",
       "3         0      0         0  ...                   0                      0   \n",
       "4         0      0         0  ...                   0                      0   \n",
       "...     ...    ...       ...  ...                 ...                    ...   \n",
       "1518      0      0         0  ...                   0                      0   \n",
       "1519      0      0         0  ...                   0                      0   \n",
       "1520      0      0         0  ...                   0                      0   \n",
       "1521      0      0         0  ...                   0                      0   \n",
       "1522      0      0         0  ...                   0                      0   \n",
       "\n",
       "      Rumania  Sahara  Senegal  Sierra Leona  Somalia  Togo  Ucrania  \\\n",
       "0           0       0        0             0        0     0        0   \n",
       "1           0       0        0             0        0     0        0   \n",
       "2           0       0        0             0        0     0        0   \n",
       "3           0       0        0             0        0     0        0   \n",
       "4           0       0        0             0        0     0        0   \n",
       "...       ...     ...      ...           ...      ...   ...      ...   \n",
       "1518        0       0        0             0        0     0        0   \n",
       "1519        0       0        0             0        0     0        0   \n",
       "1520        0       0        0             0        0     0        0   \n",
       "1521        0       0        0             0        0     0        0   \n",
       "1522        0       0        0             0        0     0        0   \n",
       "\n",
       "      Venezuela  \n",
       "0             0  \n",
       "1             1  \n",
       "2             0  \n",
       "3             1  \n",
       "4             0  \n",
       "...         ...  \n",
       "1518          0  \n",
       "1519          0  \n",
       "1520          0  \n",
       "1521          0  \n",
       "1522          0  \n",
       "\n",
       "[1523 rows x 46 columns]"
      ]
     },
     "execution_count": 20,
     "metadata": {},
     "output_type": "execute_result"
    }
   ],
   "source": [
    "data.Nationality.str.get_dummies()"
   ]
  },
  {
   "cell_type": "code",
   "execution_count": 24,
   "metadata": {},
   "outputs": [
    {
     "data": {
      "text/plain": [
       "168"
      ]
     },
     "execution_count": 24,
     "metadata": {},
     "output_type": "execute_result"
    }
   ],
   "source": [
    "data.Nationality.str.contains(\" \").sum()"
   ]
  },
  {
   "cell_type": "code",
   "execution_count": 25,
   "metadata": {},
   "outputs": [
    {
     "data": {
      "text/plain": [
       "0                     España\n",
       "1                  Venezuela\n",
       "2                   Honduras\n",
       "3                  Venezuela\n",
       "4       República-Dominicana\n",
       "                ...         \n",
       "1518                  España\n",
       "1519                  España\n",
       "1520               Marruecos\n",
       "1521               Marruecos\n",
       "1522               Marruecos\n",
       "Name: Nationality, Length: 1523, dtype: object"
      ]
     },
     "execution_count": 25,
     "metadata": {},
     "output_type": "execute_result"
    }
   ],
   "source": [
    "data.Nationality.str.replace(\" \", \"-\")"
   ]
  },
  {
   "cell_type": "code",
   "execution_count": 26,
   "metadata": {},
   "outputs": [
    {
     "data": {
      "text/plain": [
       "0                                   EspañaEspaña\n",
       "1                             VenezuelaVenezuela\n",
       "2                               HondurasHonduras\n",
       "3                             VenezuelaVenezuela\n",
       "4       República DominicanaRepública Dominicana\n",
       "                          ...                   \n",
       "1518                                EspañaEspaña\n",
       "1519                                EspañaEspaña\n",
       "1520                          MarruecosMarruecos\n",
       "1521                          MarruecosMarruecos\n",
       "1522                          MarruecosMarruecos\n",
       "Name: Nationality, Length: 1523, dtype: object"
      ]
     },
     "execution_count": 26,
     "metadata": {},
     "output_type": "execute_result"
    }
   ],
   "source": [
    "data.Nationality.str.repeat(2)"
   ]
  },
  {
   "cell_type": "code",
   "execution_count": 27,
   "metadata": {},
   "outputs": [
    {
     "data": {
      "text/html": [
       "<div>\n",
       "<style scoped>\n",
       "    .dataframe tbody tr th:only-of-type {\n",
       "        vertical-align: middle;\n",
       "    }\n",
       "\n",
       "    .dataframe tbody tr th {\n",
       "        vertical-align: top;\n",
       "    }\n",
       "\n",
       "    .dataframe thead th {\n",
       "        text-align: right;\n",
       "    }\n",
       "</style>\n",
       "<table border=\"1\" class=\"dataframe\">\n",
       "  <thead>\n",
       "    <tr style=\"text-align: right;\">\n",
       "      <th></th>\n",
       "      <th>Unnamed: 0</th>\n",
       "      <th>Gender</th>\n",
       "      <th>Age</th>\n",
       "      <th>Studies</th>\n",
       "      <th>Nationality</th>\n",
       "      <th>Administrative_situation</th>\n",
       "      <th>Working</th>\n",
       "    </tr>\n",
       "  </thead>\n",
       "  <tbody>\n",
       "    <tr>\n",
       "      <th>0</th>\n",
       "      <td>0</td>\n",
       "      <td>Women</td>\n",
       "      <td>51-65</td>\n",
       "      <td>College</td>\n",
       "      <td>España</td>\n",
       "      <td>Community</td>\n",
       "      <td>No</td>\n",
       "    </tr>\n",
       "    <tr>\n",
       "      <th>1</th>\n",
       "      <td>1</td>\n",
       "      <td>Women</td>\n",
       "      <td>51-65</td>\n",
       "      <td>College</td>\n",
       "      <td>Venezuela</td>\n",
       "      <td>ART</td>\n",
       "      <td>No</td>\n",
       "    </tr>\n",
       "    <tr>\n",
       "      <th>2</th>\n",
       "      <td>2</td>\n",
       "      <td>Women</td>\n",
       "      <td>18-30</td>\n",
       "      <td>Pre-college</td>\n",
       "      <td>Honduras</td>\n",
       "      <td>Refugee</td>\n",
       "      <td>No</td>\n",
       "    </tr>\n",
       "    <tr>\n",
       "      <th>3</th>\n",
       "      <td>3</td>\n",
       "      <td>Women</td>\n",
       "      <td>18-30</td>\n",
       "      <td>Pre-college</td>\n",
       "      <td>Venezuela</td>\n",
       "      <td>Community</td>\n",
       "      <td>No</td>\n",
       "    </tr>\n",
       "    <tr>\n",
       "      <th>4</th>\n",
       "      <td>4</td>\n",
       "      <td>Women</td>\n",
       "      <td>18-30</td>\n",
       "      <td>Pre-college</td>\n",
       "      <td>República Dominicana</td>\n",
       "      <td>Community_familiar</td>\n",
       "      <td>No</td>\n",
       "    </tr>\n",
       "    <tr>\n",
       "      <th>...</th>\n",
       "      <td>...</td>\n",
       "      <td>...</td>\n",
       "      <td>...</td>\n",
       "      <td>...</td>\n",
       "      <td>...</td>\n",
       "      <td>...</td>\n",
       "      <td>...</td>\n",
       "    </tr>\n",
       "    <tr>\n",
       "      <th>1518</th>\n",
       "      <td>1803</td>\n",
       "      <td>Women</td>\n",
       "      <td>18-30</td>\n",
       "      <td>Elementary_school</td>\n",
       "      <td>España</td>\n",
       "      <td>Community</td>\n",
       "      <td>No</td>\n",
       "    </tr>\n",
       "    <tr>\n",
       "      <th>1519</th>\n",
       "      <td>1804</td>\n",
       "      <td>Women</td>\n",
       "      <td>18-30</td>\n",
       "      <td>Elementary_school</td>\n",
       "      <td>España</td>\n",
       "      <td>Community</td>\n",
       "      <td>No</td>\n",
       "    </tr>\n",
       "    <tr>\n",
       "      <th>1520</th>\n",
       "      <td>1805</td>\n",
       "      <td>Women</td>\n",
       "      <td>18-30</td>\n",
       "      <td>Elementary_school</td>\n",
       "      <td>Marruecos</td>\n",
       "      <td>Community</td>\n",
       "      <td>No</td>\n",
       "    </tr>\n",
       "    <tr>\n",
       "      <th>1521</th>\n",
       "      <td>1806</td>\n",
       "      <td>Women</td>\n",
       "      <td>18-30</td>\n",
       "      <td>Elementary_school</td>\n",
       "      <td>Marruecos</td>\n",
       "      <td>Community</td>\n",
       "      <td>No</td>\n",
       "    </tr>\n",
       "    <tr>\n",
       "      <th>1522</th>\n",
       "      <td>1807</td>\n",
       "      <td>Women</td>\n",
       "      <td>18-30</td>\n",
       "      <td>Elementary_school</td>\n",
       "      <td>Marruecos</td>\n",
       "      <td>Community</td>\n",
       "      <td>No</td>\n",
       "    </tr>\n",
       "  </tbody>\n",
       "</table>\n",
       "<p>1523 rows × 7 columns</p>\n",
       "</div>"
      ],
      "text/plain": [
       "      Unnamed: 0 Gender    Age            Studies           Nationality  \\\n",
       "0              0  Women  51-65            College                España   \n",
       "1              1  Women  51-65            College             Venezuela   \n",
       "2              2  Women  18-30        Pre-college              Honduras   \n",
       "3              3  Women  18-30        Pre-college             Venezuela   \n",
       "4              4  Women  18-30        Pre-college  República Dominicana   \n",
       "...          ...    ...    ...                ...                   ...   \n",
       "1518        1803  Women  18-30  Elementary_school                España   \n",
       "1519        1804  Women  18-30  Elementary_school                España   \n",
       "1520        1805  Women  18-30  Elementary_school             Marruecos   \n",
       "1521        1806  Women  18-30  Elementary_school             Marruecos   \n",
       "1522        1807  Women  18-30  Elementary_school             Marruecos   \n",
       "\n",
       "     Administrative_situation Working  \n",
       "0                   Community      No  \n",
       "1                         ART      No  \n",
       "2                     Refugee      No  \n",
       "3                   Community      No  \n",
       "4          Community_familiar      No  \n",
       "...                       ...     ...  \n",
       "1518                Community      No  \n",
       "1519                Community      No  \n",
       "1520                Community      No  \n",
       "1521                Community      No  \n",
       "1522                Community      No  \n",
       "\n",
       "[1523 rows x 7 columns]"
      ]
     },
     "execution_count": 27,
     "metadata": {},
     "output_type": "execute_result"
    }
   ],
   "source": [
    "data"
   ]
  },
  {
   "cell_type": "code",
   "execution_count": 29,
   "metadata": {},
   "outputs": [
    {
     "data": {
      "text/plain": [
       "165"
      ]
     },
     "execution_count": 29,
     "metadata": {},
     "output_type": "execute_result"
    }
   ],
   "source": [
    "data.Nationality.str.count(\"España\").sum()"
   ]
  },
  {
   "cell_type": "code",
   "execution_count": 30,
   "metadata": {},
   "outputs": [
    {
     "data": {
      "text/plain": [
       "407"
      ]
     },
     "execution_count": 30,
     "metadata": {},
     "output_type": "execute_result"
    }
   ],
   "source": [
    "data.Nationality.str.startswith(\"E\").sum()"
   ]
  },
  {
   "cell_type": "code",
   "execution_count": 31,
   "metadata": {},
   "outputs": [
    {
     "data": {
      "text/plain": [
       "867"
      ]
     },
     "execution_count": 31,
     "metadata": {},
     "output_type": "execute_result"
    }
   ],
   "source": [
    "data.Nationality.str.endswith(\"a\").sum()"
   ]
  },
  {
   "cell_type": "code",
   "execution_count": 33,
   "metadata": {},
   "outputs": [
    {
     "data": {
      "text/plain": [
       "-1358"
      ]
     },
     "execution_count": 33,
     "metadata": {},
     "output_type": "execute_result"
    }
   ],
   "source": [
    "data.Nationality.str.find(\"España\").sum()"
   ]
  },
  {
   "cell_type": "code",
   "execution_count": 35,
   "metadata": {},
   "outputs": [
    {
     "data": {
      "text/plain": [
       "0       [España]\n",
       "1             []\n",
       "2             []\n",
       "3             []\n",
       "4             []\n",
       "          ...   \n",
       "1518    [España]\n",
       "1519    [España]\n",
       "1520          []\n",
       "1521          []\n",
       "1522          []\n",
       "Name: Nationality, Length: 1523, dtype: object"
      ]
     },
     "execution_count": 35,
     "metadata": {},
     "output_type": "execute_result"
    }
   ],
   "source": [
    "data.Nationality.str.findall(\"España\")"
   ]
  },
  {
   "cell_type": "code",
   "execution_count": 38,
   "metadata": {},
   "outputs": [
    {
     "data": {
      "text/plain": [
       "0                     eSPAÑA\n",
       "1                  vENEZUELA\n",
       "2                   hONDURAS\n",
       "3                  vENEZUELA\n",
       "4       rEPÚBLICA dOMINICANA\n",
       "                ...         \n",
       "1518                  eSPAÑA\n",
       "1519                  eSPAÑA\n",
       "1520               mARRUECOS\n",
       "1521               mARRUECOS\n",
       "1522               mARRUECOS\n",
       "Name: Nationality, Length: 1523, dtype: object"
      ]
     },
     "execution_count": 38,
     "metadata": {},
     "output_type": "execute_result"
    }
   ],
   "source": [
    "data.Nationality.str.swapcase()"
   ]
  },
  {
   "cell_type": "code",
   "execution_count": 40,
   "metadata": {},
   "outputs": [
    {
     "data": {
      "text/plain": [
       "0"
      ]
     },
     "execution_count": 40,
     "metadata": {},
     "output_type": "execute_result"
    }
   ],
   "source": [
    "data.Nationality.str.islower().sum()"
   ]
  },
  {
   "cell_type": "code",
   "execution_count": 41,
   "metadata": {},
   "outputs": [
    {
     "data": {
      "text/plain": [
       "0"
      ]
     },
     "execution_count": 41,
     "metadata": {},
     "output_type": "execute_result"
    }
   ],
   "source": [
    "data.Nationality.str.isupper().sum()"
   ]
  },
  {
   "cell_type": "code",
   "execution_count": 42,
   "metadata": {},
   "outputs": [
    {
     "data": {
      "text/plain": [
       "0"
      ]
     },
     "execution_count": 42,
     "metadata": {},
     "output_type": "execute_result"
    }
   ],
   "source": [
    "data.Nationality.str.isnumeric().sum()"
   ]
  },
  {
   "cell_type": "code",
   "execution_count": 43,
   "metadata": {},
   "outputs": [
    {
     "data": {
      "text/html": [
       "<div>\n",
       "<style scoped>\n",
       "    .dataframe tbody tr th:only-of-type {\n",
       "        vertical-align: middle;\n",
       "    }\n",
       "\n",
       "    .dataframe tbody tr th {\n",
       "        vertical-align: top;\n",
       "    }\n",
       "\n",
       "    .dataframe thead th {\n",
       "        text-align: right;\n",
       "    }\n",
       "</style>\n",
       "<table border=\"1\" class=\"dataframe\">\n",
       "  <thead>\n",
       "    <tr style=\"text-align: right;\">\n",
       "      <th></th>\n",
       "      <th>Unnamed: 0</th>\n",
       "      <th>Gender</th>\n",
       "      <th>Age</th>\n",
       "      <th>Studies</th>\n",
       "      <th>Nationality</th>\n",
       "      <th>Administrative_situation</th>\n",
       "      <th>Working</th>\n",
       "    </tr>\n",
       "  </thead>\n",
       "  <tbody>\n",
       "    <tr>\n",
       "      <th>0</th>\n",
       "      <td>0</td>\n",
       "      <td>Women</td>\n",
       "      <td>51-65</td>\n",
       "      <td>College</td>\n",
       "      <td>España</td>\n",
       "      <td>Community</td>\n",
       "      <td>No</td>\n",
       "    </tr>\n",
       "    <tr>\n",
       "      <th>1</th>\n",
       "      <td>1</td>\n",
       "      <td>Women</td>\n",
       "      <td>51-65</td>\n",
       "      <td>College</td>\n",
       "      <td>Venezuela</td>\n",
       "      <td>ART</td>\n",
       "      <td>No</td>\n",
       "    </tr>\n",
       "    <tr>\n",
       "      <th>2</th>\n",
       "      <td>2</td>\n",
       "      <td>Women</td>\n",
       "      <td>18-30</td>\n",
       "      <td>Pre-college</td>\n",
       "      <td>Honduras</td>\n",
       "      <td>Refugee</td>\n",
       "      <td>No</td>\n",
       "    </tr>\n",
       "    <tr>\n",
       "      <th>3</th>\n",
       "      <td>3</td>\n",
       "      <td>Women</td>\n",
       "      <td>18-30</td>\n",
       "      <td>Pre-college</td>\n",
       "      <td>Venezuela</td>\n",
       "      <td>Community</td>\n",
       "      <td>No</td>\n",
       "    </tr>\n",
       "    <tr>\n",
       "      <th>4</th>\n",
       "      <td>4</td>\n",
       "      <td>Women</td>\n",
       "      <td>18-30</td>\n",
       "      <td>Pre-college</td>\n",
       "      <td>República Dominicana</td>\n",
       "      <td>Community_familiar</td>\n",
       "      <td>No</td>\n",
       "    </tr>\n",
       "  </tbody>\n",
       "</table>\n",
       "</div>"
      ],
      "text/plain": [
       "   Unnamed: 0 Gender    Age      Studies           Nationality  \\\n",
       "0           0  Women  51-65      College                España   \n",
       "1           1  Women  51-65      College             Venezuela   \n",
       "2           2  Women  18-30  Pre-college              Honduras   \n",
       "3           3  Women  18-30  Pre-college             Venezuela   \n",
       "4           4  Women  18-30  Pre-college  República Dominicana   \n",
       "\n",
       "  Administrative_situation Working  \n",
       "0                Community      No  \n",
       "1                      ART      No  \n",
       "2                  Refugee      No  \n",
       "3                Community      No  \n",
       "4       Community_familiar      No  "
      ]
     },
     "execution_count": 43,
     "metadata": {},
     "output_type": "execute_result"
    }
   ],
   "source": [
    "data.head()"
   ]
  },
  {
   "cell_type": "code",
   "execution_count": null,
   "metadata": {},
   "outputs": [],
   "source": []
  }
 ],
 "metadata": {
  "kernelspec": {
   "display_name": "Python 3",
   "language": "python",
   "name": "python3"
  },
  "language_info": {
   "codemirror_mode": {
    "name": "ipython",
    "version": 3
   },
   "file_extension": ".py",
   "mimetype": "text/x-python",
   "name": "python",
   "nbconvert_exporter": "python",
   "pygments_lexer": "ipython3",
   "version": "3.7.6"
  }
 },
 "nbformat": 4,
 "nbformat_minor": 4
}

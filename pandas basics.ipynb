{
 "cells": [
  {
   "cell_type": "code",
   "execution_count": 1,
   "metadata": {},
   "outputs": [],
   "source": [
    "import pandas as pd"
   ]
  },
  {
   "cell_type": "code",
   "execution_count": 2,
   "metadata": {},
   "outputs": [],
   "source": [
    "data = pd.read_csv(\"/home/mike/Downloads/data/archive(15)/heart.csv\")"
   ]
  },
  {
   "cell_type": "code",
   "execution_count": 3,
   "metadata": {},
   "outputs": [
    {
     "data": {
      "text/html": [
       "<div>\n",
       "<style scoped>\n",
       "    .dataframe tbody tr th:only-of-type {\n",
       "        vertical-align: middle;\n",
       "    }\n",
       "\n",
       "    .dataframe tbody tr th {\n",
       "        vertical-align: top;\n",
       "    }\n",
       "\n",
       "    .dataframe thead th {\n",
       "        text-align: right;\n",
       "    }\n",
       "</style>\n",
       "<table border=\"1\" class=\"dataframe\">\n",
       "  <thead>\n",
       "    <tr style=\"text-align: right;\">\n",
       "      <th></th>\n",
       "      <th>age</th>\n",
       "      <th>sex</th>\n",
       "      <th>cp</th>\n",
       "      <th>trtbps</th>\n",
       "      <th>chol</th>\n",
       "      <th>fbs</th>\n",
       "      <th>restecg</th>\n",
       "      <th>thalachh</th>\n",
       "      <th>exng</th>\n",
       "      <th>oldpeak</th>\n",
       "      <th>slp</th>\n",
       "      <th>caa</th>\n",
       "      <th>thall</th>\n",
       "      <th>output</th>\n",
       "    </tr>\n",
       "  </thead>\n",
       "  <tbody>\n",
       "    <tr>\n",
       "      <th>0</th>\n",
       "      <td>63</td>\n",
       "      <td>1</td>\n",
       "      <td>3</td>\n",
       "      <td>145</td>\n",
       "      <td>233</td>\n",
       "      <td>1</td>\n",
       "      <td>0</td>\n",
       "      <td>150</td>\n",
       "      <td>0</td>\n",
       "      <td>2.3</td>\n",
       "      <td>0</td>\n",
       "      <td>0</td>\n",
       "      <td>1</td>\n",
       "      <td>1</td>\n",
       "    </tr>\n",
       "    <tr>\n",
       "      <th>1</th>\n",
       "      <td>37</td>\n",
       "      <td>1</td>\n",
       "      <td>2</td>\n",
       "      <td>130</td>\n",
       "      <td>250</td>\n",
       "      <td>0</td>\n",
       "      <td>1</td>\n",
       "      <td>187</td>\n",
       "      <td>0</td>\n",
       "      <td>3.5</td>\n",
       "      <td>0</td>\n",
       "      <td>0</td>\n",
       "      <td>2</td>\n",
       "      <td>1</td>\n",
       "    </tr>\n",
       "    <tr>\n",
       "      <th>2</th>\n",
       "      <td>41</td>\n",
       "      <td>0</td>\n",
       "      <td>1</td>\n",
       "      <td>130</td>\n",
       "      <td>204</td>\n",
       "      <td>0</td>\n",
       "      <td>0</td>\n",
       "      <td>172</td>\n",
       "      <td>0</td>\n",
       "      <td>1.4</td>\n",
       "      <td>2</td>\n",
       "      <td>0</td>\n",
       "      <td>2</td>\n",
       "      <td>1</td>\n",
       "    </tr>\n",
       "    <tr>\n",
       "      <th>3</th>\n",
       "      <td>56</td>\n",
       "      <td>1</td>\n",
       "      <td>1</td>\n",
       "      <td>120</td>\n",
       "      <td>236</td>\n",
       "      <td>0</td>\n",
       "      <td>1</td>\n",
       "      <td>178</td>\n",
       "      <td>0</td>\n",
       "      <td>0.8</td>\n",
       "      <td>2</td>\n",
       "      <td>0</td>\n",
       "      <td>2</td>\n",
       "      <td>1</td>\n",
       "    </tr>\n",
       "    <tr>\n",
       "      <th>4</th>\n",
       "      <td>57</td>\n",
       "      <td>0</td>\n",
       "      <td>0</td>\n",
       "      <td>120</td>\n",
       "      <td>354</td>\n",
       "      <td>0</td>\n",
       "      <td>1</td>\n",
       "      <td>163</td>\n",
       "      <td>1</td>\n",
       "      <td>0.6</td>\n",
       "      <td>2</td>\n",
       "      <td>0</td>\n",
       "      <td>2</td>\n",
       "      <td>1</td>\n",
       "    </tr>\n",
       "  </tbody>\n",
       "</table>\n",
       "</div>"
      ],
      "text/plain": [
       "   age  sex  cp  trtbps  chol  fbs  restecg  thalachh  exng  oldpeak  slp  \\\n",
       "0   63    1   3     145   233    1        0       150     0      2.3    0   \n",
       "1   37    1   2     130   250    0        1       187     0      3.5    0   \n",
       "2   41    0   1     130   204    0        0       172     0      1.4    2   \n",
       "3   56    1   1     120   236    0        1       178     0      0.8    2   \n",
       "4   57    0   0     120   354    0        1       163     1      0.6    2   \n",
       "\n",
       "   caa  thall  output  \n",
       "0    0      1       1  \n",
       "1    0      2       1  \n",
       "2    0      2       1  \n",
       "3    0      2       1  \n",
       "4    0      2       1  "
      ]
     },
     "execution_count": 3,
     "metadata": {},
     "output_type": "execute_result"
    }
   ],
   "source": [
    "data.head()"
   ]
  },
  {
   "cell_type": "code",
   "execution_count": 4,
   "metadata": {},
   "outputs": [
    {
     "name": "stdout",
     "output_type": "stream",
     "text": [
      "<class 'pandas.core.frame.DataFrame'>\n",
      "RangeIndex: 303 entries, 0 to 302\n",
      "Data columns (total 14 columns):\n",
      " #   Column    Non-Null Count  Dtype  \n",
      "---  ------    --------------  -----  \n",
      " 0   age       303 non-null    int64  \n",
      " 1   sex       303 non-null    int64  \n",
      " 2   cp        303 non-null    int64  \n",
      " 3   trtbps    303 non-null    int64  \n",
      " 4   chol      303 non-null    int64  \n",
      " 5   fbs       303 non-null    int64  \n",
      " 6   restecg   303 non-null    int64  \n",
      " 7   thalachh  303 non-null    int64  \n",
      " 8   exng      303 non-null    int64  \n",
      " 9   oldpeak   303 non-null    float64\n",
      " 10  slp       303 non-null    int64  \n",
      " 11  caa       303 non-null    int64  \n",
      " 12  thall     303 non-null    int64  \n",
      " 13  output    303 non-null    int64  \n",
      "dtypes: float64(1), int64(13)\n",
      "memory usage: 33.3 KB\n"
     ]
    }
   ],
   "source": [
    "data.info()"
   ]
  },
  {
   "cell_type": "code",
   "execution_count": 5,
   "metadata": {},
   "outputs": [
    {
     "name": "stdout",
     "output_type": "stream",
     "text": [
      "RangeIndex(start=0, stop=303, step=1)\n",
      "(303, 14)\n"
     ]
    }
   ],
   "source": [
    "print(data.index) # they are attributes not functions\n",
    "print(data.shape)"
   ]
  },
  {
   "cell_type": "code",
   "execution_count": 6,
   "metadata": {},
   "outputs": [],
   "source": [
    "pd.set_option('display.max_columns',85)\n",
    "pd.set_option('display.max_rows',200)"
   ]
  },
  {
   "cell_type": "code",
   "execution_count": 7,
   "metadata": {},
   "outputs": [
    {
     "data": {
      "text/html": [
       "<div>\n",
       "<style scoped>\n",
       "    .dataframe tbody tr th:only-of-type {\n",
       "        vertical-align: middle;\n",
       "    }\n",
       "\n",
       "    .dataframe tbody tr th {\n",
       "        vertical-align: top;\n",
       "    }\n",
       "\n",
       "    .dataframe thead th {\n",
       "        text-align: right;\n",
       "    }\n",
       "</style>\n",
       "<table border=\"1\" class=\"dataframe\">\n",
       "  <thead>\n",
       "    <tr style=\"text-align: right;\">\n",
       "      <th></th>\n",
       "      <th>age</th>\n",
       "      <th>sex</th>\n",
       "      <th>cp</th>\n",
       "      <th>trtbps</th>\n",
       "      <th>chol</th>\n",
       "      <th>fbs</th>\n",
       "      <th>restecg</th>\n",
       "      <th>thalachh</th>\n",
       "      <th>exng</th>\n",
       "      <th>oldpeak</th>\n",
       "      <th>slp</th>\n",
       "      <th>caa</th>\n",
       "      <th>thall</th>\n",
       "      <th>output</th>\n",
       "    </tr>\n",
       "  </thead>\n",
       "  <tbody>\n",
       "    <tr>\n",
       "      <th>0</th>\n",
       "      <td>63</td>\n",
       "      <td>1</td>\n",
       "      <td>3</td>\n",
       "      <td>145</td>\n",
       "      <td>233</td>\n",
       "      <td>1</td>\n",
       "      <td>0</td>\n",
       "      <td>150</td>\n",
       "      <td>0</td>\n",
       "      <td>2.3</td>\n",
       "      <td>0</td>\n",
       "      <td>0</td>\n",
       "      <td>1</td>\n",
       "      <td>1</td>\n",
       "    </tr>\n",
       "    <tr>\n",
       "      <th>1</th>\n",
       "      <td>37</td>\n",
       "      <td>1</td>\n",
       "      <td>2</td>\n",
       "      <td>130</td>\n",
       "      <td>250</td>\n",
       "      <td>0</td>\n",
       "      <td>1</td>\n",
       "      <td>187</td>\n",
       "      <td>0</td>\n",
       "      <td>3.5</td>\n",
       "      <td>0</td>\n",
       "      <td>0</td>\n",
       "      <td>2</td>\n",
       "      <td>1</td>\n",
       "    </tr>\n",
       "    <tr>\n",
       "      <th>2</th>\n",
       "      <td>41</td>\n",
       "      <td>0</td>\n",
       "      <td>1</td>\n",
       "      <td>130</td>\n",
       "      <td>204</td>\n",
       "      <td>0</td>\n",
       "      <td>0</td>\n",
       "      <td>172</td>\n",
       "      <td>0</td>\n",
       "      <td>1.4</td>\n",
       "      <td>2</td>\n",
       "      <td>0</td>\n",
       "      <td>2</td>\n",
       "      <td>1</td>\n",
       "    </tr>\n",
       "    <tr>\n",
       "      <th>3</th>\n",
       "      <td>56</td>\n",
       "      <td>1</td>\n",
       "      <td>1</td>\n",
       "      <td>120</td>\n",
       "      <td>236</td>\n",
       "      <td>0</td>\n",
       "      <td>1</td>\n",
       "      <td>178</td>\n",
       "      <td>0</td>\n",
       "      <td>0.8</td>\n",
       "      <td>2</td>\n",
       "      <td>0</td>\n",
       "      <td>2</td>\n",
       "      <td>1</td>\n",
       "    </tr>\n",
       "    <tr>\n",
       "      <th>4</th>\n",
       "      <td>57</td>\n",
       "      <td>0</td>\n",
       "      <td>0</td>\n",
       "      <td>120</td>\n",
       "      <td>354</td>\n",
       "      <td>0</td>\n",
       "      <td>1</td>\n",
       "      <td>163</td>\n",
       "      <td>1</td>\n",
       "      <td>0.6</td>\n",
       "      <td>2</td>\n",
       "      <td>0</td>\n",
       "      <td>2</td>\n",
       "      <td>1</td>\n",
       "    </tr>\n",
       "    <tr>\n",
       "      <th>...</th>\n",
       "      <td>...</td>\n",
       "      <td>...</td>\n",
       "      <td>...</td>\n",
       "      <td>...</td>\n",
       "      <td>...</td>\n",
       "      <td>...</td>\n",
       "      <td>...</td>\n",
       "      <td>...</td>\n",
       "      <td>...</td>\n",
       "      <td>...</td>\n",
       "      <td>...</td>\n",
       "      <td>...</td>\n",
       "      <td>...</td>\n",
       "      <td>...</td>\n",
       "    </tr>\n",
       "    <tr>\n",
       "      <th>298</th>\n",
       "      <td>57</td>\n",
       "      <td>0</td>\n",
       "      <td>0</td>\n",
       "      <td>140</td>\n",
       "      <td>241</td>\n",
       "      <td>0</td>\n",
       "      <td>1</td>\n",
       "      <td>123</td>\n",
       "      <td>1</td>\n",
       "      <td>0.2</td>\n",
       "      <td>1</td>\n",
       "      <td>0</td>\n",
       "      <td>3</td>\n",
       "      <td>0</td>\n",
       "    </tr>\n",
       "    <tr>\n",
       "      <th>299</th>\n",
       "      <td>45</td>\n",
       "      <td>1</td>\n",
       "      <td>3</td>\n",
       "      <td>110</td>\n",
       "      <td>264</td>\n",
       "      <td>0</td>\n",
       "      <td>1</td>\n",
       "      <td>132</td>\n",
       "      <td>0</td>\n",
       "      <td>1.2</td>\n",
       "      <td>1</td>\n",
       "      <td>0</td>\n",
       "      <td>3</td>\n",
       "      <td>0</td>\n",
       "    </tr>\n",
       "    <tr>\n",
       "      <th>300</th>\n",
       "      <td>68</td>\n",
       "      <td>1</td>\n",
       "      <td>0</td>\n",
       "      <td>144</td>\n",
       "      <td>193</td>\n",
       "      <td>1</td>\n",
       "      <td>1</td>\n",
       "      <td>141</td>\n",
       "      <td>0</td>\n",
       "      <td>3.4</td>\n",
       "      <td>1</td>\n",
       "      <td>2</td>\n",
       "      <td>3</td>\n",
       "      <td>0</td>\n",
       "    </tr>\n",
       "    <tr>\n",
       "      <th>301</th>\n",
       "      <td>57</td>\n",
       "      <td>1</td>\n",
       "      <td>0</td>\n",
       "      <td>130</td>\n",
       "      <td>131</td>\n",
       "      <td>0</td>\n",
       "      <td>1</td>\n",
       "      <td>115</td>\n",
       "      <td>1</td>\n",
       "      <td>1.2</td>\n",
       "      <td>1</td>\n",
       "      <td>1</td>\n",
       "      <td>3</td>\n",
       "      <td>0</td>\n",
       "    </tr>\n",
       "    <tr>\n",
       "      <th>302</th>\n",
       "      <td>57</td>\n",
       "      <td>0</td>\n",
       "      <td>1</td>\n",
       "      <td>130</td>\n",
       "      <td>236</td>\n",
       "      <td>0</td>\n",
       "      <td>0</td>\n",
       "      <td>174</td>\n",
       "      <td>0</td>\n",
       "      <td>0.0</td>\n",
       "      <td>1</td>\n",
       "      <td>1</td>\n",
       "      <td>2</td>\n",
       "      <td>0</td>\n",
       "    </tr>\n",
       "  </tbody>\n",
       "</table>\n",
       "<p>303 rows × 14 columns</p>\n",
       "</div>"
      ],
      "text/plain": [
       "     age  sex  cp  trtbps  chol  fbs  restecg  thalachh  exng  oldpeak  slp  \\\n",
       "0     63    1   3     145   233    1        0       150     0      2.3    0   \n",
       "1     37    1   2     130   250    0        1       187     0      3.5    0   \n",
       "2     41    0   1     130   204    0        0       172     0      1.4    2   \n",
       "3     56    1   1     120   236    0        1       178     0      0.8    2   \n",
       "4     57    0   0     120   354    0        1       163     1      0.6    2   \n",
       "..   ...  ...  ..     ...   ...  ...      ...       ...   ...      ...  ...   \n",
       "298   57    0   0     140   241    0        1       123     1      0.2    1   \n",
       "299   45    1   3     110   264    0        1       132     0      1.2    1   \n",
       "300   68    1   0     144   193    1        1       141     0      3.4    1   \n",
       "301   57    1   0     130   131    0        1       115     1      1.2    1   \n",
       "302   57    0   1     130   236    0        0       174     0      0.0    1   \n",
       "\n",
       "     caa  thall  output  \n",
       "0      0      1       1  \n",
       "1      0      2       1  \n",
       "2      0      2       1  \n",
       "3      0      2       1  \n",
       "4      0      2       1  \n",
       "..   ...    ...     ...  \n",
       "298    0      3       0  \n",
       "299    0      3       0  \n",
       "300    2      3       0  \n",
       "301    1      3       0  \n",
       "302    1      2       0  \n",
       "\n",
       "[303 rows x 14 columns]"
      ]
     },
     "execution_count": 7,
     "metadata": {},
     "output_type": "execute_result"
    }
   ],
   "source": [
    "data"
   ]
  },
  {
   "cell_type": "code",
   "execution_count": 8,
   "metadata": {},
   "outputs": [
    {
     "data": {
      "text/plain": [
       "pandas.core.series.Series"
      ]
     },
     "execution_count": 8,
     "metadata": {},
     "output_type": "execute_result"
    }
   ],
   "source": [
    "type(data['age'])"
   ]
  },
  {
   "cell_type": "code",
   "execution_count": 9,
   "metadata": {},
   "outputs": [
    {
     "data": {
      "text/plain": [
       "0      1\n",
       "1      1\n",
       "2      0\n",
       "3      1\n",
       "4      0\n",
       "      ..\n",
       "298    0\n",
       "299    1\n",
       "300    1\n",
       "301    1\n",
       "302    0\n",
       "Name: sex, Length: 303, dtype: int64"
      ]
     },
     "execution_count": 9,
     "metadata": {},
     "output_type": "execute_result"
    }
   ],
   "source": [
    "data.sex"
   ]
  },
  {
   "cell_type": "code",
   "execution_count": 10,
   "metadata": {},
   "outputs": [
    {
     "data": {
      "text/plain": [
       "0      1\n",
       "1      1\n",
       "2      0\n",
       "3      1\n",
       "4      0\n",
       "      ..\n",
       "298    0\n",
       "299    1\n",
       "300    1\n",
       "301    1\n",
       "302    0\n",
       "Name: sex, Length: 303, dtype: int64"
      ]
     },
     "execution_count": 10,
     "metadata": {},
     "output_type": "execute_result"
    }
   ],
   "source": [
    "data['sex']"
   ]
  },
  {
   "cell_type": "code",
   "execution_count": 11,
   "metadata": {},
   "outputs": [
    {
     "data": {
      "text/html": [
       "<div>\n",
       "<style scoped>\n",
       "    .dataframe tbody tr th:only-of-type {\n",
       "        vertical-align: middle;\n",
       "    }\n",
       "\n",
       "    .dataframe tbody tr th {\n",
       "        vertical-align: top;\n",
       "    }\n",
       "\n",
       "    .dataframe thead th {\n",
       "        text-align: right;\n",
       "    }\n",
       "</style>\n",
       "<table border=\"1\" class=\"dataframe\">\n",
       "  <thead>\n",
       "    <tr style=\"text-align: right;\">\n",
       "      <th></th>\n",
       "      <th>sex</th>\n",
       "      <th>age</th>\n",
       "    </tr>\n",
       "  </thead>\n",
       "  <tbody>\n",
       "    <tr>\n",
       "      <th>0</th>\n",
       "      <td>1</td>\n",
       "      <td>63</td>\n",
       "    </tr>\n",
       "    <tr>\n",
       "      <th>1</th>\n",
       "      <td>1</td>\n",
       "      <td>37</td>\n",
       "    </tr>\n",
       "    <tr>\n",
       "      <th>2</th>\n",
       "      <td>0</td>\n",
       "      <td>41</td>\n",
       "    </tr>\n",
       "    <tr>\n",
       "      <th>3</th>\n",
       "      <td>1</td>\n",
       "      <td>56</td>\n",
       "    </tr>\n",
       "    <tr>\n",
       "      <th>4</th>\n",
       "      <td>0</td>\n",
       "      <td>57</td>\n",
       "    </tr>\n",
       "    <tr>\n",
       "      <th>...</th>\n",
       "      <td>...</td>\n",
       "      <td>...</td>\n",
       "    </tr>\n",
       "    <tr>\n",
       "      <th>298</th>\n",
       "      <td>0</td>\n",
       "      <td>57</td>\n",
       "    </tr>\n",
       "    <tr>\n",
       "      <th>299</th>\n",
       "      <td>1</td>\n",
       "      <td>45</td>\n",
       "    </tr>\n",
       "    <tr>\n",
       "      <th>300</th>\n",
       "      <td>1</td>\n",
       "      <td>68</td>\n",
       "    </tr>\n",
       "    <tr>\n",
       "      <th>301</th>\n",
       "      <td>1</td>\n",
       "      <td>57</td>\n",
       "    </tr>\n",
       "    <tr>\n",
       "      <th>302</th>\n",
       "      <td>0</td>\n",
       "      <td>57</td>\n",
       "    </tr>\n",
       "  </tbody>\n",
       "</table>\n",
       "<p>303 rows × 2 columns</p>\n",
       "</div>"
      ],
      "text/plain": [
       "     sex  age\n",
       "0      1   63\n",
       "1      1   37\n",
       "2      0   41\n",
       "3      1   56\n",
       "4      0   57\n",
       "..   ...  ...\n",
       "298    0   57\n",
       "299    1   45\n",
       "300    1   68\n",
       "301    1   57\n",
       "302    0   57\n",
       "\n",
       "[303 rows x 2 columns]"
      ]
     },
     "execution_count": 11,
     "metadata": {},
     "output_type": "execute_result"
    }
   ],
   "source": [
    "data[['sex','age']]"
   ]
  },
  {
   "cell_type": "code",
   "execution_count": 12,
   "metadata": {},
   "outputs": [
    {
     "data": {
      "text/plain": [
       "Index(['age', 'sex', 'cp', 'trtbps', 'chol', 'fbs', 'restecg', 'thalachh',\n",
       "       'exng', 'oldpeak', 'slp', 'caa', 'thall', 'output'],\n",
       "      dtype='object')"
      ]
     },
     "execution_count": 12,
     "metadata": {},
     "output_type": "execute_result"
    }
   ],
   "source": [
    "data.columns"
   ]
  },
  {
   "cell_type": "code",
   "execution_count": 13,
   "metadata": {},
   "outputs": [
    {
     "data": {
      "text/plain": [
       "age          63.0\n",
       "sex           1.0\n",
       "cp            3.0\n",
       "trtbps      145.0\n",
       "chol        233.0\n",
       "fbs           1.0\n",
       "restecg       0.0\n",
       "thalachh    150.0\n",
       "exng          0.0\n",
       "oldpeak       2.3\n",
       "slp           0.0\n",
       "caa           0.0\n",
       "thall         1.0\n",
       "output        1.0\n",
       "Name: 0, dtype: float64"
      ]
     },
     "execution_count": 13,
     "metadata": {},
     "output_type": "execute_result"
    }
   ],
   "source": [
    "data.iloc[0] # first row series"
   ]
  },
  {
   "cell_type": "code",
   "execution_count": 14,
   "metadata": {},
   "outputs": [
    {
     "data": {
      "text/html": [
       "<div>\n",
       "<style scoped>\n",
       "    .dataframe tbody tr th:only-of-type {\n",
       "        vertical-align: middle;\n",
       "    }\n",
       "\n",
       "    .dataframe tbody tr th {\n",
       "        vertical-align: top;\n",
       "    }\n",
       "\n",
       "    .dataframe thead th {\n",
       "        text-align: right;\n",
       "    }\n",
       "</style>\n",
       "<table border=\"1\" class=\"dataframe\">\n",
       "  <thead>\n",
       "    <tr style=\"text-align: right;\">\n",
       "      <th></th>\n",
       "      <th>age</th>\n",
       "      <th>sex</th>\n",
       "      <th>cp</th>\n",
       "      <th>trtbps</th>\n",
       "      <th>chol</th>\n",
       "      <th>fbs</th>\n",
       "      <th>restecg</th>\n",
       "      <th>thalachh</th>\n",
       "      <th>exng</th>\n",
       "      <th>oldpeak</th>\n",
       "      <th>slp</th>\n",
       "      <th>caa</th>\n",
       "      <th>thall</th>\n",
       "      <th>output</th>\n",
       "    </tr>\n",
       "  </thead>\n",
       "  <tbody>\n",
       "    <tr>\n",
       "      <th>0</th>\n",
       "      <td>63</td>\n",
       "      <td>1</td>\n",
       "      <td>3</td>\n",
       "      <td>145</td>\n",
       "      <td>233</td>\n",
       "      <td>1</td>\n",
       "      <td>0</td>\n",
       "      <td>150</td>\n",
       "      <td>0</td>\n",
       "      <td>2.3</td>\n",
       "      <td>0</td>\n",
       "      <td>0</td>\n",
       "      <td>1</td>\n",
       "      <td>1</td>\n",
       "    </tr>\n",
       "    <tr>\n",
       "      <th>1</th>\n",
       "      <td>37</td>\n",
       "      <td>1</td>\n",
       "      <td>2</td>\n",
       "      <td>130</td>\n",
       "      <td>250</td>\n",
       "      <td>0</td>\n",
       "      <td>1</td>\n",
       "      <td>187</td>\n",
       "      <td>0</td>\n",
       "      <td>3.5</td>\n",
       "      <td>0</td>\n",
       "      <td>0</td>\n",
       "      <td>2</td>\n",
       "      <td>1</td>\n",
       "    </tr>\n",
       "  </tbody>\n",
       "</table>\n",
       "</div>"
      ],
      "text/plain": [
       "   age  sex  cp  trtbps  chol  fbs  restecg  thalachh  exng  oldpeak  slp  \\\n",
       "0   63    1   3     145   233    1        0       150     0      2.3    0   \n",
       "1   37    1   2     130   250    0        1       187     0      3.5    0   \n",
       "\n",
       "   caa  thall  output  \n",
       "0    0      1       1  \n",
       "1    0      2       1  "
      ]
     },
     "execution_count": 14,
     "metadata": {},
     "output_type": "execute_result"
    }
   ],
   "source": [
    "data.iloc[[0,1]] # the first two rows"
   ]
  },
  {
   "cell_type": "code",
   "execution_count": 15,
   "metadata": {},
   "outputs": [
    {
     "data": {
      "text/html": [
       "<div>\n",
       "<style scoped>\n",
       "    .dataframe tbody tr th:only-of-type {\n",
       "        vertical-align: middle;\n",
       "    }\n",
       "\n",
       "    .dataframe tbody tr th {\n",
       "        vertical-align: top;\n",
       "    }\n",
       "\n",
       "    .dataframe thead th {\n",
       "        text-align: right;\n",
       "    }\n",
       "</style>\n",
       "<table border=\"1\" class=\"dataframe\">\n",
       "  <thead>\n",
       "    <tr style=\"text-align: right;\">\n",
       "      <th></th>\n",
       "      <th>sex</th>\n",
       "      <th>trtbps</th>\n",
       "    </tr>\n",
       "  </thead>\n",
       "  <tbody>\n",
       "    <tr>\n",
       "      <th>1</th>\n",
       "      <td>1</td>\n",
       "      <td>130</td>\n",
       "    </tr>\n",
       "    <tr>\n",
       "      <th>2</th>\n",
       "      <td>0</td>\n",
       "      <td>130</td>\n",
       "    </tr>\n",
       "  </tbody>\n",
       "</table>\n",
       "</div>"
      ],
      "text/plain": [
       "   sex  trtbps\n",
       "1    1     130\n",
       "2    0     130"
      ]
     },
     "execution_count": 15,
     "metadata": {},
     "output_type": "execute_result"
    }
   ],
   "source": [
    "data.iloc[[1,2],[1,3]]"
   ]
  },
  {
   "cell_type": "code",
   "execution_count": 16,
   "metadata": {},
   "outputs": [
    {
     "data": {
      "text/plain": [
       "1    37\n",
       "2    41\n",
       "Name: age, dtype: int64"
      ]
     },
     "execution_count": 16,
     "metadata": {},
     "output_type": "execute_result"
    }
   ],
   "source": [
    "data.loc[[1,2],'age']"
   ]
  },
  {
   "cell_type": "code",
   "execution_count": 17,
   "metadata": {
    "scrolled": true
   },
   "outputs": [
    {
     "data": {
      "text/html": [
       "<div>\n",
       "<style scoped>\n",
       "    .dataframe tbody tr th:only-of-type {\n",
       "        vertical-align: middle;\n",
       "    }\n",
       "\n",
       "    .dataframe tbody tr th {\n",
       "        vertical-align: top;\n",
       "    }\n",
       "\n",
       "    .dataframe thead th {\n",
       "        text-align: right;\n",
       "    }\n",
       "</style>\n",
       "<table border=\"1\" class=\"dataframe\">\n",
       "  <thead>\n",
       "    <tr style=\"text-align: right;\">\n",
       "      <th></th>\n",
       "      <th>age</th>\n",
       "      <th>chol</th>\n",
       "    </tr>\n",
       "  </thead>\n",
       "  <tbody>\n",
       "    <tr>\n",
       "      <th>1</th>\n",
       "      <td>37</td>\n",
       "      <td>250</td>\n",
       "    </tr>\n",
       "    <tr>\n",
       "      <th>2</th>\n",
       "      <td>41</td>\n",
       "      <td>204</td>\n",
       "    </tr>\n",
       "  </tbody>\n",
       "</table>\n",
       "</div>"
      ],
      "text/plain": [
       "   age  chol\n",
       "1   37   250\n",
       "2   41   204"
      ]
     },
     "execution_count": 17,
     "metadata": {},
     "output_type": "execute_result"
    }
   ],
   "source": [
    "data.loc[[1,2],['age','chol']]"
   ]
  },
  {
   "cell_type": "code",
   "execution_count": 18,
   "metadata": {},
   "outputs": [
    {
     "data": {
      "text/plain": [
       "0    258\n",
       "1     45\n",
       "Name: fbs, dtype: int64"
      ]
     },
     "execution_count": 18,
     "metadata": {},
     "output_type": "execute_result"
    }
   ],
   "source": [
    "data['fbs'].value_counts()"
   ]
  },
  {
   "cell_type": "code",
   "execution_count": 19,
   "metadata": {},
   "outputs": [
    {
     "data": {
      "text/html": [
       "<div>\n",
       "<style scoped>\n",
       "    .dataframe tbody tr th:only-of-type {\n",
       "        vertical-align: middle;\n",
       "    }\n",
       "\n",
       "    .dataframe tbody tr th {\n",
       "        vertical-align: top;\n",
       "    }\n",
       "\n",
       "    .dataframe thead th {\n",
       "        text-align: right;\n",
       "    }\n",
       "</style>\n",
       "<table border=\"1\" class=\"dataframe\">\n",
       "  <thead>\n",
       "    <tr style=\"text-align: right;\">\n",
       "      <th></th>\n",
       "      <th>age</th>\n",
       "      <th>sex</th>\n",
       "      <th>cp</th>\n",
       "      <th>trtbps</th>\n",
       "      <th>chol</th>\n",
       "      <th>fbs</th>\n",
       "    </tr>\n",
       "  </thead>\n",
       "  <tbody>\n",
       "    <tr>\n",
       "      <th>0</th>\n",
       "      <td>63</td>\n",
       "      <td>1</td>\n",
       "      <td>3</td>\n",
       "      <td>145</td>\n",
       "      <td>233</td>\n",
       "      <td>1</td>\n",
       "    </tr>\n",
       "    <tr>\n",
       "      <th>1</th>\n",
       "      <td>37</td>\n",
       "      <td>1</td>\n",
       "      <td>2</td>\n",
       "      <td>130</td>\n",
       "      <td>250</td>\n",
       "      <td>0</td>\n",
       "    </tr>\n",
       "    <tr>\n",
       "      <th>2</th>\n",
       "      <td>41</td>\n",
       "      <td>0</td>\n",
       "      <td>1</td>\n",
       "      <td>130</td>\n",
       "      <td>204</td>\n",
       "      <td>0</td>\n",
       "    </tr>\n",
       "  </tbody>\n",
       "</table>\n",
       "</div>"
      ],
      "text/plain": [
       "   age  sex  cp  trtbps  chol  fbs\n",
       "0   63    1   3     145   233    1\n",
       "1   37    1   2     130   250    0\n",
       "2   41    0   1     130   204    0"
      ]
     },
     "execution_count": 19,
     "metadata": {},
     "output_type": "execute_result"
    }
   ],
   "source": [
    "data.loc[0:2,'age':'fbs']"
   ]
  },
  {
   "cell_type": "markdown",
   "metadata": {},
   "source": [
    "#### indexes"
   ]
  },
  {
   "cell_type": "code",
   "execution_count": 20,
   "metadata": {},
   "outputs": [],
   "source": [
    "# data.set_index(\"age\", inplace=\"True\") set age as the index"
   ]
  },
  {
   "cell_type": "code",
   "execution_count": 21,
   "metadata": {},
   "outputs": [],
   "source": [
    "# data.loc[\"corey shaffer\"] just an example"
   ]
  },
  {
   "cell_type": "code",
   "execution_count": 22,
   "metadata": {},
   "outputs": [],
   "source": [
    "# data.loc[0] this will give an error"
   ]
  },
  {
   "cell_type": "code",
   "execution_count": 23,
   "metadata": {},
   "outputs": [],
   "source": [
    "# data.reset_index(inplace=True) to reset the index"
   ]
  },
  {
   "cell_type": "code",
   "execution_count": 24,
   "metadata": {},
   "outputs": [],
   "source": [
    "# data = pd.read_csv(\"location\",index_col=\"respondeent\") setting the index while loading the data"
   ]
  },
  {
   "cell_type": "code",
   "execution_count": 25,
   "metadata": {},
   "outputs": [],
   "source": [
    "# data.sort_index(ascending = False, inplace=True) # sort the index in descending order"
   ]
  },
  {
   "cell_type": "code",
   "execution_count": 52,
   "metadata": {},
   "outputs": [
    {
     "name": "stdout",
     "output_type": "stream",
     "text": [
      "Task 43:\n",
      "   a  b   c\n",
      "0  1  9  11\n",
      "1  2  8  12\n",
      "2  3  7  13\n",
      "3  4  6  14\n",
      "changing on one column\n",
      "   a  b   c\n",
      "0  1  9  11\n",
      "1  2  9  12\n",
      "2  3  9  13\n",
      "3  4  9  14\n"
     ]
    }
   ],
   "source": [
    "print('Task 43:') \n",
    "df = pd.DataFrame({\n",
    "    'a' : [1,2,3,4], \n",
    "    'b' : [9,8,7,6],\n",
    "    'c' : [11,12,13,14]\n",
    "})\n",
    "print(df) \n",
    "\n",
    "print('changing on one column')\n",
    "# Change columns\n",
    "df.loc[df.a >= 2,'b'] = 9\n",
    "print(df)"
   ]
  },
  {
   "cell_type": "code",
   "execution_count": 53,
   "metadata": {},
   "outputs": [],
   "source": [
    "df.loc[df.c<=29,'b']=100 # Change columns based on other columns "
   ]
  },
  {
   "cell_type": "code",
   "execution_count": 54,
   "metadata": {},
   "outputs": [
    {
     "name": "stdout",
     "output_type": "stream",
     "text": [
      "   a    b   c\n",
      "0  1  100  11\n",
      "1  2  100  12\n",
      "2  3  100  13\n",
      "3  4  100  14\n"
     ]
    }
   ],
   "source": [
    "print(df)"
   ]
  },
  {
   "cell_type": "code",
   "execution_count": 56,
   "metadata": {},
   "outputs": [],
   "source": [
    "# changing multile columns based on one column\n",
    "df.loc[df.a<=5,['a','b','c']]=100"
   ]
  },
  {
   "cell_type": "code",
   "execution_count": 57,
   "metadata": {},
   "outputs": [
    {
     "data": {
      "text/html": [
       "<div>\n",
       "<style scoped>\n",
       "    .dataframe tbody tr th:only-of-type {\n",
       "        vertical-align: middle;\n",
       "    }\n",
       "\n",
       "    .dataframe tbody tr th {\n",
       "        vertical-align: top;\n",
       "    }\n",
       "\n",
       "    .dataframe thead th {\n",
       "        text-align: right;\n",
       "    }\n",
       "</style>\n",
       "<table border=\"1\" class=\"dataframe\">\n",
       "  <thead>\n",
       "    <tr style=\"text-align: right;\">\n",
       "      <th></th>\n",
       "      <th>a</th>\n",
       "      <th>b</th>\n",
       "      <th>c</th>\n",
       "    </tr>\n",
       "  </thead>\n",
       "  <tbody>\n",
       "    <tr>\n",
       "      <th>0</th>\n",
       "      <td>100</td>\n",
       "      <td>100</td>\n",
       "      <td>100</td>\n",
       "    </tr>\n",
       "    <tr>\n",
       "      <th>1</th>\n",
       "      <td>100</td>\n",
       "      <td>100</td>\n",
       "      <td>100</td>\n",
       "    </tr>\n",
       "    <tr>\n",
       "      <th>2</th>\n",
       "      <td>100</td>\n",
       "      <td>100</td>\n",
       "      <td>100</td>\n",
       "    </tr>\n",
       "    <tr>\n",
       "      <th>3</th>\n",
       "      <td>100</td>\n",
       "      <td>100</td>\n",
       "      <td>100</td>\n",
       "    </tr>\n",
       "  </tbody>\n",
       "</table>\n",
       "</div>"
      ],
      "text/plain": [
       "     a    b    c\n",
       "0  100  100  100\n",
       "1  100  100  100\n",
       "2  100  100  100\n",
       "3  100  100  100"
      ]
     },
     "execution_count": 57,
     "metadata": {},
     "output_type": "execute_result"
    }
   ],
   "source": [
    "df"
   ]
  },
  {
   "cell_type": "code",
   "execution_count": 58,
   "metadata": {},
   "outputs": [],
   "source": [
    "# pandas mask\n",
    "df_mask = pd.DataFrame({\n",
    "    'a' : [True] * 4, \n",
    "    'b' : [False] * 4,\n",
    "    'c' : [True, False] * 2\n",
    "})"
   ]
  },
  {
   "cell_type": "code",
   "execution_count": 59,
   "metadata": {},
   "outputs": [
    {
     "data": {
      "text/html": [
       "<div>\n",
       "<style scoped>\n",
       "    .dataframe tbody tr th:only-of-type {\n",
       "        vertical-align: middle;\n",
       "    }\n",
       "\n",
       "    .dataframe tbody tr th {\n",
       "        vertical-align: top;\n",
       "    }\n",
       "\n",
       "    .dataframe thead th {\n",
       "        text-align: right;\n",
       "    }\n",
       "</style>\n",
       "<table border=\"1\" class=\"dataframe\">\n",
       "  <thead>\n",
       "    <tr style=\"text-align: right;\">\n",
       "      <th></th>\n",
       "      <th>a</th>\n",
       "      <th>b</th>\n",
       "      <th>c</th>\n",
       "    </tr>\n",
       "  </thead>\n",
       "  <tbody>\n",
       "    <tr>\n",
       "      <th>0</th>\n",
       "      <td>True</td>\n",
       "      <td>False</td>\n",
       "      <td>True</td>\n",
       "    </tr>\n",
       "    <tr>\n",
       "      <th>1</th>\n",
       "      <td>True</td>\n",
       "      <td>False</td>\n",
       "      <td>False</td>\n",
       "    </tr>\n",
       "    <tr>\n",
       "      <th>2</th>\n",
       "      <td>True</td>\n",
       "      <td>False</td>\n",
       "      <td>True</td>\n",
       "    </tr>\n",
       "    <tr>\n",
       "      <th>3</th>\n",
       "      <td>True</td>\n",
       "      <td>False</td>\n",
       "      <td>False</td>\n",
       "    </tr>\n",
       "  </tbody>\n",
       "</table>\n",
       "</div>"
      ],
      "text/plain": [
       "      a      b      c\n",
       "0  True  False   True\n",
       "1  True  False  False\n",
       "2  True  False   True\n",
       "3  True  False  False"
      ]
     },
     "execution_count": 59,
     "metadata": {},
     "output_type": "execute_result"
    }
   ],
   "source": [
    "df_mask"
   ]
  },
  {
   "cell_type": "code",
   "execution_count": 60,
   "metadata": {},
   "outputs": [
    {
     "name": "stdout",
     "output_type": "stream",
     "text": [
      "     a     b     c\n",
      "0  100 -1000   100\n",
      "1  100 -1000 -1000\n",
      "2  100 -1000   100\n",
      "3  100 -1000 -1000\n"
     ]
    }
   ],
   "source": [
    "print(df.where(df_mask,-1000))"
   ]
  },
  {
   "cell_type": "code",
   "execution_count": 66,
   "metadata": {},
   "outputs": [
    {
     "data": {
      "text/html": [
       "<div>\n",
       "<style scoped>\n",
       "    .dataframe tbody tr th:only-of-type {\n",
       "        vertical-align: middle;\n",
       "    }\n",
       "\n",
       "    .dataframe tbody tr th {\n",
       "        vertical-align: top;\n",
       "    }\n",
       "\n",
       "    .dataframe thead th {\n",
       "        text-align: right;\n",
       "    }\n",
       "</style>\n",
       "<table border=\"1\" class=\"dataframe\">\n",
       "  <thead>\n",
       "    <tr style=\"text-align: right;\">\n",
       "      <th></th>\n",
       "      <th>a</th>\n",
       "      <th>b</th>\n",
       "      <th>c</th>\n",
       "      <th>logic</th>\n",
       "    </tr>\n",
       "  </thead>\n",
       "  <tbody>\n",
       "    <tr>\n",
       "      <th>0</th>\n",
       "      <td>100</td>\n",
       "      <td>100</td>\n",
       "      <td>100</td>\n",
       "      <td>low</td>\n",
       "    </tr>\n",
       "    <tr>\n",
       "      <th>1</th>\n",
       "      <td>100</td>\n",
       "      <td>100</td>\n",
       "      <td>100</td>\n",
       "      <td>low</td>\n",
       "    </tr>\n",
       "    <tr>\n",
       "      <th>2</th>\n",
       "      <td>100</td>\n",
       "      <td>100</td>\n",
       "      <td>100</td>\n",
       "      <td>low</td>\n",
       "    </tr>\n",
       "    <tr>\n",
       "      <th>3</th>\n",
       "      <td>100</td>\n",
       "      <td>100</td>\n",
       "      <td>100</td>\n",
       "      <td>low</td>\n",
       "    </tr>\n",
       "  </tbody>\n",
       "</table>\n",
       "</div>"
      ],
      "text/plain": [
       "     a    b    c logic\n",
       "0  100  100  100   low\n",
       "1  100  100  100   low\n",
       "2  100  100  100   low\n",
       "3  100  100  100   low"
      ]
     },
     "execution_count": 66,
     "metadata": {},
     "output_type": "execute_result"
    }
   ],
   "source": [
    "import numpy as np\n",
    "df['logic'] = np.where(df['a']<=5,'high','low') #Check high or low comparing the column against 5\n",
    "df"
   ]
  },
  {
   "cell_type": "code",
   "execution_count": 69,
   "metadata": {},
   "outputs": [
    {
     "name": "stdout",
     "output_type": "stream",
     "text": [
      "Task 47:\n",
      "   Language  Math  Science\n",
      "0        60    90       45\n",
      "1        45    80       90\n",
      "2        78    23       95\n",
      "3         4    60       20\n",
      "marks with grades\n",
      "    Language  Math  Science language_grade math_grade science_grade\n",
      "0        60    90       45           Pass       Pass          Fail\n",
      "1        45    80       90           Fail       Pass          Pass\n",
      "2        78    23       95           Pass       Fail          Pass\n",
      "3         4    60       20           Fail       Pass          Fail\n"
     ]
    }
   ],
   "source": [
    "print('Task 47:')\n",
    "marks_df = pd.DataFrame({\n",
    "    'Language' : [60, 45, 78, 4], \n",
    "    'Math' : [90, 80, 23, 60],\n",
    "    'Science' : [45, 90, 95, 20]\n",
    "});\n",
    "print(marks_df)\n",
    "marks_df['language_grade'] = np.where(marks_df['Language'] >= 50, 'Pass', 'Fail')\n",
    "marks_df['math_grade'] = np.where(marks_df['Math'] >= 50, 'Pass', 'Fail')\n",
    "marks_df['science_grade'] = np.where(marks_df['Science'] >= 50, 'Pass', 'Fail')\n",
    "print(\"marks with grades\\n\",marks_df)"
   ]
  },
  {
   "cell_type": "code",
   "execution_count": 75,
   "metadata": {},
   "outputs": [
    {
     "data": {
      "text/html": [
       "<div>\n",
       "<style scoped>\n",
       "    .dataframe tbody tr th:only-of-type {\n",
       "        vertical-align: middle;\n",
       "    }\n",
       "\n",
       "    .dataframe tbody tr th {\n",
       "        vertical-align: top;\n",
       "    }\n",
       "\n",
       "    .dataframe thead th {\n",
       "        text-align: right;\n",
       "    }\n",
       "</style>\n",
       "<table border=\"1\" class=\"dataframe\">\n",
       "  <thead>\n",
       "    <tr style=\"text-align: right;\">\n",
       "      <th></th>\n",
       "      <th>Language</th>\n",
       "      <th>Math</th>\n",
       "      <th>Science</th>\n",
       "      <th>language_grade</th>\n",
       "      <th>math_grade</th>\n",
       "      <th>science_grade</th>\n",
       "    </tr>\n",
       "  </thead>\n",
       "  <tbody>\n",
       "    <tr>\n",
       "      <th>0</th>\n",
       "      <td>60</td>\n",
       "      <td>90</td>\n",
       "      <td>45</td>\n",
       "      <td>Pass</td>\n",
       "      <td>Pass</td>\n",
       "      <td>Fail</td>\n",
       "    </tr>\n",
       "    <tr>\n",
       "      <th>2</th>\n",
       "      <td>78</td>\n",
       "      <td>23</td>\n",
       "      <td>95</td>\n",
       "      <td>Pass</td>\n",
       "      <td>Fail</td>\n",
       "      <td>Pass</td>\n",
       "    </tr>\n",
       "  </tbody>\n",
       "</table>\n",
       "</div>"
      ],
      "text/plain": [
       "   Language  Math  Science language_grade math_grade science_grade\n",
       "0        60    90       45           Pass       Pass          Fail\n",
       "2        78    23       95           Pass       Fail          Pass"
      ]
     },
     "execution_count": 75,
     "metadata": {},
     "output_type": "execute_result"
    }
   ],
   "source": [
    "# printing only the marks with pass in language\n",
    "marks_passed = marks_df[marks_df.Language>=50]\n",
    "marks_passed"
   ]
  },
  {
   "cell_type": "code",
   "execution_count": 78,
   "metadata": {},
   "outputs": [
    {
     "data": {
      "text/html": [
       "<div>\n",
       "<style scoped>\n",
       "    .dataframe tbody tr th:only-of-type {\n",
       "        vertical-align: middle;\n",
       "    }\n",
       "\n",
       "    .dataframe tbody tr th {\n",
       "        vertical-align: top;\n",
       "    }\n",
       "\n",
       "    .dataframe thead th {\n",
       "        text-align: right;\n",
       "    }\n",
       "</style>\n",
       "<table border=\"1\" class=\"dataframe\">\n",
       "  <thead>\n",
       "    <tr style=\"text-align: right;\">\n",
       "      <th></th>\n",
       "      <th>Language</th>\n",
       "      <th>Math</th>\n",
       "      <th>Science</th>\n",
       "      <th>language_grade</th>\n",
       "      <th>math_grade</th>\n",
       "      <th>science_grade</th>\n",
       "    </tr>\n",
       "  </thead>\n",
       "  <tbody>\n",
       "    <tr>\n",
       "      <th>0</th>\n",
       "      <td>60</td>\n",
       "      <td>90</td>\n",
       "      <td>45</td>\n",
       "      <td>Pass</td>\n",
       "      <td>Pass</td>\n",
       "      <td>Fail</td>\n",
       "    </tr>\n",
       "  </tbody>\n",
       "</table>\n",
       "</div>"
      ],
      "text/plain": [
       "   Language  Math  Science language_grade math_grade science_grade\n",
       "0        60    90       45           Pass       Pass          Fail"
      ]
     },
     "execution_count": 78,
     "metadata": {},
     "output_type": "execute_result"
    }
   ],
   "source": [
    "# printing only the marks with pass in language and maths\n",
    "marks_lm = marks_df[(marks_df.Language>=50) & (marks_df.Math>=50)]\n",
    "marks_lm"
   ]
  },
  {
   "cell_type": "code",
   "execution_count": 79,
   "metadata": {},
   "outputs": [
    {
     "name": "stdout",
     "output_type": "stream",
     "text": [
      "Task 51:\n",
      "         age  movies  awards\n",
      "dhanush   31      51      42\n",
      "simbu     23      23      12\n",
      "kamal     65      87       4\n",
      "vikram    50     200      78\n"
     ]
    }
   ],
   "source": [
    "print('Task 51:')\n",
    "stars = {\n",
    "    'age' : [31, 23, 65, 50],\n",
    "    'movies' : [51, 23, 87, 200],\n",
    "    'awards' : [42, 12, 4, 78]\n",
    "    }\n",
    "star_names = ['dhanush', 'simbu', 'kamal', 'vikram']\n",
    "stars_df = pd.DataFrame(data=stars, index=[star_names])\n",
    "print(stars_df)"
   ]
  },
  {
   "cell_type": "code",
   "execution_count": 80,
   "metadata": {},
   "outputs": [
    {
     "data": {
      "text/html": [
       "<div>\n",
       "<style scoped>\n",
       "    .dataframe tbody tr th:only-of-type {\n",
       "        vertical-align: middle;\n",
       "    }\n",
       "\n",
       "    .dataframe tbody tr th {\n",
       "        vertical-align: top;\n",
       "    }\n",
       "\n",
       "    .dataframe thead th {\n",
       "        text-align: right;\n",
       "    }\n",
       "</style>\n",
       "<table border=\"1\" class=\"dataframe\">\n",
       "  <thead>\n",
       "    <tr style=\"text-align: right;\">\n",
       "      <th></th>\n",
       "      <th>age</th>\n",
       "      <th>movies</th>\n",
       "      <th>awards</th>\n",
       "    </tr>\n",
       "  </thead>\n",
       "  <tbody>\n",
       "    <tr>\n",
       "      <th>simbu</th>\n",
       "      <td>23</td>\n",
       "      <td>23</td>\n",
       "      <td>12</td>\n",
       "    </tr>\n",
       "    <tr>\n",
       "      <th>kamal</th>\n",
       "      <td>65</td>\n",
       "      <td>87</td>\n",
       "      <td>4</td>\n",
       "    </tr>\n",
       "  </tbody>\n",
       "</table>\n",
       "</div>"
      ],
      "text/plain": [
       "       age  movies  awards\n",
       "simbu   23      23      12\n",
       "kamal   65      87       4"
      ]
     },
     "execution_count": 80,
     "metadata": {},
     "output_type": "execute_result"
    }
   ],
   "source": [
    "stars_df.iloc[1:3]"
   ]
  },
  {
   "cell_type": "code",
   "execution_count": 81,
   "metadata": {},
   "outputs": [
    {
     "name": "stdout",
     "output_type": "stream",
     "text": [
      "Task 53:\n",
      "    one  two\n",
      "12   10    2\n",
      "14   50    6\n",
      "16   80   56\n",
      "18   40   45\n",
      "label between 12 and 16\n",
      "    one  two\n",
      "12   10    2\n",
      "14   50    6\n",
      "16   80   56\n",
      "index between 1 and 3\n",
      "    one  two\n",
      "14   50    6\n",
      "16   80   56\n"
     ]
    }
   ],
   "source": [
    "print('Task 53:')  \n",
    "numbers = pd.DataFrame({\n",
    "        'one' : [10, 50, 80, 40],\n",
    "        'two' : [2, 6, 56, 45]\n",
    "    },\n",
    "    index = [12, 14, 16, 18])\n",
    "print(numbers)\n",
    "\n",
    "print('label between 12 and 16')\n",
    "print(numbers.loc[12:16])\n",
    "\n",
    "print('index between 1 and 3')\n",
    "print(numbers.iloc[1:3])"
   ]
  },
  {
   "cell_type": "code",
   "execution_count": 82,
   "metadata": {},
   "outputs": [
    {
     "name": "stdout",
     "output_type": "stream",
     "text": [
      "Task 55:\n",
      "         age  movies  awards\n",
      "dhanush   31      51      42\n",
      "kamal     65      87       4\n",
      "vikram    50     200      78\n"
     ]
    }
   ],
   "source": [
    "print('Task 55:')\n",
    "\n",
    "age_movies_25 = stars_df[(stars_df.movies > 25 ) & (stars_df.age > 25)]  \n",
    "print(age_movies_25)"
   ]
  },
  {
   "cell_type": "code",
   "execution_count": 85,
   "metadata": {},
   "outputs": [
    {
     "data": {
      "text/html": [
       "<div>\n",
       "<style scoped>\n",
       "    .dataframe tbody tr th:only-of-type {\n",
       "        vertical-align: middle;\n",
       "    }\n",
       "\n",
       "    .dataframe tbody tr th {\n",
       "        vertical-align: top;\n",
       "    }\n",
       "\n",
       "    .dataframe thead th {\n",
       "        text-align: right;\n",
       "    }\n",
       "</style>\n",
       "<table border=\"1\" class=\"dataframe\">\n",
       "  <thead>\n",
       "    <tr style=\"text-align: right;\">\n",
       "      <th></th>\n",
       "      <th>age</th>\n",
       "      <th>movies</th>\n",
       "      <th>awards</th>\n",
       "    </tr>\n",
       "  </thead>\n",
       "  <tbody>\n",
       "    <tr>\n",
       "      <th>dhanush</th>\n",
       "      <td>31</td>\n",
       "      <td>51</td>\n",
       "      <td>42</td>\n",
       "    </tr>\n",
       "    <tr>\n",
       "      <th>kamal</th>\n",
       "      <td>65</td>\n",
       "      <td>87</td>\n",
       "      <td>4</td>\n",
       "    </tr>\n",
       "  </tbody>\n",
       "</table>\n",
       "</div>"
      ],
      "text/plain": [
       "         age  movies  awards\n",
       "dhanush   31      51      42\n",
       "kamal     65      87       4"
      ]
     },
     "execution_count": 85,
     "metadata": {},
     "output_type": "execute_result"
    }
   ],
   "source": [
    "custom_stars = stars_df[stars_df.age.isin([31,65])] #Stars in in certain ages \n",
    "custom_stars"
   ]
  },
  {
   "cell_type": "code",
   "execution_count": 87,
   "metadata": {},
   "outputs": [
    {
     "data": {
      "text/html": [
       "<div>\n",
       "<style scoped>\n",
       "    .dataframe tbody tr th:only-of-type {\n",
       "        vertical-align: middle;\n",
       "    }\n",
       "\n",
       "    .dataframe tbody tr th {\n",
       "        vertical-align: top;\n",
       "    }\n",
       "\n",
       "    .dataframe thead th {\n",
       "        text-align: right;\n",
       "    }\n",
       "</style>\n",
       "<table border=\"1\" class=\"dataframe\">\n",
       "  <thead>\n",
       "    <tr style=\"text-align: right;\">\n",
       "      <th></th>\n",
       "      <th>age</th>\n",
       "      <th>movies</th>\n",
       "      <th>awards</th>\n",
       "    </tr>\n",
       "  </thead>\n",
       "  <tbody>\n",
       "    <tr>\n",
       "      <th>simbu</th>\n",
       "      <td>23</td>\n",
       "      <td>23</td>\n",
       "      <td>12</td>\n",
       "    </tr>\n",
       "    <tr>\n",
       "      <th>vikram</th>\n",
       "      <td>50</td>\n",
       "      <td>200</td>\n",
       "      <td>78</td>\n",
       "    </tr>\n",
       "  </tbody>\n",
       "</table>\n",
       "</div>"
      ],
      "text/plain": [
       "        age  movies  awards\n",
       "simbu    23      23      12\n",
       "vikram   50     200      78"
      ]
     },
     "execution_count": 87,
     "metadata": {},
     "output_type": "execute_result"
    }
   ],
   "source": [
    "not_in = stars_df[~(stars_df.age.isin([31,65]))] #Stars not in certain ages \n",
    "not_in"
   ]
  },
  {
   "cell_type": "code",
   "execution_count": 90,
   "metadata": {},
   "outputs": [
    {
     "name": "stdout",
     "output_type": "stream",
     "text": [
      "  animal size  weight  adult\n",
      "0    cat    S       8  False\n",
      "1    dog    S      10  False\n",
      "2    cat    M      11  False\n",
      "3   fish    M       1  False\n",
      "4    dog    M      20  False\n",
      "5    cat    L      12   True\n",
      "6    cat    L      12   True\n",
      "       size   weight  adult\n",
      "animal                     \n",
      "cat       L   9.4375   True\n",
      "dog       L  12.5000   True\n",
      "fish      L   1.2500   True\n"
     ]
    }
   ],
   "source": [
    "# apply custom function\n",
    "\n",
    "def GrowUp(x):\n",
    "    avg_weight =  sum(x[x['size'] == 'series1'].weight * 1.5)\n",
    "    avg_weight += sum(x[x['size'] == 'M'].weight * 1.25)\n",
    "    avg_weight += sum(x[x['size'] == 'L'].weight)\n",
    "    avg_weight /= len(x)\n",
    "    return pd.Series(['L',avg_weight,True], index=['size', 'weight', 'adult'])\n",
    "\n",
    "animals_df = pd.DataFrame({'animal': 'cat dog cat fish dog cat cat'.split(),\n",
    "                   'size': list('SSMMMLL'),\n",
    "                   'weight': [8, 10, 11, 1, 20, 12, 12],\n",
    "                   'adult' : [False] * 5 + [True] * 2})\n",
    "\n",
    "gb = animals_df.groupby(['animal'])\n",
    "\n",
    "expected_df = gb.apply(GrowUp)\n",
    "print(animals_df)\n",
    "print(expected_df)"
   ]
  },
  {
   "cell_type": "code",
   "execution_count": 92,
   "metadata": {},
   "outputs": [
    {
     "name": "stdout",
     "output_type": "stream",
     "text": [
      "Task 59:\n",
      "  animal size  weight  adult\n",
      "5    cat    L      12   True\n",
      "6    cat    L      12   True\n"
     ]
    }
   ],
   "source": [
    "print('Task 59:')\n",
    "weights = animals_df.groupby(['weight']).get_group(12)  \n",
    "print(weights)"
   ]
  },
  {
   "cell_type": "code",
   "execution_count": 93,
   "metadata": {},
   "outputs": [
    {
     "name": "stdout",
     "output_type": "stream",
     "text": [
      "Task 60:\n",
      "   a  b\n",
      "0  1  2\n",
      "1  1  1\n",
      "2  2  3\n",
      "3  4  4\n",
      "Index(['a', 'b'], dtype='object')\n",
      "   a  b a_side b_side\n",
      "0  1  2  North   East\n",
      "1  1  1  North  North\n",
      "2  2  3   East  South\n",
      "3  4  4   West   West\n"
     ]
    }
   ],
   "source": [
    "# Creating new Columns using Applymap\n",
    "# Sides & applymap \n",
    "\n",
    "print('Task 60:')\n",
    "sides_df = pd.DataFrame({\n",
    "    'a' : [1, 1, 2, 4],\n",
    "    'b' : [2, 1, 3, 4]\n",
    "    })  \n",
    "print(sides_df)\n",
    "source_cols = sides_df.columns\n",
    "print(source_cols)\n",
    "new_cols = [str(x)+\"_side\" for x in source_cols]\n",
    "side_category = {\n",
    "    1 : 'North',\n",
    "    2 : 'East',\n",
    "    3 : 'South', \n",
    "    4 : 'West'\n",
    "    }\n",
    "sides_df[new_cols] = sides_df[source_cols].applymap(side_category.get)\n",
    "print(sides_df)"
   ]
  },
  {
   "cell_type": "code",
   "execution_count": 94,
   "metadata": {},
   "outputs": [
    {
     "name": "stdout",
     "output_type": "stream",
     "text": [
      "Task 61:\n",
      "   A  B\n",
      "0  1  1\n",
      "1  1 -1\n",
      "2  2  1\n",
      "3  2  2\n",
      "     B\n",
      "0  1.0\n",
      "1  1.0\n",
      "2  1.0\n",
      "3  2.0\n"
     ]
    }
   ],
   "source": [
    "\n",
    "# Replacing some values with mean of the rest of a group \n",
    "print('Task 61:')  \n",
    "df = pd.DataFrame({'A' : [1, 1, 2, 2], 'B' : [1, -1, 1, 2]})\n",
    "print(df)\n",
    "\n",
    "gb = df.groupby('A')\n",
    "\n",
    "def replace(g):\n",
    "    mask = g < 0\n",
    "    g.loc[mask] = g[~mask].mean()\n",
    "    return g\n",
    "\n",
    "gbt = gb.transform(replace)\n",
    "\n",
    "print(gbt)"
   ]
  },
  {
   "cell_type": "code",
   "execution_count": 96,
   "metadata": {},
   "outputs": [
    {
     "name": "stdout",
     "output_type": "stream",
     "text": [
      "Task 64:\n",
      "    a   b\n",
      "0  44  54\n",
      "1  92  44\n",
      "2  18   0\n",
      "3  27  12\n",
      "4  20  25\n",
      "with argsort\n",
      "    a   b\n",
      "0  44  54\n",
      "1  92  44\n",
      "3  27  12\n",
      "4  20  25\n",
      "2  18   0\n",
      "    a   b\n",
      "2  18   0\n",
      "3  27  12\n",
      "4  20  25\n",
      "1  92  44\n",
      "0  44  54\n"
     ]
    }
   ],
   "source": [
    "\n",
    "# argsort\n",
    "# Select rows with data closest to certain value using argsort \n",
    "print('Task 64:')  \n",
    "df = pd.DataFrame({\n",
    "    \"a\": np.random.randint(0, 100, size=(5,)), \n",
    "    \"b\": np.random.randint(0, 70, size=(5,))\n",
    "})\n",
    "print(df)\n",
    "par = 65\n",
    "print('with argsort')\n",
    "df1 = df.loc[(df.a-par).abs().argsort()]\n",
    "print(df1)\n",
    "\n",
    "print(df.loc[(df.b-2).abs().argsort()])"
   ]
  },
  {
   "cell_type": "code",
   "execution_count": 100,
   "metadata": {},
   "outputs": [
    {
     "name": "stdout",
     "output_type": "stream",
     "text": [
      "Task 65:\n",
      "   age  movies\n",
      "1   50       3\n",
      "3   45      45\n",
      "4   65      34\n",
      "2   24      90\n",
      "5   18       2\n",
      "0   17       2\n"
     ]
    }
   ],
   "source": [
    "\n",
    "# argsort with stars\n",
    "# old stars (near by 50 age) argsort \n",
    "print('Task 65:')  \n",
    "stars = pd.DataFrame({\n",
    "    \"age\": [17, 50, 24, 45, 65, 18], \n",
    "    \"movies\": [2, 3, 90, 45, 34, 2] \n",
    "})\n",
    "print(stars.loc[(stars.age - 50).abs().argsort()])"
   ]
  },
  {
   "cell_type": "code",
   "execution_count": 105,
   "metadata": {},
   "outputs": [
    {
     "name": "stdout",
     "output_type": "stream",
     "text": [
      "Task 67:\n",
      "   age  movies\n",
      "0   17      22\n",
      "1   50      33\n",
      "2   24      90\n",
      "3   45      75\n",
      "4   65      34\n",
      "5   18       2\n",
      "Young and more movies acted\n",
      "young\n",
      "\n",
      " <class 'pandas.core.series.Series'>\n",
      "   age  movies\n",
      "2   24      90\n"
     ]
    }
   ],
   "source": [
    "import functools\n",
    "print('Task 67:')\n",
    "stars = pd.DataFrame({\n",
    "    \"age\": [17, 50, 24, 45, 65, 18], \n",
    "    \"movies\": [22, 33, 90, 75, 34, 2] \n",
    "})  \n",
    "print(stars)\n",
    "print('Young and more movies acted')\n",
    "young = stars.age < 30    \n",
    "print(\"young\\n\\n\",type(young))\n",
    "more_movies = stars.movies > 30\n",
    "young_more = [young, more_movies]\n",
    "young_more_Criteria = functools.reduce(lambda x, y : x & y, young_more)\n",
    "print(stars[young_more_Criteria])"
   ]
  },
  {
   "cell_type": "code",
   "execution_count": 106,
   "metadata": {},
   "outputs": [
    {
     "name": "stdout",
     "output_type": "stream",
     "text": [
      "Task 69:\n",
      "   age  salary  grade\n",
      "0   17      75      7\n",
      "1   50      33      8\n",
      "2   24      90      9\n",
      "3   45     175      2\n",
      "4   65     134      7\n",
      "5   18      78      8\n",
      "   User Age  Salary 2018  grade\n",
      "0        17           75      7\n",
      "1        50           33      8\n",
      "2        24           90      9\n",
      "3        45          175      2\n",
      "4        65          134      7\n",
      "5        18           78      8\n"
     ]
    }
   ],
   "source": [
    "print('Task 69:')  \n",
    "employees = pd.DataFrame({\n",
    "    \"age\": [17, 50, 24, 45, 65, 18], \n",
    "    \"salary\": [75, 33, 90, 175, 134, 78],\n",
    "    \"grade\" : [7, 8, 9, 2, 7, 8] \n",
    "})  \n",
    "print(employees)\n",
    "employees.rename(columns={'age': 'User Age', 'salary': 'Salary 2018'}, inplace=True)\n",
    "print(employees)"
   ]
  },
  {
   "cell_type": "code",
   "execution_count": 107,
   "metadata": {},
   "outputs": [
    {
     "name": "stdout",
     "output_type": "stream",
     "text": [
      "Task 70:\n",
      "   age  salary  grade\n",
      "0   17      75      7\n",
      "1   50      33      8\n",
      "2   24      90      9\n",
      "3   45     175      2\n",
      "4   65     134      7\n",
      "5   18      78      8\n",
      "   age  salary  grade     group\n",
      "0   17      75      7 -0.138280\n",
      "1   50      33      8 -1.470184\n",
      "2   24      90      9  1.108995\n",
      "3   45     175      2  1.089966\n",
      "4   65     134      7 -0.985166\n",
      "5   18      78      8 -0.619781\n"
     ]
    }
   ],
   "source": [
    "# adding a new column\n",
    "print('Task 70:')  \n",
    "employees = pd.DataFrame({\n",
    "    \"age\": [17, 50, 24, 45, 65, 18], \n",
    "    \"salary\": [75, 33, 90, 175, 134, 78],\n",
    "    \"grade\" : [7, 8, 9, 2, 7, 8] \n",
    "})  \n",
    "print(employees)\n",
    "employees['group'] = pd.Series(np.random.randn(len(employees)))\n",
    "print(employees)"
   ]
  },
  {
   "cell_type": "code",
   "execution_count": 109,
   "metadata": {},
   "outputs": [
    {
     "name": "stdout",
     "output_type": "stream",
     "text": [
      "Task 71:\n",
      "   age  salary  grade\n",
      "0   17      75      7\n",
      "1   50      33      8\n",
      "2   24      90      9\n",
      "3   45     175      2\n",
      "4   65     134      7\n",
      "5   18      78      8\n",
      "   age  salary  grade     group\n",
      "0   17      75      7  0.581870\n",
      "1   50      33      8 -1.330991\n",
      "2   24      90      9 -0.398049\n",
      "3   45     175      2 -1.265309\n",
      "4   65     134      7  0.582696\n",
      "5   18      78      8 -0.358846\n",
      "   salary  grade     group\n",
      "0      75      7  0.581870\n",
      "1      33      8 -1.330991\n",
      "2      90      9 -0.398049\n",
      "3     175      2 -1.265309\n",
      "4     134      7  0.582696\n",
      "5      78      8 -0.358846\n"
     ]
    }
   ],
   "source": [
    "# drop a column\n",
    "print('Task 71:')  \n",
    "employees = pd.DataFrame({\n",
    "    \"age\": [17, 50, 24, 45, 65, 18], \n",
    "    \"salary\": [75, 33, 90, 175, 134, 78],\n",
    "    \"grade\" : [7, 8, 9, 2, 7, 8] \n",
    "})  \n",
    "print(employees)\n",
    "employees['group'] = pd.Series(np.random.randn(len(employees)))\n",
    "print(employees)\n",
    "employees.drop(employees.columns[[0]], axis=1, inplace = True)\n",
    "print(employees)"
   ]
  },
  {
   "cell_type": "code",
   "execution_count": 110,
   "metadata": {},
   "outputs": [
    {
     "name": "stdout",
     "output_type": "stream",
     "text": [
      "Task 72:\n",
      "   age  salary  grade\n",
      "0   17      75      7\n",
      "1   50      33      8\n",
      "2   24      90      9\n",
      "3   45     175      2\n",
      "4   65     134      7\n",
      "5   18      78      8\n",
      "   age  salary  grade     group\n",
      "0   17      75      7 -0.321112\n",
      "1   50      33      8 -1.346738\n",
      "2   24      90      9 -0.696919\n",
      "3   45     175      2 -0.634617\n",
      "4   65     134      7 -1.382753\n",
      "5   18      78      8 -0.697167\n",
      "   age     group\n",
      "0   17 -0.321112\n",
      "1   50 -1.346738\n",
      "2   24 -0.696919\n",
      "3   45 -0.634617\n",
      "4   65 -1.382753\n",
      "5   18 -0.697167\n"
     ]
    }
   ],
   "source": [
    "# Drop multiple columns \n",
    "print('Task 72:')  \n",
    "employees = pd.DataFrame({\n",
    "    \"age\": [17, 50, 24, 45, 65, 18], \n",
    "    \"salary\": [75, 33, 90, 175, 134, 78],\n",
    "    \"grade\" : [7, 8, 9, 2, 7, 8] \n",
    "})  \n",
    "print(employees)\n",
    "employees['group'] = pd.Series(np.random.randn(len(employees)))\n",
    "print(employees)\n",
    "employees.drop(employees.columns[[1, 2]], axis=1, inplace = True)\n",
    "print(employees)"
   ]
  },
  {
   "cell_type": "code",
   "execution_count": 111,
   "metadata": {},
   "outputs": [
    {
     "name": "stdout",
     "output_type": "stream",
     "text": [
      "Task 73:\n",
      "   age  salary  grade  group\n",
      "0   17      75      7      1\n",
      "1   50      33      8      1\n",
      "2   24      90      9      2\n",
      "3   45     175      2      2\n",
      "4   65     134      7      2\n",
      "5   18      78      8      1\n",
      "   salary  grade\n",
      "0      75      7\n",
      "1      33      8\n",
      "2      90      9\n",
      "3     175      2\n",
      "4     134      7\n",
      "5      78      8\n"
     ]
    }
   ],
   "source": [
    "# drop the first and last column\n",
    "print('Task 73:')  \n",
    "employees = pd.DataFrame({\n",
    "    \"age\": [17, 50, 24, 45, 65, 18], \n",
    "    \"salary\": [75, 33, 90, 175, 134, 78],\n",
    "    \"grade\" : [7, 8, 9, 2, 7, 8],\n",
    "    \"group\" : [1, 1, 2, 2, 2, 1] \n",
    "    \n",
    "})  \n",
    "print(employees)\n",
    "employees.drop(employees.columns[[0, len(employees.columns)-1]], axis=1, inplace = True)\n",
    "print(employees)"
   ]
  },
  {
   "cell_type": "code",
   "execution_count": 112,
   "metadata": {},
   "outputs": [
    {
     "name": "stdout",
     "output_type": "stream",
     "text": [
      "Task 74:\n",
      "   age  salary  grade  group\n",
      "0   17      75      7      1\n",
      "1   50      33      8      1\n",
      "2   24      90      9      2\n",
      "3   45     175      2      2\n",
      "4   65     134      7      2\n",
      "5   18      78      8      1\n",
      "   age  salary  grade\n",
      "0   17      75      7\n",
      "1   50      33      8\n",
      "2   24      90      9\n",
      "3   45     175      2\n",
      "4   65     134      7\n",
      "5   18      78      8\n",
      "0    1\n",
      "1    1\n",
      "2    2\n",
      "3    2\n",
      "4    2\n",
      "5    1\n",
      "Name: group, dtype: int64\n"
     ]
    }
   ],
   "source": [
    "#Delete by pop function  \n",
    "print('Task 74:')  \n",
    "employees = pd.DataFrame({\n",
    "    \"age\": [17, 50, 24, 45, 65, 18], \n",
    "    \"salary\": [75, 33, 90, 175, 134, 78],\n",
    "    \"grade\" : [7, 8, 9, 2, 7, 8],\n",
    "    \"group\" : [1, 1, 2, 2, 2, 1] \n",
    "    \n",
    "})  \n",
    "print(employees)\n",
    "group = employees.pop('group')\n",
    "print(employees)\n",
    "print(group)"
   ]
  },
  {
   "cell_type": "code",
   "execution_count": 115,
   "metadata": {},
   "outputs": [],
   "source": [
    "# #DataFrame.from_items \n",
    "# print('Task 75:')  \n",
    "# df = pd.DataFrame.from_items([('A', [1, 2, 3]), ('B', [4, 5, 6]), ('C', [7,8, 9])], orient='index', columns=['one', 'two', 'three'])\n",
    "#/print(df) # throwing error"
   ]
  },
  {
   "cell_type": "code",
   "execution_count": 116,
   "metadata": {},
   "outputs": [
    {
     "name": "stdout",
     "output_type": "stream",
     "text": [
      "Task 76:\n",
      "   age  salary  grade  group\n",
      "0   17      75      7      1\n",
      "1   50      33      8      1\n",
      "2   24      90      9      2\n",
      "3   45     175      2      2\n",
      "4   65     134      7      2\n",
      "5   18      78      8      1\n",
      "['age', 'salary', 'grade', 'group']\n",
      "[[17, 75, 7, 1], [50, 33, 8, 1], [24, 90, 9, 2], [45, 175, 2, 2], [65, 134, 7, 2], [18, 78, 8, 1]]\n"
     ]
    }
   ],
   "source": [
    "#Pandas to list \n",
    "print('Task 76:')\n",
    "employees = pd.DataFrame({\n",
    "    \"age\": [17, 50, 24, 45, 65, 18], \n",
    "    \"salary\": [75, 33, 90, 175, 134, 78],\n",
    "    \"grade\" : [7, 8, 9, 2, 7, 8],\n",
    "    \"group\" : [1, 1, 2, 2, 2, 1] \n",
    "    \n",
    "})  \n",
    "print(employees)  \n",
    "employees_list1 = list(employees.columns.values) \n",
    "employees_list2 = employees.values.tolist()\n",
    "#employees_list = list(employees)\n",
    "print(employees_list1)\n",
    "print(employees_list2)"
   ]
  },
  {
   "cell_type": "code",
   "execution_count": 117,
   "metadata": {},
   "outputs": [
    {
     "name": "stdout",
     "output_type": "stream",
     "text": [
      "Task 77:\n",
      "   age  salary  grade  group\n",
      "0   17      75      7      1\n",
      "1   50      33      8      1\n",
      "2   24      90      9      2\n",
      "3   45     175      2      2\n",
      "4   65     134      7      2\n",
      "5   18      78      8      1\n",
      "[[17, 75, 7, 1], [50, 33, 8, 1], [24, 90, 9, 2], [45, 175, 2, 2], [65, 134, 7, 2], [18, 78, 8, 1]]\n",
      "<class 'list'>\n",
      "6\n"
     ]
    }
   ],
   "source": [
    "#Pandas rows to list\n",
    "print('Task 77:')\n",
    "employees = pd.DataFrame({\n",
    "    \"age\": [17, 50, 24, 45, 65, 18], \n",
    "    \"salary\": [75, 33, 90, 175, 134, 78],\n",
    "    \"grade\" : [7, 8, 9, 2, 7, 8],\n",
    "    \"group\" : [1, 1, 2, 2, 2, 1] \n",
    "    \n",
    "})  \n",
    "print(employees)  \n",
    "employees_list2 = employees.values.tolist()\n",
    "print(employees_list2)\n",
    "print(type(employees_list2))\n",
    "print(len(employees_list2))"
   ]
  },
  {
   "cell_type": "code",
   "execution_count": 118,
   "metadata": {},
   "outputs": [
    {
     "name": "stdout",
     "output_type": "stream",
     "text": [
      "Task 79:\n",
      "   age  salary  grade  group\n",
      "0   17      75      7      1\n",
      "1   50      33      8      1\n",
      "2   24      90      9      2\n",
      "3   45     175      2      2\n",
      "4   65     134      7      2\n",
      "5   18      78      8      1\n",
      "<map object at 0x7f81c3de17d0>\n",
      "<class 'map'>\n"
     ]
    }
   ],
   "source": [
    "#Pandas rows to map \n",
    "print('Task 79:')\n",
    "employees = pd.DataFrame({\n",
    "    \"age\": [17, 50, 24, 45, 65, 18], \n",
    "    \"salary\": [75, 33, 90, 175, 134, 78],\n",
    "    \"grade\" : [7, 8, 9, 2, 7, 8],\n",
    "    \"group\" : [1, 1, 2, 2, 2, 1] \n",
    "    \n",
    "})  \n",
    "print(employees)  \n",
    "employees_list2 = map(list, employees.values)\n",
    "print(employees_list2)\n",
    "print(type(employees_list2))"
   ]
  },
  {
   "cell_type": "code",
   "execution_count": 119,
   "metadata": {},
   "outputs": [
    {
     "name": "stdout",
     "output_type": "stream",
     "text": [
      "Task 81:\n",
      "   id      city  count\n",
      "0   1   Toronto      7\n",
      "1   1  Montreal      8\n",
      "2   2   Calgary      9\n",
      "3   2  Montreal      2\n",
      "4   3  Montreal      7\n",
      "5   3    Ottawa      8\n",
      "   id      city  count\n",
      "1   1  Montreal      8\n",
      "3   2  Montreal      2\n",
      "5   3    Ottawa      8\n"
     ]
    }
   ],
   "source": [
    "# drop duplicates\n",
    "print('Task 81:')  \n",
    "users = pd.DataFrame({\n",
    "    \"id\": [1, 1, 2, 2, 3, 3], \n",
    "    \"city\": ['Toronto', 'Montreal', 'Calgary', 'Montreal', 'Montreal', 'Ottawa'],\n",
    "    \"count\" : [7, 8, 9, 2, 7, 8] \n",
    "    \n",
    "}) \n",
    "print(users)\n",
    "users.drop_duplicates('id', inplace=True, keep='last')\n",
    "print(users)"
   ]
  },
  {
   "cell_type": "code",
   "execution_count": 122,
   "metadata": {},
   "outputs": [
    {
     "name": "stdout",
     "output_type": "stream",
     "text": [
      "Task 82:\n",
      "   id      city  count\n",
      "0   1   Toronto      7\n",
      "1   1  Montreal      8\n",
      "2   2   Calgary      9\n",
      "3   2  Montreal      2\n",
      "4   3  Montreal      7\n",
      "5   3    Ottawa      8\n",
      "   id      city\n",
      "0   1   Toronto\n",
      "1   1  Montreal\n",
      "2   2   Calgary\n",
      "3   2  Montreal\n",
      "4   3  Montreal\n",
      "5   3    Ottawa\n"
     ]
    }
   ],
   "source": [
    "#Selecting multiple columns \n",
    "print('Task 82:')  \n",
    "users = pd.DataFrame({\n",
    "    \"id\": [1, 1, 2, 2, 3, 3], \n",
    "    \"city\": ['Toronto', 'Montreal', 'Calgary', 'Montreal', 'Montreal', 'Ottawa'],\n",
    "    \"count\" : [7, 8, 9, 2, 7, 8] \n",
    "    \n",
    "}) \n",
    "print(users)\n",
    "users1 = users[['id', 'city']]\n",
    "print(users1)"
   ]
  },
  {
   "cell_type": "code",
   "execution_count": 124,
   "metadata": {},
   "outputs": [
    {
     "name": "stdout",
     "output_type": "stream",
     "text": [
      "Task 83:\n",
      "   id      city  count\n",
      "0   1   Toronto      7\n",
      "1   1  Montreal      8\n",
      "2   2   Calgary      9\n",
      "3   2  Montreal      2\n",
      "4   3  Montreal      7\n",
      "5   3    Ottawa      8\n",
      "   id  count\n",
      "0   1      7\n",
      "1   1      8\n",
      "2   2      9\n",
      "3   2      2\n",
      "4   3      7\n",
      "5   3      8\n"
     ]
    }
   ],
   "source": [
    "#Selecting multiple columns \n",
    "print('Task 83:')  \n",
    "users = pd.DataFrame({\n",
    "    \"id\": [1, 1, 2, 2, 3, 3], \n",
    "    \"city\": ['Toronto', 'Montreal', 'Calgary', 'Montreal', 'Montreal', 'Ottawa'],\n",
    "    \"count\" : [7, 8, 9, 2, 7, 8] \n",
    "}) \n",
    "print(users)\n",
    "columns = ['id', 'count']\n",
    "users1 = pd.DataFrame(users, columns=columns)\n",
    "print(users1)"
   ]
  },
  {
   "cell_type": "code",
   "execution_count": 125,
   "metadata": {},
   "outputs": [
    {
     "name": "stdout",
     "output_type": "stream",
     "text": [
      "Task 84:\n",
      "   id      city  count\n",
      "0   1   Toronto      7\n",
      "1   1  Montreal      8\n",
      "2   2   Calgary      9\n",
      "3   2  Montreal      2\n",
      "4   3  Montreal      7\n",
      "5   3    Ottawa      8\n",
      "       city  count\n",
      "0   Toronto      7\n",
      "1  Montreal      8\n"
     ]
    }
   ],
   "source": [
    "# row and column slicing\n",
    "print('Task 84:')  \n",
    "users = pd.DataFrame({\n",
    "    \"id\": [1, 1, 2, 2, 3, 3], \n",
    "    \"city\": ['Toronto', 'Montreal', 'Calgary', 'Montreal', 'Montreal', 'Ottawa'],\n",
    "    \"count\" : [7, 8, 9, 2, 7, 8] \n",
    "    \n",
    "}) \n",
    "print(users)    \n",
    "users1 = users.iloc[0:2, 1:3]\n",
    "print(users1)"
   ]
  },
  {
   "cell_type": "code",
   "execution_count": 126,
   "metadata": {},
   "outputs": [
    {
     "name": "stdout",
     "output_type": "stream",
     "text": [
      "Task 85:\n",
      "   id      city  count\n",
      "0   1   Toronto      7\n",
      "1   1  Montreal      8\n",
      "2   2   Calgary      9\n",
      "3   2  Montreal      2\n",
      "4   3  Montreal      7\n",
      "5   3    Ottawa      8\n",
      "Toronto ==> 7\n",
      "Montreal ==> 8\n",
      "Calgary ==> 9\n",
      "Montreal ==> 2\n",
      "Montreal ==> 7\n",
      "Ottawa ==> 8\n"
     ]
    }
   ],
   "source": [
    "# iterating rows\n",
    "print('Task 85:')  \n",
    "users = pd.DataFrame({\n",
    "    \"id\": [1, 1, 2, 2, 3, 3], \n",
    "    \"city\": ['Toronto', 'Montreal', 'Calgary', 'Montreal', 'Montreal', 'Ottawa'],\n",
    "    \"count\" : [7, 8, 9, 2, 7, 8] \n",
    "    \n",
    "}) \n",
    "print(users)    \n",
    "for index, row in users.iterrows():\n",
    "    print(row['city'], \"==>\", row['count'])"
   ]
  },
  {
   "cell_type": "code",
   "execution_count": 127,
   "metadata": {},
   "outputs": [
    {
     "name": "stdout",
     "output_type": "stream",
     "text": [
      "Task 86:\n",
      "   id      city  count\n",
      "0   1   Toronto      7\n",
      "1   1  Montreal      8\n",
      "2   2   Calgary      9\n",
      "3   2  Montreal      2\n",
      "4   3  Montreal      7\n",
      "5   3    Ottawa      8\n",
      "Toronto\n",
      "Montreal\n",
      "Calgary\n",
      "Montreal\n",
      "Montreal\n",
      "Ottawa\n",
      "7\n",
      "8\n",
      "9\n",
      "2\n",
      "7\n",
      "8\n"
     ]
    }
   ],
   "source": [
    "# iterating duplicates\n",
    "print('Task 86:')  \n",
    "users = pd.DataFrame({\n",
    "    \"id\": [1, 1, 2, 2, 3, 3], \n",
    "    \"city\": ['Toronto', 'Montreal', 'Calgary', 'Montreal', 'Montreal', 'Ottawa'],\n",
    "    \"count\" : [7, 8, 9, 2, 7, 8] \n",
    "    \n",
    "}) \n",
    "print(users)    \n",
    "for row in users.itertuples(index=True, name='Pandas'):\n",
    "    print(getattr(row, 'city'))\n",
    "    \n",
    "for row in users.itertuples(index=True, name='Pandas'):\n",
    "    print(row.count)"
   ]
  },
  {
   "cell_type": "code",
   "execution_count": 128,
   "metadata": {},
   "outputs": [
    {
     "name": "stdout",
     "output_type": "stream",
     "text": [
      "Task 87:\n",
      "   id      city  count\n",
      "0   1   Toronto      7\n",
      "1   1  Montreal      8\n",
      "2   2   Calgary      9\n",
      "3   2  Montreal      2\n",
      "4   3  Montreal      7\n",
      "5   3    Ottawa      8\n",
      "1\n",
      "Toronto\n",
      "7\n",
      "1\n",
      "Montreal\n",
      "8\n",
      "2\n",
      "Calgary\n",
      "9\n",
      "2\n",
      "Montreal\n",
      "2\n",
      "3\n",
      "Montreal\n",
      "7\n",
      "3\n",
      "Ottawa\n",
      "8\n"
     ]
    }
   ],
   "source": [
    "#iterating rows and columns\n",
    "print('Task 87:')  \n",
    "users = pd.DataFrame({\n",
    "    \"id\": [1, 1, 2, 2, 3, 3], \n",
    "    \"city\": ['Toronto', 'Montreal', 'Calgary', 'Montreal', 'Montreal', 'Ottawa'],\n",
    "    \"count\" : [7, 8, 9, 2, 7, 8] \n",
    "    \n",
    "}) \n",
    "print(users)    \n",
    "for i, row in users.iterrows():\n",
    "    for j, col in row.iteritems():    \n",
    "        print(col)"
   ]
  },
  {
   "cell_type": "code",
   "execution_count": 129,
   "metadata": {},
   "outputs": [
    {
     "name": "stdout",
     "output_type": "stream",
     "text": [
      "Task 88:\n",
      "[{'points': 50, 'time': '5:00', 'year': 2010}, {'points': 25, 'time': '6:00', 'month': 'february'}, {'points': 90, 'time': '9:00', 'month': 'january'}, {'points_h1': 20, 'month': 'june'}]\n",
      "   points  time    year     month  points_h1\n",
      "0    50.0  5:00  2010.0       NaN        NaN\n",
      "1    25.0  6:00     NaN  february        NaN\n",
      "2    90.0  9:00     NaN   january        NaN\n",
      "3     NaN   NaN     NaN      june       20.0\n",
      "   points  time    year     month  points_h1\n",
      "0    50.0  5:00  2010.0       NaN        NaN\n",
      "1    25.0  6:00     NaN  february        NaN\n",
      "2    90.0  9:00     NaN   january        NaN\n",
      "3     NaN   NaN     NaN      june       20.0\n"
     ]
    }
   ],
   "source": [
    "\n",
    "# List of Dictionary to Dataframe \n",
    "print('Task 88:')  \n",
    "pointlist = [\n",
    "                {'points': 50, 'time': '5:00', 'year': 2010}, \n",
    "                {'points': 25, 'time': '6:00', 'month': \"february\"}, \n",
    "                {'points':90, 'time': '9:00', 'month': 'january'}, \n",
    "                {'points_h1':20, 'month': 'june'}\n",
    "            ]\n",
    "print(pointlist)\n",
    "pointDf = pd.DataFrame(pointlist)\n",
    "print(pointDf)\n",
    "\n",
    "pointDf1 = pd.DataFrame.from_dict(pointlist)\n",
    "print(pointDf1)"
   ]
  },
  {
   "cell_type": "code",
   "execution_count": 130,
   "metadata": {},
   "outputs": [
    {
     "name": "stdout",
     "output_type": "stream",
     "text": [
      "Task 89:\n",
      "          0         1         2         3         4         5\n",
      "0 -0.795608 -0.218048 -2.299574 -0.063416  0.201676  1.487427\n",
      "1 -0.018720       NaN -0.037363  0.190242 -0.875129 -0.318767\n",
      "2 -0.306797       NaN -0.278133 -0.521877 -0.507999 -0.869195\n",
      "3  0.992874  0.280981  0.572636 -0.238188  0.215281  0.090849\n",
      "4 -0.139837 -0.632727 -1.232010 -1.532464  0.058471 -2.788477\n",
      "5 -0.113330  0.235060 -0.318397       NaN  0.565844 -0.251242\n",
      "6 -0.257135 -0.348884  1.664999  0.317203 -1.169490 -0.310805\n",
      "7 -1.708051  0.022510 -0.659043 -0.155393  0.337401       NaN\n",
      "8  0.660895  0.240909 -0.223281  0.309016 -1.554320       NaN\n",
      "9  2.382233  0.154918  0.329649 -1.430126 -0.801443 -0.405395\n",
      "       0      1      2      3      4      5\n",
      "0  False  False  False  False  False  False\n",
      "1  False   True  False  False  False  False\n",
      "2  False   True  False  False  False  False\n",
      "3  False  False  False  False  False  False\n",
      "4  False  False  False  False  False  False\n",
      "5  False  False  False   True  False  False\n",
      "6  False  False  False  False  False  False\n",
      "7  False  False  False  False  False   True\n",
      "8  False  False  False  False  False   True\n",
      "9  False  False  False  False  False  False\n"
     ]
    }
   ],
   "source": [
    "# NaN values \n",
    "print('Task 89:')\n",
    "df = pd.DataFrame(np.random.randn(10,6))\n",
    "# Make a few areas have NaN values\n",
    "df.iloc[1:3,1] = np.nan\n",
    "df.iloc[5,3] = np.nan\n",
    "df.iloc[7:9,5] = np.nan\n",
    "print(df)\n",
    "df1 = df.isnull()\n",
    "print(df1)"
   ]
  },
  {
   "cell_type": "code",
   "execution_count": 131,
   "metadata": {},
   "outputs": [
    {
     "name": "stdout",
     "output_type": "stream",
     "text": [
      "Task 90:\n",
      "          0         1         2         3         4         5\n",
      "0 -0.262524  0.225402 -0.835328  0.247587  1.653468  0.537966\n",
      "1 -0.788959       NaN -0.317431 -0.648925  1.564013 -0.040596\n",
      "2 -1.299400       NaN -0.679061 -0.755961 -0.448051  0.796036\n",
      "3 -0.065757  0.203695  0.007027 -1.349046 -0.093934 -0.950031\n",
      "4 -1.072987 -0.043903 -1.472045 -1.677248 -0.799731 -0.326198\n",
      "5  1.963135  0.467580  0.657272       NaN -0.171338 -2.354219\n",
      "6  1.388529  0.343820 -1.271599 -0.660539  0.518711  0.374874\n",
      "7 -1.129184  0.786992  0.575432  0.076285  0.954202       NaN\n",
      "8  1.455456 -0.499772  0.087342 -0.395972  0.356259       NaN\n",
      "9  1.339107  0.442277  1.325566 -0.848955  0.421525 -1.076845\n",
      "0    0\n",
      "1    2\n",
      "2    0\n",
      "3    1\n",
      "4    0\n",
      "5    2\n",
      "dtype: int64\n",
      "0    0\n",
      "1    1\n",
      "2    1\n",
      "3    0\n",
      "4    0\n",
      "5    1\n",
      "6    0\n",
      "7    1\n",
      "8    1\n",
      "9    0\n",
      "dtype: int64\n",
      "[0, 2, 0, 1, 0, 2]\n"
     ]
    }
   ],
   "source": [
    "# Sum of all nan\n",
    "print('Task 90:')  \n",
    "df = pd.DataFrame(np.random.randn(10,6))\n",
    "# Make a few areas have NaN values\n",
    "df.iloc[1:3,1] = np.nan\n",
    "df.iloc[5,3] = np.nan\n",
    "df.iloc[7:9,5] = np.nan\n",
    "print(df)\n",
    "print(df.isnull().sum())\n",
    "print(df.isnull().sum(axis=1))\n",
    "print(df.isnull().sum().tolist())"
   ]
  },
  {
   "cell_type": "code",
   "execution_count": 132,
   "metadata": {},
   "outputs": [
    {
     "name": "stdout",
     "output_type": "stream",
     "text": [
      "Task 91:\n",
      "          0         1         2         3         4         5\n",
      "0 -0.597121  0.711550 -0.097996 -0.961068 -0.226037 -0.587204\n",
      "1 -1.927100       NaN -0.368427  0.472147  0.380132  0.271820\n",
      "2 -0.595551       NaN  0.407085  0.117660 -0.432303  0.019792\n",
      "3 -0.454863 -0.621776 -0.073298 -0.083654 -0.971213  0.532511\n",
      "4 -1.003663  0.889402 -0.713239 -0.133077 -1.621471  1.329467\n",
      "5 -0.457202 -0.308728  0.106695       NaN  0.753788 -0.106249\n",
      "6 -1.593942  2.618269 -0.594499  0.414286  0.006421 -0.623238\n",
      "7  0.069892  1.127361  1.824879  0.034673 -0.492967       NaN\n",
      "8  2.116715  0.107883  1.357592  1.263986  0.996686       NaN\n",
      "9  0.745108  0.137637 -0.893686  1.505271  1.627263  1.405654\n",
      "0    0\n",
      "1    1\n",
      "2    1\n",
      "3    0\n",
      "4    0\n",
      "5    1\n",
      "6    0\n",
      "7    1\n",
      "8    1\n",
      "9    0\n",
      "dtype: int64\n"
     ]
    }
   ],
   "source": [
    "# Sum of all nan rowwise \n",
    "print('Task 91:')  \n",
    "df = pd.DataFrame(np.random.randn(10,6))\n",
    "# Make a few areas have NaN values\n",
    "df.iloc[1:3,1] = np.nan\n",
    "df.iloc[5,3] = np.nan\n",
    "df.iloc[7:9,5] = np.nan\n",
    "print(df)\n",
    "print(df.isnull().sum(axis=1))"
   ]
  },
  {
   "cell_type": "code",
   "execution_count": 133,
   "metadata": {},
   "outputs": [
    {
     "name": "stdout",
     "output_type": "stream",
     "text": [
      "Task 92:\n",
      "          0         1         2         3         4         5\n",
      "0 -0.804443  0.313104 -0.738200  0.393116  1.583913  0.305910\n",
      "1 -0.221103       NaN  0.607422  0.693134  0.257217  0.098293\n",
      "2 -1.431913       NaN  0.321431 -0.699130  0.090197  0.916744\n",
      "3 -2.686857 -0.080871 -2.322682 -0.952824  0.047704 -1.583394\n",
      "4 -0.748688 -0.441280 -0.978482 -0.661462  1.792438  1.258394\n",
      "5  1.124678  0.149854  0.857205       NaN  0.015672 -0.145841\n",
      "6 -0.919837  0.217553 -0.604249  0.473200  0.426765  0.091264\n",
      "7  0.797994  0.805894  0.249693  1.500301  1.472804       NaN\n",
      "8  0.233363 -0.296092  0.063843  0.009606  2.954072       NaN\n",
      "9  0.371451 -0.965856 -0.004806  0.347659 -1.106308  0.240925\n",
      "[0, 2, 0, 1, 0, 2]\n"
     ]
    }
   ],
   "source": [
    "# Sum of all nan as list \n",
    "print('Task 92:')  \n",
    "df = pd.DataFrame(np.random.randn(10,6))\n",
    "# Make a few areas have NaN values\n",
    "df.iloc[1:3,1] = np.nan\n",
    "df.iloc[5,3] = np.nan\n",
    "df.iloc[7:9,5] = np.nan\n",
    "print(df)\n",
    "print(df.isnull().sum().tolist())"
   ]
  },
  {
   "cell_type": "code",
   "execution_count": 134,
   "metadata": {},
   "outputs": [
    {
     "name": "stdout",
     "output_type": "stream",
     "text": [
      "Task 93:\n",
      "   id      city  count\n",
      "0   1   Toronto      7\n",
      "1   1  Montreal      8\n",
      "2   2   Calgary      9\n",
      "3   2  Montreal      2\n",
      "4   3  Montreal      7\n",
      "5   3    Ottawa      8\n",
      "       city  id  count\n",
      "0   Toronto   1      7\n",
      "1  Montreal   1      8\n",
      "2   Calgary   2      9\n",
      "3  Montreal   2      2\n",
      "4  Montreal   3      7\n",
      "5    Ottawa   3      8\n"
     ]
    }
   ],
   "source": [
    "# Change the order of columns \n",
    "print('Task 93:')  \n",
    "users = pd.DataFrame({\n",
    "    \"id\": [1, 1, 2, 2, 3, 3], \n",
    "    \"city\": ['Toronto', 'Montreal', 'Calgary', 'Montreal', 'Montreal', 'Ottawa'],\n",
    "    \"count\" : [7, 8, 9, 2, 7, 8] \n",
    "    \n",
    "}) \n",
    "print(users)\n",
    "\n",
    "# below line throws error\n",
    "# users1 = users.reindex_axis(['city', 'count', 'id'], axis=1)\n",
    "# print(users1)\n",
    "\n",
    "users2 = users.reindex(columns=['city', 'id', 'count'])\n",
    "print(users2)"
   ]
  },
  {
   "cell_type": "code",
   "execution_count": 135,
   "metadata": {},
   "outputs": [
    {
     "name": "stdout",
     "output_type": "stream",
     "text": [
      "Task 94:\n",
      "   id  number\n",
      "0   1      10\n",
      "1   2      20\n",
      "2   3      30\n",
      "3   4      30\n",
      "4   5      23\n",
      "5   6      12\n",
      "   id  number\n",
      "1   2      20\n",
      "2   3      30\n",
      "4   5      23\n"
     ]
    }
   ],
   "source": [
    "# Drop multiple rows\n",
    "print('Task 94:')\n",
    "numbers = pd.DataFrame({\n",
    "    \"id\": [1, 2, 3, 4, 5, 6], \n",
    "    \"number\": [10, 20, 30, 30, 23, 12]\n",
    "    \n",
    "})  \n",
    "print(numbers)\n",
    "numbers.drop(numbers.index[[0, 3, 5]], inplace=True)\n",
    "print(numbers)"
   ]
  },
  {
   "cell_type": "code",
   "execution_count": 136,
   "metadata": {},
   "outputs": [
    {
     "name": "stdout",
     "output_type": "stream",
     "text": [
      "Task 95:\n",
      "       id  number\n",
      "one     1      10\n",
      "two     2      20\n",
      "three   3      30\n",
      "four    4      30\n",
      "five    5      23\n",
      "six     6      12\n",
      "       id  number\n",
      "one     1      10\n",
      "three   3      30\n",
      "four    4      30\n",
      "five    5      23\n",
      "       id  number\n",
      "one     1      10\n",
      "three   3      30\n",
      "four    4      30\n",
      "five    5      23\n",
      "six     6      12\n"
     ]
    }
   ],
   "source": [
    "# Drop multiple rows by row name \n",
    "print('Task 95:')  \n",
    "numbers = pd.DataFrame({\n",
    "    \"id\": [1, 2, 3, 4, 5, 6], \n",
    "    \"number\": [10, 20, 30, 30, 23, 12]\n",
    "    \n",
    "}, index=['one', 'two', 'three', 'four', 'five', 'six'])  \n",
    "print(numbers)\n",
    "numbers1 = numbers.drop(['two','six'])\n",
    "print(numbers1)\n",
    "numbers2 = numbers.drop('two')\n",
    "print(numbers2)"
   ]
  },
  {
   "cell_type": "code",
   "execution_count": 137,
   "metadata": {},
   "outputs": [
    {
     "name": "stdout",
     "output_type": "stream",
     "text": [
      "Task 96:\n",
      "  animal size  weight  adult\n",
      "0    cat    S       8  False\n",
      "2    cat    M      11  False\n",
      "5    cat    L      12   True\n",
      "6    cat    L      12   True\n"
     ]
    }
   ],
   "source": [
    "# Get group \n",
    "print('Task 96:')\n",
    "cats = animals_df.groupby(['animal']).get_group('cat')\n",
    "print(cats)"
   ]
  },
  {
   "cell_type": "code",
   "execution_count": 139,
   "metadata": {},
   "outputs": [],
   "source": [
    "import numpy"
   ]
  },
  {
   "cell_type": "code",
   "execution_count": 140,
   "metadata": {},
   "outputs": [
    {
     "name": "stdout",
     "output_type": "stream",
     "text": [
      "Task 97:\n",
      "[[ 1  2  3  4  5]\n",
      " [ 6  7  8  9 10]\n",
      " [11 12 13 14 15]\n",
      " [16 17 18 19 20]]\n",
      "[[ 1  2  3  4  5]\n",
      " [11 12 13 14 15]]\n"
     ]
    }
   ],
   "source": [
    "# Get the the odd row \n",
    "print('Task 97:')  \n",
    "x = numpy.array([\n",
    "                    [ 1,  2,  3,  4,  5],\n",
    "                    [ 6,  7,  8,  9, 10],\n",
    "                    [11, 12, 13, 14, 15],\n",
    "                    [16, 17, 18, 19, 20]\n",
    "                ]\n",
    "    )\n",
    "print(x)\n",
    "print(x[::2])"
   ]
  },
  {
   "cell_type": "code",
   "execution_count": 141,
   "metadata": {},
   "outputs": [
    {
     "name": "stdout",
     "output_type": "stream",
     "text": [
      "Task 98:\n",
      "[[ 1  2  3  4  5]\n",
      " [ 6  7  8  9 10]\n",
      " [11 12 13 14 15]\n",
      " [16 17 18 19 20]]\n",
      "[[ 2  4]\n",
      " [ 7  9]\n",
      " [12 14]\n",
      " [17 19]]\n"
     ]
    }
   ],
   "source": [
    "# Get the even columns \n",
    "print('Task 98:')  \n",
    "x = numpy.array([\n",
    "                    [ 1,  2,  3,  4,  5],\n",
    "                    [ 6,  7,  8,  9, 10],\n",
    "                    [11, 12, 13, 14, 15],\n",
    "                    [16, 17, 18, 19, 20]\n",
    "                ]\n",
    "    )\n",
    "print(x)\n",
    "print(x[:, 1::2])"
   ]
  },
  {
   "cell_type": "code",
   "execution_count": 143,
   "metadata": {},
   "outputs": [
    {
     "name": "stdout",
     "output_type": "stream",
     "text": [
      "Task 99:\n",
      "[[ 1  2  3  4  5]\n",
      " [ 6  7  8  9 10]\n",
      " [11 12 13 14 15]\n",
      " [16 17 18 19 20]]\n",
      "[[ 2  4]\n",
      " [12 14]]\n"
     ]
    }
   ],
   "source": [
    "# Odd rows and even columns\n",
    "print('Task 99:')  \n",
    "\n",
    "x = numpy.array([\n",
    "                    [ 1,  2,  3,  4,  5],\n",
    "                    [ 6,  7,  8,  9, 10],\n",
    "                    [11, 12, 13, 14, 15],\n",
    "                    [16, 17, 18, 19, 20]\n",
    "                ]\n",
    "    )\n",
    "print(x)\n",
    "print(x[::2, 1::2])"
   ]
  },
  {
   "cell_type": "code",
   "execution_count": 144,
   "metadata": {},
   "outputs": [
    {
     "name": "stdout",
     "output_type": "stream",
     "text": [
      "Task 102:\n",
      "animal\n",
      "cat     L\n",
      "dog     M\n",
      "fish    M\n",
      "dtype: object\n"
     ]
    }
   ],
   "source": [
    "# Basic group by \n",
    "print('Task 102:')\n",
    "animals_df1 = animals_df.groupby('animal').apply(lambda x: x['size'][x['weight'].idxmax()])\n",
    "print(animals_df1)"
   ]
  },
  {
   "cell_type": "code",
   "execution_count": 152,
   "metadata": {},
   "outputs": [
    {
     "name": "stdout",
     "output_type": "stream",
     "text": [
      "Task 103:\n",
      "                   A\n",
      "2013-08-01  0.396887\n",
      "2013-08-02  1.612440\n",
      "2013-08-05 -0.957986\n",
      "2013-08-06 -0.486112\n",
      "2013-08-07 -0.961876\n",
      "2013-08-08  2.159719\n",
      "                   A\n",
      "2013-08-01  0.396887\n",
      "2013-08-02  1.612440\n",
      "2013-08-05 -0.957986\n",
      "2013-08-06       NaN\n",
      "2013-08-07 -0.961876\n",
      "2013-08-08  2.159719\n"
     ]
    }
   ],
   "source": [
    "# Missing Data: Make A'th 3rd coulmn Nan \n",
    "\n",
    "print('Task 103:')  \n",
    "df = pd.DataFrame(np.random.randn(6,1), index=pd.date_range('2013-08-01', periods=6, freq='B'), columns=list('A'))\n",
    "print(df)\n",
    "df.loc[df.index[3], 'A'] = np.nan\n",
    "print(df)"
   ]
  },
  {
   "cell_type": "code",
   "execution_count": 153,
   "metadata": {},
   "outputs": [
    {
     "name": "stdout",
     "output_type": "stream",
     "text": [
      "Task 104:\n",
      "                   A\n",
      "2013-08-08  2.159719\n",
      "2013-08-07 -0.961876\n",
      "2013-08-06 -0.961876\n",
      "2013-08-05 -0.957986\n",
      "2013-08-02  1.612440\n",
      "2013-08-01  0.396887\n"
     ]
    }
   ],
   "source": [
    "# reindex\n",
    "print('Task 104:')\n",
    "df1 = df.reindex(df.index[::-1]).ffill()\n",
    "print(df1)"
   ]
  },
  {
   "cell_type": "code",
   "execution_count": 155,
   "metadata": {},
   "outputs": [
    {
     "name": "stdout",
     "output_type": "stream",
     "text": [
      "Task 106:\n",
      "Before changing columns : \n",
      "    name      city\n",
      "0  kevin   Toronto\n",
      "1  james  Montreal\n",
      "2  kumar   Calgary\n",
      "3  kevin  Montreal\n",
      "4  kevin  Montreal\n",
      "5  james    Ottawa\n",
      "\n",
      "After changing columns : \n",
      "  first_name current_city\n",
      "0      kevin      Toronto\n",
      "1      james     Montreal\n",
      "2      kumar      Calgary\n",
      "3      kevin     Montreal\n",
      "4      kevin     Montreal\n",
      "5      james       Ottawa\n"
     ]
    }
   ],
   "source": [
    "# 106. Change columns\n",
    "print('Task 106:')\n",
    "\n",
    "users = pd.DataFrame({\n",
    "    \"name\": ['kevin', 'james', 'kumar', 'kevin', 'kevin', 'james'], \n",
    "    \"city\": ['Toronto', 'Montreal', 'Calgary', 'Montreal', 'Montreal', 'Ottawa']\n",
    "}) \n",
    "\n",
    "print('Before changing columns : ')\n",
    "print(users)\n",
    "\n",
    "# change columns\n",
    "users_new = users.rename({'name': 'first_name', 'city': 'current_city'}, axis = 1)\n",
    "\n",
    "print('\\nAfter changing columns : ')\n",
    "print(users_new)"
   ]
  },
  {
   "cell_type": "code",
   "execution_count": 156,
   "metadata": {},
   "outputs": [
    {
     "name": "stdout",
     "output_type": "stream",
     "text": [
      "Task 107:\n",
      "Original Dataframe:\n",
      "    name      city\n",
      "0  kevin   Toronto\n",
      "1  james  Montreal\n",
      "2  kumar   Calgary\n",
      "3  kevin  Montreal\n",
      "4  kevin  Montreal\n",
      "5  james    Ottawa\n",
      "\n",
      "Finding `Montreal` in by using isin function :\n"
     ]
    },
    {
     "data": {
      "text/plain": [
       "name    False\n",
       "city     True\n",
       "dtype: bool"
      ]
     },
     "execution_count": 156,
     "metadata": {},
     "output_type": "execute_result"
    }
   ],
   "source": [
    "# 107. Match with isin function\n",
    "\n",
    "print('Task 107:')\n",
    "\n",
    "users = pd.DataFrame({\n",
    "    \"name\": ['kevin', 'james', 'kumar', 'kevin', 'kevin', 'james'], \n",
    "    \"city\": ['Toronto', 'Montreal', 'Calgary', 'Montreal', 'Montreal', 'Ottawa']\n",
    "}) \n",
    "\n",
    "print('Original Dataframe:')\n",
    "print(users)\n",
    "\n",
    "print('\\nFinding `Montreal` in by using isin function :')\n",
    "\n",
    "users.isin(['Montreal']).any()"
   ]
  },
  {
   "cell_type": "code",
   "execution_count": 157,
   "metadata": {},
   "outputs": [
    {
     "name": "stdout",
     "output_type": "stream",
     "text": [
      "Task 108:\n",
      "Original Dataframe: \n",
      "    name      city\n",
      "0  kevin   Toronto\n",
      "1  james  Montreal\n",
      "2  kumar   Calgary\n",
      "3  kevin  Montreal\n",
      "4  kevin  Montreal\n",
      "5  james    Ottawa\n",
      "\n",
      "Finding `Montreal` in using isin and stack them: \n",
      "1  city    Montreal\n",
      "3  city    Montreal\n",
      "4  city    Montreal\n",
      "dtype: object\n"
     ]
    }
   ],
   "source": [
    "# 108. Finding specific items by using `isin` function\n",
    "\n",
    "print('Task 108:')\n",
    "\n",
    "users = pd.DataFrame({\n",
    "    \"name\": ['kevin', 'james', 'kumar', 'kevin', 'kevin', 'james'], \n",
    "    \"city\": ['Toronto', 'Montreal', 'Calgary', 'Montreal', 'Montreal', 'Ottawa']\n",
    "}) \n",
    "\n",
    "print('Original Dataframe: ')\n",
    "print(users)\n",
    "\n",
    "print('\\nFinding `Montreal` in using isin and stack them: ')\n",
    "print(users[users.isin(['Montreal'])].stack())"
   ]
  },
  {
   "cell_type": "code",
   "execution_count": 158,
   "metadata": {},
   "outputs": [
    {
     "name": "stdout",
     "output_type": "stream",
     "text": [
      "Task 109:\n",
      "Original Dataframe: \n",
      "    name      city\n",
      "0  kevin   Toronto\n",
      "1  james  Montreal\n",
      "2  kumar   Calgary\n",
      "3  kevin  Montreal\n",
      "4  kevin  Montreal\n",
      "5  james    Ottawa\n",
      "\n",
      "Excluding `Montreal` in using isin and stack them: \n",
      "0  name      kevin\n",
      "   city    Toronto\n",
      "1  name      james\n",
      "2  name      kumar\n",
      "   city    Calgary\n",
      "3  name      kevin\n",
      "4  name      kevin\n",
      "5  name      james\n",
      "   city     Ottawa\n",
      "dtype: object\n"
     ]
    }
   ],
   "source": [
    "# 109. Exclude specific matching\n",
    "\n",
    "print('Task 109:')\n",
    "\n",
    "users = pd.DataFrame({\n",
    "    \"name\": ['kevin', 'james', 'kumar', 'kevin', 'kevin', 'james'], \n",
    "    \"city\": ['Toronto', 'Montreal', 'Calgary', 'Montreal', 'Montreal', 'Ottawa']\n",
    "}) \n",
    "\n",
    "print('Original Dataframe: ')\n",
    "print(users)\n",
    "\n",
    "print('\\nExcluding `Montreal` in using isin and stack them: ')\n",
    "print(users[~users.isin(['Montreal'])].stack())"
   ]
  },
  {
   "cell_type": "code",
   "execution_count": 159,
   "metadata": {},
   "outputs": [
    {
     "name": "stdout",
     "output_type": "stream",
     "text": [
      "Task 110:\n",
      "Original Dataframe: \n",
      "   CIBC    TD\n",
      "0   200  1200\n",
      "1  4200   800\n",
      "2   300  4000\n",
      "3   300  2000\n",
      "Dataframe after applying the custom function: \n",
      "   CIBC    TD  Total\n",
      "0   200  1200   1200\n",
      "1  4200   800   5000\n",
      "2   300  4000   4000\n",
      "3   300  2000   2000\n"
     ]
    }
   ],
   "source": [
    "# 110. Apply a custom function on multiple columns\n",
    "\n",
    "print('Task 110:')\n",
    "\n",
    "amounts = pd.DataFrame({\n",
    "    \"CIBC\": [200, 4200, 300, 300], \n",
    "    \"TD\": [1200, 800, 4000, 2000]\n",
    "})\n",
    "\n",
    "print('Original Dataframe: ')\n",
    "print(amounts)\n",
    "\n",
    "def get_total_amount(x):\n",
    "    \n",
    "    # if the amount is less than 500, skip it\n",
    "    total_amount = 0\n",
    "    \n",
    "    if(x['CIBC'] > 499):\n",
    "        total_amount += x['CIBC']\n",
    "        \n",
    "    if(x['TD'] > 499):\n",
    "        total_amount += x['TD']\n",
    "    \n",
    "    return total_amount\n",
    "\n",
    "amounts['Total'] = amounts.apply(get_total_amount, axis = 1)\n",
    "\n",
    "print('Dataframe after applying the custom function: ')\n",
    "print(amounts)"
   ]
  },
  {
   "cell_type": "code",
   "execution_count": 160,
   "metadata": {},
   "outputs": [
    {
     "name": "stdout",
     "output_type": "stream",
     "text": [
      "Task 111:\n",
      "   id      city  count\n",
      "0   1   Toronto      7\n",
      "1   1  Montreal      8\n",
      "2   2   Calgary      9\n",
      "3   2  Montreal      2\n",
      "4   3  Montreal      7\n",
      "5   3    Ottawa      8\n",
      "\n",
      "Iterate rows as tuples:\n",
      "Pandas(Index=0, id=1, city='Toronto', count=7)\n",
      "Pandas(Index=1, id=1, city='Montreal', count=8)\n",
      "Pandas(Index=2, id=2, city='Calgary', count=9)\n",
      "Pandas(Index=3, id=2, city='Montreal', count=2)\n",
      "Pandas(Index=4, id=3, city='Montreal', count=7)\n",
      "Pandas(Index=5, id=3, city='Ottawa', count=8)\n"
     ]
    }
   ],
   "source": [
    "# 111. iterrows as tuples\n",
    "\n",
    "print('Task 111:')\n",
    "\n",
    "users = pd.DataFrame({\n",
    "    \"id\": [1, 1, 2, 2, 3, 3], \n",
    "    \"city\": ['Toronto', 'Montreal', 'Calgary', 'Montreal', 'Montreal', 'Ottawa'],\n",
    "    \"count\" : [7, 8, 9, 2, 7, 8] \n",
    "    \n",
    "}) \n",
    "\n",
    "print(users)  \n",
    "\n",
    "print('\\nIterate rows as tuples:')\n",
    "for row in users.itertuples():\n",
    "    print(row)"
   ]
  },
  {
   "cell_type": "code",
   "execution_count": 163,
   "metadata": {},
   "outputs": [
    {
     "name": "stdout",
     "output_type": "stream",
     "text": [
      "Task 112:\n",
      "    A   B   C\n",
      "0 NaN NaN NaN\n",
      "1 NaN NaN NaN\n",
      "2 NaN NaN NaN\n"
     ]
    }
   ],
   "source": [
    "# 112. Dataframe with NaN\n",
    "\n",
    "print('Task 112:')\n",
    "\n",
    "df = pd.DataFrame(np.nan, index = [0, 1, 2], columns = ['A', 'B', 'C'])\n",
    "\n",
    "print(df)"
   ]
  },
  {
   "cell_type": "code",
   "execution_count": 164,
   "metadata": {},
   "outputs": [
    {
     "name": "stdout",
     "output_type": "stream",
     "text": [
      "Task 113:\n",
      "    0\n",
      "0 NaN\n",
      "1 NaN\n",
      "2 NaN\n",
      "3 NaN\n",
      "4 NaN\n"
     ]
    }
   ],
   "source": [
    "# 113. Simple Dataframe with NaN\n",
    "\n",
    "print('Task 113:')\n",
    "\n",
    "df = pd.DataFrame([np.nan] * 5)\n",
    "\n",
    "print(df)"
   ]
  },
  {
   "cell_type": "code",
   "execution_count": 165,
   "metadata": {},
   "outputs": [
    {
     "name": "stdout",
     "output_type": "stream",
     "text": [
      "Task 114:\n",
      "         date\n",
      "0  2012-01-01\n",
      "1  2012-02-01\n",
      "2  2012-03-01\n",
      "3  2012-04-01\n",
      "4  2012-05-01\n",
      "5  2012-06-01\n",
      "6  2012-07-01\n",
      "7  2012-08-01\n",
      "8  2012-09-01\n",
      "9  2012-10-01\n"
     ]
    },
    {
     "name": "stderr",
     "output_type": "stream",
     "text": [
      "/home/mike/anaconda3/lib/python3.7/site-packages/ipykernel_launcher.py:7: FutureWarning: The pandas.np module is deprecated and will be removed from pandas in a future version. Import numpy directly instead\n",
      "  import sys\n"
     ]
    }
   ],
   "source": [
    "# 114. Pandas and Date with Range\n",
    "\n",
    "print('Task 114:')\n",
    "\n",
    "import datetime as dt\n",
    "\n",
    "pd.np.random.seed(0)\n",
    "\n",
    "df = pd.DataFrame({\n",
    "     \"date\" : [dt.date(2012, x, 1) for x in range(1, 11)]\n",
    "})\n",
    "\n",
    "print(df)"
   ]
  },
  {
   "cell_type": "code",
   "execution_count": 166,
   "metadata": {},
   "outputs": [
    {
     "name": "stdout",
     "output_type": "stream",
     "text": [
      "Task 115:\n",
      "   entry\n",
      "0      3\n",
      "1      3\n",
      "2      3\n",
      "3      3\n",
      "4      3\n",
      "5      3\n",
      "6      3\n"
     ]
    }
   ],
   "source": [
    "# 115. Pandas and Numpy Repeat\n",
    "\n",
    "print('Task 115:')\n",
    "\n",
    "df = pd.DataFrame({\n",
    "     \"entry\" : np.repeat(3, 7) # Repeat the number for 7 times\n",
    "})\n",
    "\n",
    "print(df)"
   ]
  },
  {
   "cell_type": "code",
   "execution_count": 168,
   "metadata": {},
   "outputs": [
    {
     "name": "stdout",
     "output_type": "stream",
     "text": [
      "Task 116:\n"
     ]
    }
   ],
   "source": [
    "# 116. read_sql in Pandas\n",
    "\n",
    "print('Task 116:')\n",
    "\n",
    "# import sqlite3 as sql\n",
    "\n",
    "# conn = sql.connect('/kaggle/input/rj-sample-datasets/sample.db')\n",
    "\n",
    "# demo_df = pd.read_sql('SELECT ID, NAME FROM DEMO', conn)\n",
    "\n",
    "# print(demo_df)\n",
    "\n",
    "# # Note: online sqlite https://sqliteonline.com/"
   ]
  },
  {
   "cell_type": "code",
   "execution_count": 169,
   "metadata": {},
   "outputs": [
    {
     "name": "stdout",
     "output_type": "stream",
     "text": [
      "Task 117:\n",
      "\n",
      "Original Dataframe:\n",
      "    a   b\n",
      "0  44  47\n",
      "1  64  67\n",
      "2  67   9\n",
      "3  83  21\n",
      "4  36  87\n",
      "5  70  88\n",
      "6  88  12\n",
      "\n",
      "Getting value at 3rd row and first col:\n",
      "21\n"
     ]
    }
   ],
   "source": [
    "# 117. Get a single value by iat\n",
    "\n",
    "print('Task 117:')\n",
    "\n",
    "df = pd.DataFrame(np.random.randint(0, 100, size = (7, 2)), columns = list('ab'))\n",
    "\n",
    "print('\\nOriginal Dataframe:')\n",
    "print(df)\n",
    "\n",
    "val = df.iat[3, 1]\n",
    "\n",
    "print('\\nGetting value at 3rd row and first col:')\n",
    "print(val)"
   ]
  },
  {
   "cell_type": "code",
   "execution_count": 170,
   "metadata": {},
   "outputs": [
    {
     "data": {
      "text/html": [
       "<div>\n",
       "<style scoped>\n",
       "    .dataframe tbody tr th:only-of-type {\n",
       "        vertical-align: middle;\n",
       "    }\n",
       "\n",
       "    .dataframe tbody tr th {\n",
       "        vertical-align: top;\n",
       "    }\n",
       "\n",
       "    .dataframe thead th {\n",
       "        text-align: right;\n",
       "    }\n",
       "</style>\n",
       "<table border=\"1\" class=\"dataframe\">\n",
       "  <thead>\n",
       "    <tr style=\"text-align: right;\">\n",
       "      <th></th>\n",
       "      <th>rows</th>\n",
       "      <th>cols</th>\n",
       "      <th>time taken</th>\n",
       "    </tr>\n",
       "  </thead>\n",
       "  <tbody>\n",
       "    <tr>\n",
       "      <th>Dataset1 - Dask</th>\n",
       "      <td>1000</td>\n",
       "      <td>20</td>\n",
       "      <td>10</td>\n",
       "    </tr>\n",
       "    <tr>\n",
       "      <th>Dataset1 - Pandas</th>\n",
       "      <td>1000</td>\n",
       "      <td>20</td>\n",
       "      <td>15</td>\n",
       "    </tr>\n",
       "  </tbody>\n",
       "</table>\n",
       "</div>"
      ],
      "text/plain": [
       "                   rows cols time taken\n",
       "Dataset1 - Dask    1000   20         10\n",
       "Dataset1 - Pandas  1000   20         15"
      ]
     },
     "execution_count": 170,
     "metadata": {},
     "output_type": "execute_result"
    }
   ],
   "source": [
    "# 119. Add data one by one by using loc function\n",
    "\n",
    "df = pd.DataFrame(columns = ['rows', 'cols', 'time taken'])\n",
    "\n",
    "df.loc['Dataset1 - Dask'] = (1000, 20, 10)\n",
    "df.loc['Dataset1 - Pandas'] = (1000, 20, 15)\n",
    "\n",
    "df"
   ]
  },
  {
   "cell_type": "code",
   "execution_count": 173,
   "metadata": {},
   "outputs": [],
   "source": [
    "# # 122. Compare two dataframes\n",
    "\n",
    "# df1 = pd.DataFrame({\n",
    "#     'a' : [1,2,3], \n",
    "#     'b' : [9,8,7]\n",
    "# })\n",
    "\n",
    "# df2 = pd.DataFrame({\n",
    "#     'a' : [1,1,3], \n",
    "#     'b' : [12,8,12]\n",
    "# })\n",
    "\n",
    "# print(df1.ompare(df2))"
   ]
  },
  {
   "cell_type": "code",
   "execution_count": 174,
   "metadata": {},
   "outputs": [
    {
     "name": "stdout",
     "output_type": "stream",
     "text": [
      "days   :  4\n",
      "seconds:  3949\n"
     ]
    }
   ],
   "source": [
    "# 123. Difference between datetime by only seconds or dates\n",
    "\n",
    "df1 = pd.to_datetime('2020-10-14 14:52:21')\n",
    "df2 = pd.to_datetime('2020-10-18 15:58:10')\n",
    "\n",
    "delta = (df2 - df1)\n",
    "\n",
    "print('days   : ', delta.days)\n",
    "print('seconds: ', delta.seconds)"
   ]
  },
  {
   "cell_type": "code",
   "execution_count": 175,
   "metadata": {},
   "outputs": [
    {
     "name": "stdout",
     "output_type": "stream",
     "text": [
      "  entry_date delta_days\n",
      "0 2020-09-01     0 days\n",
      "1 2020-09-02     1 days\n",
      "2 2020-09-03     2 days\n",
      "3 2020-09-04     3 days\n",
      "4 2020-09-05     4 days\n"
     ]
    }
   ],
   "source": [
    "# 125. Get dates and delta days in Dataframe\n",
    "\n",
    "entries_count = 5\n",
    "\n",
    "date_series = pd.Series(pd.date_range('2020-09-01', periods = entries_count, freq = 'D'))\n",
    "\n",
    "time_delta_series = pd.Series([pd.Timedelta(days = i) for i in range(entries_count)])\n",
    "\n",
    "df = pd.DataFrame({'entry_date': date_series, 'delta_days': time_delta_series})\n",
    "\n",
    "print(df)"
   ]
  },
  {
   "cell_type": "code",
   "execution_count": 176,
   "metadata": {},
   "outputs": [
    {
     "name": "stdout",
     "output_type": "stream",
     "text": [
      "\n",
      "Before:\n",
      "  entry_date delta_days\n",
      "0 2020-09-01     0 days\n",
      "1 2020-09-02     1 days\n",
      "2 2020-09-03     2 days\n",
      "\n",
      "After:\n",
      "  entry_date delta_days new_entry_date\n",
      "0 2020-09-01     0 days     2020-09-01\n",
      "1 2020-09-02     1 days     2020-09-03\n",
      "2 2020-09-03     2 days     2020-09-05\n",
      "\n",
      "Data types:\n",
      "entry_date         datetime64[ns]\n",
      "delta_days        timedelta64[ns]\n",
      "new_entry_date     datetime64[ns]\n",
      "dtype: object\n"
     ]
    }
   ],
   "source": [
    "# 126. Date addition with time delta\n",
    "\n",
    "entries_count = 3\n",
    "\n",
    "date_series = pd.Series(pd.date_range('2020-09-01', periods = entries_count, freq = 'D'))\n",
    "\n",
    "time_delta_series = pd.Series([pd.Timedelta(days = i) for i in range(entries_count)])\n",
    "\n",
    "df = pd.DataFrame({'entry_date': date_series, 'delta_days': time_delta_series})\n",
    "\n",
    "print('\\nBefore:')\n",
    "print(df)\n",
    "\n",
    "\n",
    "df['new_entry_date'] = df['entry_date'] + df['delta_days']\n",
    "print('\\nAfter:')\n",
    "print(df)\n",
    "\n",
    "print('\\nData types:')\n",
    "print(df.dtypes)"
   ]
  },
  {
   "cell_type": "code",
   "execution_count": 177,
   "metadata": {},
   "outputs": [
    {
     "name": "stdout",
     "output_type": "stream",
     "text": [
      "Original Series:\n",
      "0    [1, 2, 3]\n",
      "1    [1, 2, 3]\n",
      "dtype: object\n",
      "\n",
      "Series to Array:\n",
      "[list([1, 2, 3]) array([1, 2, 3])]\n",
      "\n",
      "After converting inner elements to list:\n",
      "[[1 2 3]\n",
      " [1 2 3]]\n"
     ]
    }
   ],
   "source": [
    "# 127. Converting Pandas innner list to numpy array without the word `list`\n",
    "\n",
    "s = pd.Series([[1, 2, 3], np.array([1, 2, 3])])\n",
    "    \n",
    "print('Original Series:')\n",
    "print(s)  \n",
    "\n",
    "arr = np.array(s)\n",
    "print('\\nSeries to Array:')\n",
    "print(arr)\n",
    "\n",
    "print('\\nAfter converting inner elements to list:')\n",
    "x = np.array(s[:].tolist())\n",
    "print(x)"
   ]
  },
  {
   "cell_type": "code",
   "execution_count": 178,
   "metadata": {},
   "outputs": [
    {
     "name": "stdout",
     "output_type": "stream",
     "text": [
      "Before:\n",
      "   id\n",
      "0   1\n",
      "1   3\n",
      "2   4\n",
      "3   5\n",
      "\n",
      "After:\n",
      "   id  marks\n",
      "0   1     79\n",
      "1   3     20\n",
      "2   4     45\n",
      "3   5     99\n"
     ]
    }
   ],
   "source": [
    "# 128. Append series to existing Dataframe\n",
    "\n",
    "df = pd.DataFrame([1, 3, 4, 5], columns=[\"id\"])\n",
    "df.set_index(\"id\")\n",
    "print('Before:')\n",
    "print(df)\n",
    "\n",
    "marks = pd.Series([79, 20, 45, 99])\n",
    "df[\"marks\"] = marks\n",
    "print('\\nAfter:')\n",
    "print(df)"
   ]
  },
  {
   "cell_type": "code",
   "execution_count": 179,
   "metadata": {},
   "outputs": [
    {
     "name": "stdout",
     "output_type": "stream",
     "text": [
      "Before:\n",
      "       City  Year  Points\n",
      "0   Toronto  2020    1000\n",
      "1   Toronto  2020    2000\n",
      "2   Toronto  2018    3000\n",
      "3  Montreal  2018    3000\n",
      "4  Montreal  2018    2000\n",
      "5  Montreal  2012    1500\n",
      "6  New York  2012    1500\n",
      "7   Toronto  2012     500\n",
      "8  New York  2016     500\n",
      "9  New York  2018     300\n",
      "\n",
      "After Sorting:\n",
      "       City  Year  Points\n",
      "5  Montreal  2012    1500\n",
      "3  Montreal  2018    3000\n",
      "4  Montreal  2018    2000\n",
      "6  New York  2012    1500\n",
      "8  New York  2016     500\n",
      "9  New York  2018     300\n",
      "7   Toronto  2012     500\n",
      "2   Toronto  2018    3000\n",
      "0   Toronto  2020    1000\n",
      "1   Toronto  2020    2000\n",
      "\n",
      "After Cumulative Sum:\n",
      "       City  Year  Points  Points_cum\n",
      "5  Montreal  2012    1500        1500\n",
      "3  Montreal  2018    3000        3000\n",
      "4  Montreal  2018    2000        5000\n",
      "6  New York  2012    1500        1500\n",
      "8  New York  2016     500         500\n",
      "9  New York  2018     300         300\n",
      "7   Toronto  2012     500         500\n",
      "2   Toronto  2018    3000        3000\n",
      "0   Toronto  2020    1000        1000\n",
      "1   Toronto  2020    2000        3000\n"
     ]
    }
   ],
   "source": [
    "# 129. Cumulative sum with group by with multiple values\n",
    "\n",
    "df = pd.DataFrame({\n",
    "    'City': ['Toronto', 'Toronto', 'Toronto', 'Montreal', 'Montreal', 'Montreal', 'New York', 'Toronto', 'New York', 'New York'], \n",
    "    'Year': [2020, 2020, 2018, 2018, 2018, 2012, 2012, 2012, 2016, 2018], \n",
    "    'Points': [1000, 2000, 3000, 3000, 2000, 1500, 1500, 500, 500, 300]\n",
    "})\n",
    "\n",
    "print('Before:')\n",
    "print(df)\n",
    "\n",
    "df.sort_values(['City', 'Year'], inplace=True)\n",
    "print('\\nAfter Sorting:')\n",
    "print(df)\n",
    "\n",
    "df['Points_cum'] = df.groupby(['City', 'Year'])['Points'].cumsum()\n",
    "print('\\nAfter Cumulative Sum:')\n",
    "print(df)"
   ]
  },
  {
   "cell_type": "code",
   "execution_count": 180,
   "metadata": {},
   "outputs": [
    {
     "name": "stdout",
     "output_type": "stream",
     "text": [
      "Task 131:\n",
      "Original Dataframe:\n",
      "    name      city\n",
      "0  kevin   Toronto\n",
      "1  james  Montreal\n",
      "2  kumar   Calgary\n",
      "3  kevin  Montreal\n",
      "4  kevin  Montreal\n",
      "5  james    Ottawa\n",
      "\n",
      "Finding `Montreal` in any cell :\n",
      "    name      city\n",
      "1  james  Montreal\n",
      "3  kevin  Montreal\n",
      "4  kevin  Montreal\n"
     ]
    }
   ],
   "source": [
    "# 131. Find any matching value\n",
    "\n",
    "print('Task 131:')\n",
    "\n",
    "users = pd.DataFrame({\n",
    "    \"name\": ['kevin', 'james', 'kumar', 'kevin', 'kevin', 'james'], \n",
    "    \"city\": ['Toronto', 'Montreal', 'Calgary', 'Montreal', 'Montreal', 'Ottawa']\n",
    "}) \n",
    "\n",
    "print('Original Dataframe:')\n",
    "print(users)\n",
    "\n",
    "print('\\nFinding `Montreal` in any cell :')\n",
    "print(users[users.eq('Montreal').any(1)])"
   ]
  },
  {
   "cell_type": "code",
   "execution_count": 181,
   "metadata": {},
   "outputs": [
    {
     "name": "stdout",
     "output_type": "stream",
     "text": [
      "   feature_0  feature_1  feature_2  feature_3  feature_4  year\n",
      "0   0.038562   0.780100   0.092704   0.632893   0.013891  2012\n",
      "1   0.936159   0.426574   0.253086   0.189965   0.414825  2012\n",
      "2   0.013421   0.648473   0.869369   0.609036   0.807993  2012\n",
      "3   0.826511   0.271683   0.836476   0.282541   0.138309  2012\n",
      "4   0.714720   0.472537   0.556588   0.385576   0.941147  2012\n",
      "30\n"
     ]
    }
   ],
   "source": [
    "# 132. Add prefix on column lables\n",
    "\n",
    "import pandas as pd\n",
    "import numpy as np\n",
    "\n",
    "np.random.seed(34)\n",
    "\n",
    "df = pd.DataFrame(np.random.rand(30, 5)).add_prefix(\"feature_\")\n",
    "df[\"year\"] = np.repeat([\"2012\", \"2013\", \"2014\"], 10)\n",
    "\n",
    "print(df.head())\n",
    "print(len(df))"
   ]
  },
  {
   "cell_type": "code",
   "execution_count": 182,
   "metadata": {},
   "outputs": [
    {
     "name": "stdout",
     "output_type": "stream",
     "text": [
      "Original;\n",
      "       city  Year\n",
      "0   Toronto  2017\n",
      "1   Toronto  2018\n",
      "2  Montreal  2019\n",
      "3  Montreal  2020\n",
      "4  Montreal  2021\n",
      "\n",
      "After:\n",
      "       city  Year               airport\n",
      "0   Toronto  2017  {'airport_count': 2}\n",
      "1   Toronto  2018  {'airport_count': 2}\n",
      "2  Montreal  2019                  None\n",
      "3  Montreal  2020                  None\n",
      "4  Montreal  2021                  None\n"
     ]
    }
   ],
   "source": [
    "# 133. Set values on where condition\n",
    "\n",
    "df = pd.DataFrame({'city': ['Toronto', 'Toronto', 'Montreal', 'Montreal', 'Montreal'], 'Year': [2017, 2018, 2019, 2020, 2021]})\n",
    "\n",
    "print('Original;')\n",
    "print(df)\n",
    "\n",
    "df['airport'] = None\n",
    "df['airport'] = np.where(df['city'] == 'Toronto', {'airport_count': 2}, df['airport'])\n",
    "\n",
    "print('\\nAfter:')\n",
    "print(df)"
   ]
  },
  {
   "cell_type": "code",
   "execution_count": 183,
   "metadata": {},
   "outputs": [
    {
     "name": "stdout",
     "output_type": "stream",
     "text": [
      "   ID  Value  Count\n",
      "0   1     10      1\n",
      "1   2      5      2\n",
      "2   2      5      2\n",
      "3   3     10      2\n",
      "4   3      4      2\n",
      "5   4     11      2\n",
      "6   4     12      2\n"
     ]
    }
   ],
   "source": [
    "# 135. Using transform\n",
    "\n",
    "df = pd.DataFrame({\n",
    "        'ID': [1, 2, 2, 3, 3, 4, 4],\n",
    "        'Value': [10, 5, 5, 10, 4, 11, 12]\n",
    "    })\n",
    "\n",
    "df['Count'] = df.groupby('ID')['Value'].transform('count')\n",
    "print(df)"
   ]
  },
  {
   "cell_type": "code",
   "execution_count": 184,
   "metadata": {},
   "outputs": [
    {
     "name": "stdout",
     "output_type": "stream",
     "text": [
      "76\n",
      "76\n"
     ]
    }
   ],
   "source": [
    "# 136. Summing all elements\n",
    "\n",
    "df = pd.DataFrame({\n",
    "        'ID': [1, 2, 2, 3, 3, 4, 4],\n",
    "        'Value': [10, 5, 5, 10, 4, 11, 12]\n",
    "    })\n",
    "\n",
    "sum1 = df.stack().sum()\n",
    "print(sum1)\n",
    "\n",
    "sum2 = df.to_numpy().sum()\n",
    "print(sum2)"
   ]
  },
  {
   "cell_type": "code",
   "execution_count": 186,
   "metadata": {},
   "outputs": [],
   "source": [
    "# # 137. Combine multiple CSV files by using Dask\n",
    "\n",
    "# import dask.dataframe as dd\n",
    "\n",
    "# df = dd.read_csv('/kaggle/input/rj-sample-datasets/transaction-*.csv')\n",
    "\n",
    "# df = df.compute() \n",
    "\n",
    "# df.columns = ['Date', 'Description', 'Spent']\n",
    "\n",
    "# df.head(2)"
   ]
  },
  {
   "cell_type": "code",
   "execution_count": 187,
   "metadata": {},
   "outputs": [
    {
     "name": "stdout",
     "output_type": "stream",
     "text": [
      "Original:\n",
      "   number\n",
      "0      80\n",
      "1      81\n",
      "2      38\n",
      "3      83\n",
      "4      47\n",
      "\n",
      "After pandas cut:\n",
      "   number       bins\n",
      "0      80   (60, 80]\n",
      "1      81  (80, 100]\n",
      "2      38   (20, 40]\n",
      "3      83  (80, 100]\n",
      "4      47   (40, 60]\n"
     ]
    }
   ],
   "source": [
    "# 138. Separate Elements into Bins\n",
    "\n",
    "df = pd.DataFrame({'number': np.random.randint(1, 100, 5)}) \n",
    "print('Original:')\n",
    "print(df)\n",
    "\n",
    "df['bins'] = pd.cut(x = df['number'], bins = [1, 20, 40, 60, 80, 100]) \n",
    "print('\\nAfter pandas cut:')\n",
    "print(df)"
   ]
  },
  {
   "cell_type": "code",
   "execution_count": 188,
   "metadata": {},
   "outputs": [
    {
     "name": "stdout",
     "output_type": "stream",
     "text": [
      "[3 2 0 1 0 2]\n",
      "['CA' 'MNT' 'NY' 'TO']\n"
     ]
    }
   ],
   "source": [
    "# 139. Encode the object as enumerated or categorical\n",
    "\n",
    "codes, uniques = pd.factorize(['TO', 'NY', 'CA', 'MNT', 'CA', 'NY'], sort = True)\n",
    "\n",
    "print(codes)\n",
    "print(uniques)"
   ]
  },
  {
   "cell_type": "code",
   "execution_count": 189,
   "metadata": {},
   "outputs": [
    {
     "ename": "FileNotFoundError",
     "evalue": "[Errno 2] File /kaggle/input/rj-sample-datasets/sample-transaction.csv does not exist: '/kaggle/input/rj-sample-datasets/sample-transaction.csv'",
     "output_type": "error",
     "traceback": [
      "\u001b[0;31m---------------------------------------------------------------------------\u001b[0m",
      "\u001b[0;31mFileNotFoundError\u001b[0m                         Traceback (most recent call last)",
      "\u001b[0;32m<ipython-input-189-5081fbd4f13d>\u001b[0m in \u001b[0;36m<module>\u001b[0;34m\u001b[0m\n\u001b[1;32m      2\u001b[0m \u001b[0;34m\u001b[0m\u001b[0m\n\u001b[1;32m      3\u001b[0m \u001b[0;34m\u001b[0m\u001b[0m\n\u001b[0;32m----> 4\u001b[0;31m \u001b[0mdf\u001b[0m \u001b[0;34m=\u001b[0m \u001b[0mpd\u001b[0m\u001b[0;34m.\u001b[0m\u001b[0mread_csv\u001b[0m\u001b[0;34m(\u001b[0m\u001b[0;34m\"/kaggle/input/rj-sample-datasets/sample-transaction.csv\"\u001b[0m\u001b[0;34m,\u001b[0m \u001b[0mnames\u001b[0m \u001b[0;34m=\u001b[0m \u001b[0;34m[\u001b[0m\u001b[0;34m'date'\u001b[0m\u001b[0;34m,\u001b[0m \u001b[0;34m'description'\u001b[0m\u001b[0;34m,\u001b[0m \u001b[0;34m'spent'\u001b[0m\u001b[0;34m]\u001b[0m\u001b[0;34m)\u001b[0m\u001b[0;34m\u001b[0m\u001b[0;34m\u001b[0m\u001b[0m\n\u001b[0m\u001b[1;32m      5\u001b[0m \u001b[0;34m\u001b[0m\u001b[0m\n\u001b[1;32m      6\u001b[0m \u001b[0;31m# df\u001b[0m\u001b[0;34m\u001b[0m\u001b[0;34m\u001b[0m\u001b[0;34m\u001b[0m\u001b[0m\n",
      "\u001b[0;32m~/anaconda3/lib/python3.7/site-packages/pandas/io/parsers.py\u001b[0m in \u001b[0;36mparser_f\u001b[0;34m(filepath_or_buffer, sep, delimiter, header, names, index_col, usecols, squeeze, prefix, mangle_dupe_cols, dtype, engine, converters, true_values, false_values, skipinitialspace, skiprows, skipfooter, nrows, na_values, keep_default_na, na_filter, verbose, skip_blank_lines, parse_dates, infer_datetime_format, keep_date_col, date_parser, dayfirst, cache_dates, iterator, chunksize, compression, thousands, decimal, lineterminator, quotechar, quoting, doublequote, escapechar, comment, encoding, dialect, error_bad_lines, warn_bad_lines, delim_whitespace, low_memory, memory_map, float_precision)\u001b[0m\n\u001b[1;32m    674\u001b[0m         )\n\u001b[1;32m    675\u001b[0m \u001b[0;34m\u001b[0m\u001b[0m\n\u001b[0;32m--> 676\u001b[0;31m         \u001b[0;32mreturn\u001b[0m \u001b[0m_read\u001b[0m\u001b[0;34m(\u001b[0m\u001b[0mfilepath_or_buffer\u001b[0m\u001b[0;34m,\u001b[0m \u001b[0mkwds\u001b[0m\u001b[0;34m)\u001b[0m\u001b[0;34m\u001b[0m\u001b[0;34m\u001b[0m\u001b[0m\n\u001b[0m\u001b[1;32m    677\u001b[0m \u001b[0;34m\u001b[0m\u001b[0m\n\u001b[1;32m    678\u001b[0m     \u001b[0mparser_f\u001b[0m\u001b[0;34m.\u001b[0m\u001b[0m__name__\u001b[0m \u001b[0;34m=\u001b[0m \u001b[0mname\u001b[0m\u001b[0;34m\u001b[0m\u001b[0;34m\u001b[0m\u001b[0m\n",
      "\u001b[0;32m~/anaconda3/lib/python3.7/site-packages/pandas/io/parsers.py\u001b[0m in \u001b[0;36m_read\u001b[0;34m(filepath_or_buffer, kwds)\u001b[0m\n\u001b[1;32m    446\u001b[0m \u001b[0;34m\u001b[0m\u001b[0m\n\u001b[1;32m    447\u001b[0m     \u001b[0;31m# Create the parser.\u001b[0m\u001b[0;34m\u001b[0m\u001b[0;34m\u001b[0m\u001b[0;34m\u001b[0m\u001b[0m\n\u001b[0;32m--> 448\u001b[0;31m     \u001b[0mparser\u001b[0m \u001b[0;34m=\u001b[0m \u001b[0mTextFileReader\u001b[0m\u001b[0;34m(\u001b[0m\u001b[0mfp_or_buf\u001b[0m\u001b[0;34m,\u001b[0m \u001b[0;34m**\u001b[0m\u001b[0mkwds\u001b[0m\u001b[0;34m)\u001b[0m\u001b[0;34m\u001b[0m\u001b[0;34m\u001b[0m\u001b[0m\n\u001b[0m\u001b[1;32m    449\u001b[0m \u001b[0;34m\u001b[0m\u001b[0m\n\u001b[1;32m    450\u001b[0m     \u001b[0;32mif\u001b[0m \u001b[0mchunksize\u001b[0m \u001b[0;32mor\u001b[0m \u001b[0miterator\u001b[0m\u001b[0;34m:\u001b[0m\u001b[0;34m\u001b[0m\u001b[0;34m\u001b[0m\u001b[0m\n",
      "\u001b[0;32m~/anaconda3/lib/python3.7/site-packages/pandas/io/parsers.py\u001b[0m in \u001b[0;36m__init__\u001b[0;34m(self, f, engine, **kwds)\u001b[0m\n\u001b[1;32m    878\u001b[0m             \u001b[0mself\u001b[0m\u001b[0;34m.\u001b[0m\u001b[0moptions\u001b[0m\u001b[0;34m[\u001b[0m\u001b[0;34m\"has_index_names\"\u001b[0m\u001b[0;34m]\u001b[0m \u001b[0;34m=\u001b[0m \u001b[0mkwds\u001b[0m\u001b[0;34m[\u001b[0m\u001b[0;34m\"has_index_names\"\u001b[0m\u001b[0;34m]\u001b[0m\u001b[0;34m\u001b[0m\u001b[0;34m\u001b[0m\u001b[0m\n\u001b[1;32m    879\u001b[0m \u001b[0;34m\u001b[0m\u001b[0m\n\u001b[0;32m--> 880\u001b[0;31m         \u001b[0mself\u001b[0m\u001b[0;34m.\u001b[0m\u001b[0m_make_engine\u001b[0m\u001b[0;34m(\u001b[0m\u001b[0mself\u001b[0m\u001b[0;34m.\u001b[0m\u001b[0mengine\u001b[0m\u001b[0;34m)\u001b[0m\u001b[0;34m\u001b[0m\u001b[0;34m\u001b[0m\u001b[0m\n\u001b[0m\u001b[1;32m    881\u001b[0m \u001b[0;34m\u001b[0m\u001b[0m\n\u001b[1;32m    882\u001b[0m     \u001b[0;32mdef\u001b[0m \u001b[0mclose\u001b[0m\u001b[0;34m(\u001b[0m\u001b[0mself\u001b[0m\u001b[0;34m)\u001b[0m\u001b[0;34m:\u001b[0m\u001b[0;34m\u001b[0m\u001b[0;34m\u001b[0m\u001b[0m\n",
      "\u001b[0;32m~/anaconda3/lib/python3.7/site-packages/pandas/io/parsers.py\u001b[0m in \u001b[0;36m_make_engine\u001b[0;34m(self, engine)\u001b[0m\n\u001b[1;32m   1112\u001b[0m     \u001b[0;32mdef\u001b[0m \u001b[0m_make_engine\u001b[0m\u001b[0;34m(\u001b[0m\u001b[0mself\u001b[0m\u001b[0;34m,\u001b[0m \u001b[0mengine\u001b[0m\u001b[0;34m=\u001b[0m\u001b[0;34m\"c\"\u001b[0m\u001b[0;34m)\u001b[0m\u001b[0;34m:\u001b[0m\u001b[0;34m\u001b[0m\u001b[0;34m\u001b[0m\u001b[0m\n\u001b[1;32m   1113\u001b[0m         \u001b[0;32mif\u001b[0m \u001b[0mengine\u001b[0m \u001b[0;34m==\u001b[0m \u001b[0;34m\"c\"\u001b[0m\u001b[0;34m:\u001b[0m\u001b[0;34m\u001b[0m\u001b[0;34m\u001b[0m\u001b[0m\n\u001b[0;32m-> 1114\u001b[0;31m             \u001b[0mself\u001b[0m\u001b[0;34m.\u001b[0m\u001b[0m_engine\u001b[0m \u001b[0;34m=\u001b[0m \u001b[0mCParserWrapper\u001b[0m\u001b[0;34m(\u001b[0m\u001b[0mself\u001b[0m\u001b[0;34m.\u001b[0m\u001b[0mf\u001b[0m\u001b[0;34m,\u001b[0m \u001b[0;34m**\u001b[0m\u001b[0mself\u001b[0m\u001b[0;34m.\u001b[0m\u001b[0moptions\u001b[0m\u001b[0;34m)\u001b[0m\u001b[0;34m\u001b[0m\u001b[0;34m\u001b[0m\u001b[0m\n\u001b[0m\u001b[1;32m   1115\u001b[0m         \u001b[0;32melse\u001b[0m\u001b[0;34m:\u001b[0m\u001b[0;34m\u001b[0m\u001b[0;34m\u001b[0m\u001b[0m\n\u001b[1;32m   1116\u001b[0m             \u001b[0;32mif\u001b[0m \u001b[0mengine\u001b[0m \u001b[0;34m==\u001b[0m \u001b[0;34m\"python\"\u001b[0m\u001b[0;34m:\u001b[0m\u001b[0;34m\u001b[0m\u001b[0;34m\u001b[0m\u001b[0m\n",
      "\u001b[0;32m~/anaconda3/lib/python3.7/site-packages/pandas/io/parsers.py\u001b[0m in \u001b[0;36m__init__\u001b[0;34m(self, src, **kwds)\u001b[0m\n\u001b[1;32m   1889\u001b[0m         \u001b[0mkwds\u001b[0m\u001b[0;34m[\u001b[0m\u001b[0;34m\"usecols\"\u001b[0m\u001b[0;34m]\u001b[0m \u001b[0;34m=\u001b[0m \u001b[0mself\u001b[0m\u001b[0;34m.\u001b[0m\u001b[0musecols\u001b[0m\u001b[0;34m\u001b[0m\u001b[0;34m\u001b[0m\u001b[0m\n\u001b[1;32m   1890\u001b[0m \u001b[0;34m\u001b[0m\u001b[0m\n\u001b[0;32m-> 1891\u001b[0;31m         \u001b[0mself\u001b[0m\u001b[0;34m.\u001b[0m\u001b[0m_reader\u001b[0m \u001b[0;34m=\u001b[0m \u001b[0mparsers\u001b[0m\u001b[0;34m.\u001b[0m\u001b[0mTextReader\u001b[0m\u001b[0;34m(\u001b[0m\u001b[0msrc\u001b[0m\u001b[0;34m,\u001b[0m \u001b[0;34m**\u001b[0m\u001b[0mkwds\u001b[0m\u001b[0;34m)\u001b[0m\u001b[0;34m\u001b[0m\u001b[0;34m\u001b[0m\u001b[0m\n\u001b[0m\u001b[1;32m   1892\u001b[0m         \u001b[0mself\u001b[0m\u001b[0;34m.\u001b[0m\u001b[0munnamed_cols\u001b[0m \u001b[0;34m=\u001b[0m \u001b[0mself\u001b[0m\u001b[0;34m.\u001b[0m\u001b[0m_reader\u001b[0m\u001b[0;34m.\u001b[0m\u001b[0munnamed_cols\u001b[0m\u001b[0;34m\u001b[0m\u001b[0;34m\u001b[0m\u001b[0m\n\u001b[1;32m   1893\u001b[0m \u001b[0;34m\u001b[0m\u001b[0m\n",
      "\u001b[0;32mpandas/_libs/parsers.pyx\u001b[0m in \u001b[0;36mpandas._libs.parsers.TextReader.__cinit__\u001b[0;34m()\u001b[0m\n",
      "\u001b[0;32mpandas/_libs/parsers.pyx\u001b[0m in \u001b[0;36mpandas._libs.parsers.TextReader._setup_parser_source\u001b[0;34m()\u001b[0m\n",
      "\u001b[0;31mFileNotFoundError\u001b[0m: [Errno 2] File /kaggle/input/rj-sample-datasets/sample-transaction.csv does not exist: '/kaggle/input/rj-sample-datasets/sample-transaction.csv'"
     ]
    }
   ],
   "source": [
    "# 140. \n",
    "\n",
    "\n",
    "df = pd.read_csv(\"/kaggle/input/rj-sample-datasets/sample-transaction.csv\", names = ['date', 'description', 'spent'])\n",
    "\n",
    "# df\n",
    "\n",
    "bins = np.linspace(min(df['spent']), max(df['spent']), 4)\n",
    "# print(bins)\n",
    "groupNames = [\"low\", \"med\", \"high\"]\n",
    "\n",
    "df['spentGroup'] = pd.cut(df['spent'], bins, labels = groupNames, include_lowest = True)\n",
    "print(df)"
   ]
  },
  {
   "cell_type": "code",
   "execution_count": 190,
   "metadata": {},
   "outputs": [
    {
     "data": {
      "text/html": [
       "<div>\n",
       "<style scoped>\n",
       "    .dataframe tbody tr th:only-of-type {\n",
       "        vertical-align: middle;\n",
       "    }\n",
       "\n",
       "    .dataframe tbody tr th {\n",
       "        vertical-align: top;\n",
       "    }\n",
       "\n",
       "    .dataframe thead th {\n",
       "        text-align: right;\n",
       "    }\n",
       "</style>\n",
       "<table border=\"1\" class=\"dataframe\">\n",
       "  <thead>\n",
       "    <tr style=\"text-align: right;\">\n",
       "      <th></th>\n",
       "      <th>Accuracy</th>\n",
       "    </tr>\n",
       "  </thead>\n",
       "  <tbody>\n",
       "    <tr>\n",
       "      <th>Random Classifier</th>\n",
       "      <td>98.893</td>\n",
       "    </tr>\n",
       "    <tr>\n",
       "      <th>KNN</th>\n",
       "      <td>99.343</td>\n",
       "    </tr>\n",
       "  </tbody>\n",
       "</table>\n",
       "</div>"
      ],
      "text/plain": [
       "                   Accuracy\n",
       "Random Classifier    98.893\n",
       "KNN                  99.343"
      ]
     },
     "execution_count": 190,
     "metadata": {},
     "output_type": "execute_result"
    }
   ],
   "source": [
    "# 141. Simple result table with Pandas\n",
    "\n",
    "results = pd.DataFrame(columns = ['Accuracy'])\n",
    "\n",
    "results.loc['Random Classifier'] = 98.893\n",
    "results.loc['KNN'] = 99.343\n",
    "\n",
    "results"
   ]
  },
  {
   "cell_type": "code",
   "execution_count": 191,
   "metadata": {},
   "outputs": [
    {
     "name": "stdout",
     "output_type": "stream",
     "text": [
      "Original:\n",
      "     order_id  year month   item_type\n",
      "0  LEhOc7XSE0  2020    03         car\n",
      "1  LEhOc7XSE0  2020    03       truck\n",
      "2  LEhOc7XSE0  2020    03        bike\n",
      "3  LEhOc7XSE0  2020    03   insurance\n",
      "4  LEhOc7XSE0  2020    03  inspection\n",
      "5  iXC5AfJMox  2020    04         car\n",
      "6  iXC5AfJMox  2020    04       truck\n",
      "7  iXC5AfJMox  2020    04  inspection\n",
      "8  XpLLAySojz  2020    01        bike\n",
      "\n",
      "After:\n",
      "     order_id  year month   item_type  bike_or_car\n",
      "0  LEhOc7XSE0  2020    03         car         True\n",
      "1  LEhOc7XSE0  2020    03       truck        False\n",
      "2  LEhOc7XSE0  2020    03        bike         True\n",
      "3  LEhOc7XSE0  2020    03   insurance        False\n",
      "4  LEhOc7XSE0  2020    03  inspection        False\n",
      "5  iXC5AfJMox  2020    04         car         True\n",
      "6  iXC5AfJMox  2020    04       truck        False\n",
      "7  iXC5AfJMox  2020    04  inspection        False\n",
      "8  XpLLAySojz  2020    01        bike         True\n"
     ]
    }
   ],
   "source": [
    "# 142. isin with multiple conditions\n",
    "\n",
    "df = pd.DataFrame([\n",
    "        ['LEhOc7XSE0','2020', '03', 'car'],\n",
    "        ['LEhOc7XSE0','2020', '03', 'truck'],\n",
    "        ['LEhOc7XSE0','2020', '03', 'bike'],\n",
    "        ['LEhOc7XSE0','2020', '03', 'insurance'],\n",
    "        ['LEhOc7XSE0','2020', '03', 'inspection'],\n",
    "        ['iXC5AfJMox','2020', '04', 'car'],\n",
    "        ['iXC5AfJMox','2020', '04', 'truck'],\n",
    "        ['iXC5AfJMox','2020', '04', 'inspection'],\n",
    "        ['XpLLAySojz','2020', '01', 'bike'],\n",
    "    ], columns=['order_id','year', 'month', 'item_type'])\n",
    "print('Original:')\n",
    "print(df)\n",
    "\n",
    "df['bike_or_car'] = df['item_type'].isin({'bike', 'car'})\n",
    "print('\\nAfter:')\n",
    "print(df)\n"
   ]
  },
  {
   "cell_type": "code",
   "execution_count": 192,
   "metadata": {},
   "outputs": [
    {
     "name": "stdout",
     "output_type": "stream",
     "text": [
      "   student  science  maths  history\n",
      "0    David       90    100       89\n",
      "20   Kevin       98     97       90\n"
     ]
    }
   ],
   "source": [
    "# 143. String to Pandas with python engine and separator\n",
    "\n",
    "from io import StringIO\n",
    "import pandas as pd\n",
    "\n",
    "data = '''            student       science   maths  history\n",
    "0     David       90          100  89\n",
    "20    Kevin       98          97  90\n",
    "'''\n",
    "df = pd.read_csv(StringIO(data), sep='\\s\\s+', engine='python')\n",
    "\n",
    "print(df)"
   ]
  },
  {
   "cell_type": "code",
   "execution_count": 193,
   "metadata": {},
   "outputs": [
    {
     "data": {
      "text/html": [
       "<div>\n",
       "<style scoped>\n",
       "    .dataframe tbody tr th:only-of-type {\n",
       "        vertical-align: middle;\n",
       "    }\n",
       "\n",
       "    .dataframe tbody tr th {\n",
       "        vertical-align: top;\n",
       "    }\n",
       "\n",
       "    .dataframe thead th {\n",
       "        text-align: right;\n",
       "    }\n",
       "</style>\n",
       "<table border=\"1\" class=\"dataframe\">\n",
       "  <thead>\n",
       "    <tr style=\"text-align: right;\">\n",
       "      <th></th>\n",
       "      <th>name</th>\n",
       "      <th>city</th>\n",
       "      <th>count</th>\n",
       "    </tr>\n",
       "  </thead>\n",
       "  <tbody>\n",
       "    <tr>\n",
       "      <th>0</th>\n",
       "      <td>kevin</td>\n",
       "      <td>Toronto</td>\n",
       "      <td>7</td>\n",
       "    </tr>\n",
       "    <tr>\n",
       "      <th>1</th>\n",
       "      <td>james</td>\n",
       "      <td>Montreal</td>\n",
       "      <td>8</td>\n",
       "    </tr>\n",
       "    <tr>\n",
       "      <th>2</th>\n",
       "      <td>kumar</td>\n",
       "      <td>Calgary</td>\n",
       "      <td>9</td>\n",
       "    </tr>\n",
       "    <tr>\n",
       "      <th>3</th>\n",
       "      <td>-</td>\n",
       "      <td>Ottawa</td>\n",
       "      <td>2</td>\n",
       "    </tr>\n",
       "  </tbody>\n",
       "</table>\n",
       "</div>"
      ],
      "text/plain": [
       "    name      city  count\n",
       "0  kevin   Toronto      7\n",
       "1  james  Montreal      8\n",
       "2  kumar   Calgary      9\n",
       "3      -    Ottawa      2"
      ]
     },
     "execution_count": 193,
     "metadata": {},
     "output_type": "execute_result"
    }
   ],
   "source": [
    "# 144.\n",
    "\n",
    "def get_unique_items(df):\n",
    "    \n",
    "    # how many cols are there\n",
    "    cols = df.columns\n",
    "    cols_count = len(df.columns)\n",
    "    # print(cols_count)\n",
    "\n",
    "    unique_max_count = 0\n",
    "    for _col in cols:\n",
    "#         print(_col)\n",
    "        current_col_unique_values = list(df[_col].unique())\n",
    "        list_len = len(current_col_unique_values) \n",
    "        \n",
    "        if(list_len > unique_max_count):\n",
    "            unique_max_count = list_len\n",
    "    \n",
    "    # list of each_cols and unique values\n",
    "    col_unique_values = {}\n",
    "    \n",
    "    for _col in cols:\n",
    "#         print(_col)\n",
    "        current_col_unique_values = list(df[_col].unique())\n",
    "        list_len = len(current_col_unique_values) \n",
    "        \n",
    "        fill_count = 0\n",
    "        if(list_len < unique_max_count):\n",
    "            fill_count = unique_max_count - list_len\n",
    "            \n",
    "            for _ in range(fill_count):\n",
    "                current_col_unique_values.append('-')\n",
    "        \n",
    "        col_unique_values[_col] = current_col_unique_values\n",
    "        \n",
    "    df_new = pd.DataFrame(col_unique_values)\n",
    "    \n",
    "    return df_new\n",
    "\n",
    "users = pd.DataFrame({\n",
    "    \"name\": ['kevin', 'james', 'kumar', 'kevin', 'kevin', 'james'], \n",
    "    \"city\": ['Toronto', 'Montreal', 'Calgary', 'Montreal', 'Montreal', 'Ottawa'],\n",
    "    \"count\" : [7, 8, 9, 2, 7, 8] \n",
    "    \n",
    "}) \n",
    "\n",
    "unique_user_items = get_unique_items(users)\n",
    "\n",
    "unique_user_items"
   ]
  },
  {
   "cell_type": "code",
   "execution_count": null,
   "metadata": {},
   "outputs": [],
   "source": []
  }
 ],
 "metadata": {
  "kernelspec": {
   "display_name": "Python 3",
   "language": "python",
   "name": "python3"
  },
  "language_info": {
   "codemirror_mode": {
    "name": "ipython",
    "version": 3
   },
   "file_extension": ".py",
   "mimetype": "text/x-python",
   "name": "python",
   "nbconvert_exporter": "python",
   "pygments_lexer": "ipython3",
   "version": "3.7.6"
  }
 },
 "nbformat": 4,
 "nbformat_minor": 4
}
